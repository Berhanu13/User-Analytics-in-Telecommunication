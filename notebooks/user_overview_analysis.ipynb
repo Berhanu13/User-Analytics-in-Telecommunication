{
 "cells": [
  {
   "cell_type": "code",
   "execution_count": 51,
   "metadata": {},
   "outputs": [],
   "source": [
    "import sys\n",
    "import pandas as pd\n",
    "import seaborn as sns\n",
    "import matplotlib.pyplot as plt\n",
    "import plotly.express as px\n",
    "import plotly.subplots as sp\n",
    "import plotly.graph_objects as go\n",
    "import numpy as np\n",
    "import pickle\n",
    "from sklearn.decomposition import PCA\n",
    "from sklearn.preprocessing import StandardScaler\n",
    "from data.load_data_from_sql import connect_to_database, read_sql_to_dataframe, close_connection\n",
    "from scripts.cleaner import DataCleaner\n",
    "from scripts.utils import Utils\n",
    "\n",
    "cleaner = DataCleaner()\n",
    "utility = Utils()\n",
    "%matplotlib inline"
   ]
  },
  {
   "cell_type": "code",
   "execution_count": 8,
   "metadata": {},
   "outputs": [],
   "source": [
    "# Function to add the project path to sys.path\n",
    "def add_project_path():\n",
    "    \"\"\"Add the project path to sys.path.\"\"\"\n",
    "    project_path = 'C:\\\\Users\\\\user\\\\Desktop\\\\10 acc\\\\Week 1\\\\User-Analytics-in-Telecom-Industry'\n",
    "    sys.path.append(project_path)"
   ]
  },
  {
   "cell_type": "code",
   "execution_count": 9,
   "metadata": {},
   "outputs": [],
   "source": [
    "# Function to perform the main analysis\n",
    "def main_analysis():\n",
    "    \"\"\"Main function to execute your analysis.\"\"\"\n",
    "    # Add the project path to sys.path\n",
    "    add_project_path()\n",
    "\n",
    "    db_params = {\n",
    "        'dbname': 'week-1',\n",
    "        'user': 'postgres',\n",
    "        'password': 'postgres',\n",
    "        'host': 'localhost',\n",
    "        'port': '5432',\n",
    "    }\n",
    "\n",
    "    # Example query\n",
    "    query = \"SELECT * FROM cleaned_telecom_data;\"\n",
    "\n",
    "    # Connect to the database\n",
    "    conn = connect_to_database(db_params)\n",
    "\n",
    "    # Read results into a Pandas DataFrame\n",
    "    cleaned_df = read_sql_to_dataframe(conn, query)\n",
    "\n",
    "    # Close the database connection\n",
    "    close_connection(conn)\n",
    "\n",
    "\n",
    "    # return the DataFrame\n",
    "    return cleaned_df"
   ]
  },
  {
   "cell_type": "code",
   "execution_count": 10,
   "metadata": {},
   "outputs": [
    {
     "name": "stderr",
     "output_type": "stream",
     "text": [
      "C:\\Users\\user\\Desktop\\10 acc\\Week 1\\User-Analytics-in-Telecom-Industry\\data\\load_data_from_sql.py:21: UserWarning: pandas only supports SQLAlchemy connectable (engine/connection) or database string URI or sqlite3 DBAPI2 connection. Other DBAPI2 objects are not tested. Please consider using SQLAlchemy.\n",
      "  df = pd.read_sql_query(query, conn)\n"
     ]
    },
    {
     "data": {
      "text/html": [
       "<div>\n",
       "<style scoped>\n",
       "    .dataframe tbody tr th:only-of-type {\n",
       "        vertical-align: middle;\n",
       "    }\n",
       "\n",
       "    .dataframe tbody tr th {\n",
       "        vertical-align: top;\n",
       "    }\n",
       "\n",
       "    .dataframe thead th {\n",
       "        text-align: right;\n",
       "    }\n",
       "</style>\n",
       "<table border=\"1\" class=\"dataframe\">\n",
       "  <thead>\n",
       "    <tr style=\"text-align: right;\">\n",
       "      <th></th>\n",
       "      <th>bearer_id</th>\n",
       "      <th>start</th>\n",
       "      <th>start_ms</th>\n",
       "      <th>end</th>\n",
       "      <th>end_ms</th>\n",
       "      <th>dur._(ms)</th>\n",
       "      <th>imsi</th>\n",
       "      <th>msisdn/number</th>\n",
       "      <th>imei</th>\n",
       "      <th>last_location_name</th>\n",
       "      <th>...</th>\n",
       "      <th>youtube_dl_(bytes)</th>\n",
       "      <th>youtube_ul_(bytes)</th>\n",
       "      <th>netflix_dl_(bytes)</th>\n",
       "      <th>netflix_ul_(bytes)</th>\n",
       "      <th>gaming_dl_(bytes)</th>\n",
       "      <th>gaming_ul_(bytes)</th>\n",
       "      <th>other_dl_(bytes)</th>\n",
       "      <th>other_ul_(bytes)</th>\n",
       "      <th>total_ul_(bytes)</th>\n",
       "      <th>total_dl_(bytes)</th>\n",
       "    </tr>\n",
       "  </thead>\n",
       "  <tbody>\n",
       "    <tr>\n",
       "      <th>0</th>\n",
       "      <td>1.311448e+19</td>\n",
       "      <td>2019-04-04 12:01:00</td>\n",
       "      <td>770.0</td>\n",
       "      <td>2019-04-25 14:35:00</td>\n",
       "      <td>662.0</td>\n",
       "      <td>1823652.0</td>\n",
       "      <td>2.082014e+14</td>\n",
       "      <td>3.366496e+10</td>\n",
       "      <td>3.552121e+13</td>\n",
       "      <td>9.16456699548519E+015</td>\n",
       "      <td>...</td>\n",
       "      <td>15854611.0</td>\n",
       "      <td>2501332.0</td>\n",
       "      <td>8198936.0</td>\n",
       "      <td>9656251.0</td>\n",
       "      <td>278082303.0</td>\n",
       "      <td>14344150.0</td>\n",
       "      <td>171744450.0</td>\n",
       "      <td>8814393.0</td>\n",
       "      <td>36749741.0</td>\n",
       "      <td>308879636.0</td>\n",
       "    </tr>\n",
       "    <tr>\n",
       "      <th>1</th>\n",
       "      <td>1.311448e+19</td>\n",
       "      <td>2019-04-09 13:04:00</td>\n",
       "      <td>235.0</td>\n",
       "      <td>2019-04-25 08:15:00</td>\n",
       "      <td>606.0</td>\n",
       "      <td>1365104.0</td>\n",
       "      <td>2.082019e+14</td>\n",
       "      <td>3.368185e+10</td>\n",
       "      <td>3.579401e+13</td>\n",
       "      <td>L77566A</td>\n",
       "      <td>...</td>\n",
       "      <td>20247395.0</td>\n",
       "      <td>19111729.0</td>\n",
       "      <td>18338413.0</td>\n",
       "      <td>17227132.0</td>\n",
       "      <td>608750074.0</td>\n",
       "      <td>1170709.0</td>\n",
       "      <td>526904238.0</td>\n",
       "      <td>15055145.0</td>\n",
       "      <td>53800391.0</td>\n",
       "      <td>653384965.0</td>\n",
       "    </tr>\n",
       "    <tr>\n",
       "      <th>2</th>\n",
       "      <td>1.311448e+19</td>\n",
       "      <td>2019-04-09 17:42:00</td>\n",
       "      <td>1.0</td>\n",
       "      <td>2019-04-25 11:58:00</td>\n",
       "      <td>652.0</td>\n",
       "      <td>1361762.0</td>\n",
       "      <td>2.082003e+14</td>\n",
       "      <td>3.376063e+10</td>\n",
       "      <td>3.528151e+13</td>\n",
       "      <td>D42335A</td>\n",
       "      <td>...</td>\n",
       "      <td>19725661.0</td>\n",
       "      <td>14699576.0</td>\n",
       "      <td>17587794.0</td>\n",
       "      <td>6163408.0</td>\n",
       "      <td>229584621.0</td>\n",
       "      <td>395630.0</td>\n",
       "      <td>410692588.0</td>\n",
       "      <td>4215763.0</td>\n",
       "      <td>27883638.0</td>\n",
       "      <td>279807335.0</td>\n",
       "    </tr>\n",
       "    <tr>\n",
       "      <th>3</th>\n",
       "      <td>1.311448e+19</td>\n",
       "      <td>2019-04-10 00:31:00</td>\n",
       "      <td>486.0</td>\n",
       "      <td>2019-04-25 07:36:00</td>\n",
       "      <td>171.0</td>\n",
       "      <td>1321509.0</td>\n",
       "      <td>2.082014e+14</td>\n",
       "      <td>3.375034e+10</td>\n",
       "      <td>3.535661e+13</td>\n",
       "      <td>T21824A</td>\n",
       "      <td>...</td>\n",
       "      <td>21388122.0</td>\n",
       "      <td>15146643.0</td>\n",
       "      <td>13994646.0</td>\n",
       "      <td>1097942.0</td>\n",
       "      <td>799538153.0</td>\n",
       "      <td>10849722.0</td>\n",
       "      <td>749039933.0</td>\n",
       "      <td>12797283.0</td>\n",
       "      <td>43324218.0</td>\n",
       "      <td>846028530.0</td>\n",
       "    </tr>\n",
       "    <tr>\n",
       "      <th>4</th>\n",
       "      <td>1.311448e+19</td>\n",
       "      <td>2019-04-12 20:10:00</td>\n",
       "      <td>565.0</td>\n",
       "      <td>2019-04-25 10:40:00</td>\n",
       "      <td>954.0</td>\n",
       "      <td>1089009.0</td>\n",
       "      <td>2.082014e+14</td>\n",
       "      <td>3.369980e+10</td>\n",
       "      <td>3.540701e+13</td>\n",
       "      <td>D88865A</td>\n",
       "      <td>...</td>\n",
       "      <td>15259380.0</td>\n",
       "      <td>18962873.0</td>\n",
       "      <td>17124581.0</td>\n",
       "      <td>415218.0</td>\n",
       "      <td>527707248.0</td>\n",
       "      <td>3529801.0</td>\n",
       "      <td>550709500.0</td>\n",
       "      <td>13910322.0</td>\n",
       "      <td>38542814.0</td>\n",
       "      <td>569138589.0</td>\n",
       "    </tr>\n",
       "  </tbody>\n",
       "</table>\n",
       "<p>5 rows × 55 columns</p>\n",
       "</div>"
      ],
      "text/plain": [
       "      bearer_id               start  start_ms                 end  end_ms  \\\n",
       "0  1.311448e+19 2019-04-04 12:01:00     770.0 2019-04-25 14:35:00   662.0   \n",
       "1  1.311448e+19 2019-04-09 13:04:00     235.0 2019-04-25 08:15:00   606.0   \n",
       "2  1.311448e+19 2019-04-09 17:42:00       1.0 2019-04-25 11:58:00   652.0   \n",
       "3  1.311448e+19 2019-04-10 00:31:00     486.0 2019-04-25 07:36:00   171.0   \n",
       "4  1.311448e+19 2019-04-12 20:10:00     565.0 2019-04-25 10:40:00   954.0   \n",
       "\n",
       "   dur._(ms)          imsi  msisdn/number          imei  \\\n",
       "0  1823652.0  2.082014e+14   3.366496e+10  3.552121e+13   \n",
       "1  1365104.0  2.082019e+14   3.368185e+10  3.579401e+13   \n",
       "2  1361762.0  2.082003e+14   3.376063e+10  3.528151e+13   \n",
       "3  1321509.0  2.082014e+14   3.375034e+10  3.535661e+13   \n",
       "4  1089009.0  2.082014e+14   3.369980e+10  3.540701e+13   \n",
       "\n",
       "      last_location_name  ...  youtube_dl_(bytes)  youtube_ul_(bytes)  \\\n",
       "0  9.16456699548519E+015  ...          15854611.0           2501332.0   \n",
       "1                L77566A  ...          20247395.0          19111729.0   \n",
       "2                D42335A  ...          19725661.0          14699576.0   \n",
       "3                T21824A  ...          21388122.0          15146643.0   \n",
       "4                D88865A  ...          15259380.0          18962873.0   \n",
       "\n",
       "   netflix_dl_(bytes)  netflix_ul_(bytes)  gaming_dl_(bytes)  \\\n",
       "0           8198936.0           9656251.0        278082303.0   \n",
       "1          18338413.0          17227132.0        608750074.0   \n",
       "2          17587794.0           6163408.0        229584621.0   \n",
       "3          13994646.0           1097942.0        799538153.0   \n",
       "4          17124581.0            415218.0        527707248.0   \n",
       "\n",
       "   gaming_ul_(bytes)  other_dl_(bytes)  other_ul_(bytes)  total_ul_(bytes)  \\\n",
       "0         14344150.0       171744450.0         8814393.0        36749741.0   \n",
       "1          1170709.0       526904238.0        15055145.0        53800391.0   \n",
       "2           395630.0       410692588.0         4215763.0        27883638.0   \n",
       "3         10849722.0       749039933.0        12797283.0        43324218.0   \n",
       "4          3529801.0       550709500.0        13910322.0        38542814.0   \n",
       "\n",
       "   total_dl_(bytes)  \n",
       "0       308879636.0  \n",
       "1       653384965.0  \n",
       "2       279807335.0  \n",
       "3       846028530.0  \n",
       "4       569138589.0  \n",
       "\n",
       "[5 rows x 55 columns]"
      ]
     },
     "execution_count": 10,
     "metadata": {},
     "output_type": "execute_result"
    }
   ],
   "source": [
    "# Call the main analysis function\n",
    "cleaned_df = main_analysis()\n",
    "cleaned_df.head()"
   ]
  },
  {
   "cell_type": "code",
   "execution_count": 11,
   "metadata": {},
   "outputs": [
    {
     "name": "stdout",
     "output_type": "stream",
     "text": [
      "<class 'pandas.core.frame.DataFrame'>\n",
      "RangeIndex: 150001 entries, 0 to 150000\n",
      "Data columns (total 55 columns):\n",
      " #   Column                                    Non-Null Count   Dtype         \n",
      "---  ------                                    --------------   -----         \n",
      " 0   bearer_id                                 150001 non-null  float64       \n",
      " 1   start                                     150001 non-null  datetime64[ns]\n",
      " 2   start_ms                                  150001 non-null  float64       \n",
      " 3   end                                       150001 non-null  datetime64[ns]\n",
      " 4   end_ms                                    150001 non-null  float64       \n",
      " 5   dur._(ms)                                 150001 non-null  float64       \n",
      " 6   imsi                                      150001 non-null  float64       \n",
      " 7   msisdn/number                             150001 non-null  float64       \n",
      " 8   imei                                      150001 non-null  float64       \n",
      " 9   last_location_name                        150001 non-null  object        \n",
      " 10  avg_rtt_dl_(ms)                           150001 non-null  float64       \n",
      " 11  avg_rtt_ul_(ms)                           150001 non-null  float64       \n",
      " 12  avg_bearer_tp_dl_(kbps)                   150001 non-null  float64       \n",
      " 13  avg_bearer_tp_ul_(kbps)                   150001 non-null  float64       \n",
      " 14  tcp_dl_retrans._vol_(bytes)               150001 non-null  float64       \n",
      " 15  tcp_ul_retrans._vol_(bytes)               150001 non-null  float64       \n",
      " 16  dl_tp_<_50_kbps_(%)                       150001 non-null  float64       \n",
      " 17  50_kbps_<_dl_tp_<_250_kbps_(%)            150001 non-null  float64       \n",
      " 18  250_kbps_<_dl_tp_<_1_mbps_(%)             150001 non-null  float64       \n",
      " 19  dl_tp_>_1_mbps_(%)                        150001 non-null  float64       \n",
      " 20  ul_tp_<_10_kbps_(%)                       150001 non-null  float64       \n",
      " 21  10_kbps_<_ul_tp_<_50_kbps_(%)             150001 non-null  float64       \n",
      " 22  50_kbps_<_ul_tp_<_300_kbps_(%)            150001 non-null  float64       \n",
      " 23  ul_tp_>_300_kbps_(%)                      150001 non-null  float64       \n",
      " 24  http_dl_(bytes)                           150001 non-null  float64       \n",
      " 25  http_ul_(bytes)                           150001 non-null  float64       \n",
      " 26  activity_duration_dl_(ms)                 150001 non-null  float64       \n",
      " 27  activity_duration_ul_(ms)                 150001 non-null  float64       \n",
      " 28  dur._(ms).1                               150001 non-null  float64       \n",
      " 29  handset_manufacturer                      150001 non-null  object        \n",
      " 30  handset_type                              150001 non-null  object        \n",
      " 31  nb_of_sec_with_125000b_<_vol_dl           150001 non-null  float64       \n",
      " 32  nb_of_sec_with_1250b_<_vol_ul_<_6250b     150001 non-null  float64       \n",
      " 33  nb_of_sec_with_31250b_<_vol_dl_<_125000b  150001 non-null  float64       \n",
      " 34  nb_of_sec_with_37500b_<_vol_ul            150001 non-null  float64       \n",
      " 35  nb_of_sec_with_6250b_<_vol_dl_<_31250b    150001 non-null  float64       \n",
      " 36  nb_of_sec_with_6250b_<_vol_ul_<_37500b    150001 non-null  float64       \n",
      " 37  nb_of_sec_with_vol_dl_<_6250b             150001 non-null  float64       \n",
      " 38  nb_of_sec_with_vol_ul_<_1250b             150001 non-null  float64       \n",
      " 39  social_media_dl_(bytes)                   150001 non-null  float64       \n",
      " 40  social_media_ul_(bytes)                   150001 non-null  float64       \n",
      " 41  google_dl_(bytes)                         150001 non-null  float64       \n",
      " 42  google_ul_(bytes)                         150001 non-null  float64       \n",
      " 43  email_dl_(bytes)                          150001 non-null  float64       \n",
      " 44  email_ul_(bytes)                          150001 non-null  float64       \n",
      " 45  youtube_dl_(bytes)                        150001 non-null  float64       \n",
      " 46  youtube_ul_(bytes)                        150001 non-null  float64       \n",
      " 47  netflix_dl_(bytes)                        150001 non-null  float64       \n",
      " 48  netflix_ul_(bytes)                        150001 non-null  float64       \n",
      " 49  gaming_dl_(bytes)                         150001 non-null  float64       \n",
      " 50  gaming_ul_(bytes)                         150001 non-null  float64       \n",
      " 51  other_dl_(bytes)                          150001 non-null  float64       \n",
      " 52  other_ul_(bytes)                          150001 non-null  float64       \n",
      " 53  total_ul_(bytes)                          150001 non-null  float64       \n",
      " 54  total_dl_(bytes)                          150001 non-null  float64       \n",
      "dtypes: datetime64[ns](2), float64(50), object(3)\n",
      "memory usage: 62.9+ MB\n"
     ]
    }
   ],
   "source": [
    "cleaned_df.info()"
   ]
  },
  {
   "cell_type": "code",
   "execution_count": 12,
   "metadata": {},
   "outputs": [
    {
     "data": {
      "text/plain": [
       "bearer_id                                   0\n",
       "start                                       0\n",
       "start_ms                                    0\n",
       "end                                         0\n",
       "end_ms                                      0\n",
       "dur._(ms)                                   0\n",
       "imsi                                        0\n",
       "msisdn/number                               0\n",
       "imei                                        0\n",
       "last_location_name                          0\n",
       "avg_rtt_dl_(ms)                             0\n",
       "avg_rtt_ul_(ms)                             0\n",
       "avg_bearer_tp_dl_(kbps)                     0\n",
       "avg_bearer_tp_ul_(kbps)                     0\n",
       "tcp_dl_retrans._vol_(bytes)                 0\n",
       "tcp_ul_retrans._vol_(bytes)                 0\n",
       "dl_tp_<_50_kbps_(%)                         0\n",
       "50_kbps_<_dl_tp_<_250_kbps_(%)              0\n",
       "250_kbps_<_dl_tp_<_1_mbps_(%)               0\n",
       "dl_tp_>_1_mbps_(%)                          0\n",
       "ul_tp_<_10_kbps_(%)                         0\n",
       "10_kbps_<_ul_tp_<_50_kbps_(%)               0\n",
       "50_kbps_<_ul_tp_<_300_kbps_(%)              0\n",
       "ul_tp_>_300_kbps_(%)                        0\n",
       "http_dl_(bytes)                             0\n",
       "http_ul_(bytes)                             0\n",
       "activity_duration_dl_(ms)                   0\n",
       "activity_duration_ul_(ms)                   0\n",
       "dur._(ms).1                                 0\n",
       "handset_manufacturer                        0\n",
       "handset_type                                0\n",
       "nb_of_sec_with_125000b_<_vol_dl             0\n",
       "nb_of_sec_with_1250b_<_vol_ul_<_6250b       0\n",
       "nb_of_sec_with_31250b_<_vol_dl_<_125000b    0\n",
       "nb_of_sec_with_37500b_<_vol_ul              0\n",
       "nb_of_sec_with_6250b_<_vol_dl_<_31250b      0\n",
       "nb_of_sec_with_6250b_<_vol_ul_<_37500b      0\n",
       "nb_of_sec_with_vol_dl_<_6250b               0\n",
       "nb_of_sec_with_vol_ul_<_1250b               0\n",
       "social_media_dl_(bytes)                     0\n",
       "social_media_ul_(bytes)                     0\n",
       "google_dl_(bytes)                           0\n",
       "google_ul_(bytes)                           0\n",
       "email_dl_(bytes)                            0\n",
       "email_ul_(bytes)                            0\n",
       "youtube_dl_(bytes)                          0\n",
       "youtube_ul_(bytes)                          0\n",
       "netflix_dl_(bytes)                          0\n",
       "netflix_ul_(bytes)                          0\n",
       "gaming_dl_(bytes)                           0\n",
       "gaming_ul_(bytes)                           0\n",
       "other_dl_(bytes)                            0\n",
       "other_ul_(bytes)                            0\n",
       "total_ul_(bytes)                            0\n",
       "total_dl_(bytes)                            0\n",
       "dtype: int64"
      ]
     },
     "execution_count": 12,
     "metadata": {},
     "output_type": "execute_result"
    }
   ],
   "source": [
    "cleaned_df.isnull().sum()"
   ]
  },
  {
   "cell_type": "markdown",
   "metadata": {},
   "source": [
    "### Task 2"
   ]
  },
  {
   "cell_type": "code",
   "execution_count": 13,
   "metadata": {},
   "outputs": [
    {
     "data": {
      "text/plain": [
       "Huawei B528S-23A                20324\n",
       "Apple iPhone 6S (A1688)          9419\n",
       "Apple iPhone 6 (A1586)           9023\n",
       "undefined                        8987\n",
       "Apple iPhone 7 (A1778)           6326\n",
       "Apple iPhone Se (A1723)          5187\n",
       "Apple iPhone 8 (A1905)           4993\n",
       "Apple iPhone Xr (A2105)          4568\n",
       "Samsung Galaxy S8 (Sm-G950F)     4520\n",
       "Apple iPhone X (A1901)           3813\n",
       "Name: handset_type, dtype: int64"
      ]
     },
     "execution_count": 13,
     "metadata": {},
     "output_type": "execute_result"
    }
   ],
   "source": [
    "# top 10 handsets used by the customers\n",
    "cleaned_df[\"handset_type\"].value_counts().head(10)"
   ]
  },
  {
   "cell_type": "code",
   "execution_count": 14,
   "metadata": {},
   "outputs": [
    {
     "data": {
      "application/vnd.plotly.v1+json": {
       "config": {
        "plotlyServerURL": "https://plot.ly"
       },
       "data": [
        {
         "alignmentgroup": "True",
         "hovertemplate": "Handset Type=%{x}<br>Number of Users=%{marker.color}<extra></extra>",
         "legendgroup": "",
         "marker": {
          "color": [
           20324,
           9419,
           9023,
           8987,
           6326,
           5187,
           4993,
           4568,
           4520,
           3813
          ],
          "coloraxis": "coloraxis",
          "pattern": {
           "shape": ""
          }
         },
         "name": "",
         "offsetgroup": "",
         "orientation": "v",
         "showlegend": false,
         "textposition": "auto",
         "type": "bar",
         "x": [
          "Huawei B528S-23A",
          "Apple iPhone 6S (A1688)",
          "Apple iPhone 6 (A1586)",
          "undefined",
          "Apple iPhone 7 (A1778)",
          "Apple iPhone Se (A1723)",
          "Apple iPhone 8 (A1905)",
          "Apple iPhone Xr (A2105)",
          "Samsung Galaxy S8 (Sm-G950F)",
          "Apple iPhone X (A1901)"
         ],
         "xaxis": "x",
         "y": [
          20324,
          9419,
          9023,
          8987,
          6326,
          5187,
          4993,
          4568,
          4520,
          3813
         ],
         "yaxis": "y"
        }
       ],
       "layout": {
        "barmode": "relative",
        "coloraxis": {
         "colorbar": {
          "title": {
           "text": "Number of Users"
          }
         },
         "colorscale": [
          [
           0,
           "#440154"
          ],
          [
           0.1111111111111111,
           "#482878"
          ],
          [
           0.2222222222222222,
           "#3e4989"
          ],
          [
           0.3333333333333333,
           "#31688e"
          ],
          [
           0.4444444444444444,
           "#26828e"
          ],
          [
           0.5555555555555556,
           "#1f9e89"
          ],
          [
           0.6666666666666666,
           "#35b779"
          ],
          [
           0.7777777777777778,
           "#6ece58"
          ],
          [
           0.8888888888888888,
           "#b5de2b"
          ],
          [
           1,
           "#fde725"
          ]
         ]
        },
        "legend": {
         "tracegroupgap": 0
        },
        "template": {
         "data": {
          "bar": [
           {
            "error_x": {
             "color": "#2a3f5f"
            },
            "error_y": {
             "color": "#2a3f5f"
            },
            "marker": {
             "line": {
              "color": "#E5ECF6",
              "width": 0.5
             },
             "pattern": {
              "fillmode": "overlay",
              "size": 10,
              "solidity": 0.2
             }
            },
            "type": "bar"
           }
          ],
          "barpolar": [
           {
            "marker": {
             "line": {
              "color": "#E5ECF6",
              "width": 0.5
             },
             "pattern": {
              "fillmode": "overlay",
              "size": 10,
              "solidity": 0.2
             }
            },
            "type": "barpolar"
           }
          ],
          "carpet": [
           {
            "aaxis": {
             "endlinecolor": "#2a3f5f",
             "gridcolor": "white",
             "linecolor": "white",
             "minorgridcolor": "white",
             "startlinecolor": "#2a3f5f"
            },
            "baxis": {
             "endlinecolor": "#2a3f5f",
             "gridcolor": "white",
             "linecolor": "white",
             "minorgridcolor": "white",
             "startlinecolor": "#2a3f5f"
            },
            "type": "carpet"
           }
          ],
          "choropleth": [
           {
            "colorbar": {
             "outlinewidth": 0,
             "ticks": ""
            },
            "type": "choropleth"
           }
          ],
          "contour": [
           {
            "colorbar": {
             "outlinewidth": 0,
             "ticks": ""
            },
            "colorscale": [
             [
              0,
              "#0d0887"
             ],
             [
              0.1111111111111111,
              "#46039f"
             ],
             [
              0.2222222222222222,
              "#7201a8"
             ],
             [
              0.3333333333333333,
              "#9c179e"
             ],
             [
              0.4444444444444444,
              "#bd3786"
             ],
             [
              0.5555555555555556,
              "#d8576b"
             ],
             [
              0.6666666666666666,
              "#ed7953"
             ],
             [
              0.7777777777777778,
              "#fb9f3a"
             ],
             [
              0.8888888888888888,
              "#fdca26"
             ],
             [
              1,
              "#f0f921"
             ]
            ],
            "type": "contour"
           }
          ],
          "contourcarpet": [
           {
            "colorbar": {
             "outlinewidth": 0,
             "ticks": ""
            },
            "type": "contourcarpet"
           }
          ],
          "heatmap": [
           {
            "colorbar": {
             "outlinewidth": 0,
             "ticks": ""
            },
            "colorscale": [
             [
              0,
              "#0d0887"
             ],
             [
              0.1111111111111111,
              "#46039f"
             ],
             [
              0.2222222222222222,
              "#7201a8"
             ],
             [
              0.3333333333333333,
              "#9c179e"
             ],
             [
              0.4444444444444444,
              "#bd3786"
             ],
             [
              0.5555555555555556,
              "#d8576b"
             ],
             [
              0.6666666666666666,
              "#ed7953"
             ],
             [
              0.7777777777777778,
              "#fb9f3a"
             ],
             [
              0.8888888888888888,
              "#fdca26"
             ],
             [
              1,
              "#f0f921"
             ]
            ],
            "type": "heatmap"
           }
          ],
          "heatmapgl": [
           {
            "colorbar": {
             "outlinewidth": 0,
             "ticks": ""
            },
            "colorscale": [
             [
              0,
              "#0d0887"
             ],
             [
              0.1111111111111111,
              "#46039f"
             ],
             [
              0.2222222222222222,
              "#7201a8"
             ],
             [
              0.3333333333333333,
              "#9c179e"
             ],
             [
              0.4444444444444444,
              "#bd3786"
             ],
             [
              0.5555555555555556,
              "#d8576b"
             ],
             [
              0.6666666666666666,
              "#ed7953"
             ],
             [
              0.7777777777777778,
              "#fb9f3a"
             ],
             [
              0.8888888888888888,
              "#fdca26"
             ],
             [
              1,
              "#f0f921"
             ]
            ],
            "type": "heatmapgl"
           }
          ],
          "histogram": [
           {
            "marker": {
             "pattern": {
              "fillmode": "overlay",
              "size": 10,
              "solidity": 0.2
             }
            },
            "type": "histogram"
           }
          ],
          "histogram2d": [
           {
            "colorbar": {
             "outlinewidth": 0,
             "ticks": ""
            },
            "colorscale": [
             [
              0,
              "#0d0887"
             ],
             [
              0.1111111111111111,
              "#46039f"
             ],
             [
              0.2222222222222222,
              "#7201a8"
             ],
             [
              0.3333333333333333,
              "#9c179e"
             ],
             [
              0.4444444444444444,
              "#bd3786"
             ],
             [
              0.5555555555555556,
              "#d8576b"
             ],
             [
              0.6666666666666666,
              "#ed7953"
             ],
             [
              0.7777777777777778,
              "#fb9f3a"
             ],
             [
              0.8888888888888888,
              "#fdca26"
             ],
             [
              1,
              "#f0f921"
             ]
            ],
            "type": "histogram2d"
           }
          ],
          "histogram2dcontour": [
           {
            "colorbar": {
             "outlinewidth": 0,
             "ticks": ""
            },
            "colorscale": [
             [
              0,
              "#0d0887"
             ],
             [
              0.1111111111111111,
              "#46039f"
             ],
             [
              0.2222222222222222,
              "#7201a8"
             ],
             [
              0.3333333333333333,
              "#9c179e"
             ],
             [
              0.4444444444444444,
              "#bd3786"
             ],
             [
              0.5555555555555556,
              "#d8576b"
             ],
             [
              0.6666666666666666,
              "#ed7953"
             ],
             [
              0.7777777777777778,
              "#fb9f3a"
             ],
             [
              0.8888888888888888,
              "#fdca26"
             ],
             [
              1,
              "#f0f921"
             ]
            ],
            "type": "histogram2dcontour"
           }
          ],
          "mesh3d": [
           {
            "colorbar": {
             "outlinewidth": 0,
             "ticks": ""
            },
            "type": "mesh3d"
           }
          ],
          "parcoords": [
           {
            "line": {
             "colorbar": {
              "outlinewidth": 0,
              "ticks": ""
             }
            },
            "type": "parcoords"
           }
          ],
          "pie": [
           {
            "automargin": true,
            "type": "pie"
           }
          ],
          "scatter": [
           {
            "fillpattern": {
             "fillmode": "overlay",
             "size": 10,
             "solidity": 0.2
            },
            "type": "scatter"
           }
          ],
          "scatter3d": [
           {
            "line": {
             "colorbar": {
              "outlinewidth": 0,
              "ticks": ""
             }
            },
            "marker": {
             "colorbar": {
              "outlinewidth": 0,
              "ticks": ""
             }
            },
            "type": "scatter3d"
           }
          ],
          "scattercarpet": [
           {
            "marker": {
             "colorbar": {
              "outlinewidth": 0,
              "ticks": ""
             }
            },
            "type": "scattercarpet"
           }
          ],
          "scattergeo": [
           {
            "marker": {
             "colorbar": {
              "outlinewidth": 0,
              "ticks": ""
             }
            },
            "type": "scattergeo"
           }
          ],
          "scattergl": [
           {
            "marker": {
             "colorbar": {
              "outlinewidth": 0,
              "ticks": ""
             }
            },
            "type": "scattergl"
           }
          ],
          "scattermapbox": [
           {
            "marker": {
             "colorbar": {
              "outlinewidth": 0,
              "ticks": ""
             }
            },
            "type": "scattermapbox"
           }
          ],
          "scatterpolar": [
           {
            "marker": {
             "colorbar": {
              "outlinewidth": 0,
              "ticks": ""
             }
            },
            "type": "scatterpolar"
           }
          ],
          "scatterpolargl": [
           {
            "marker": {
             "colorbar": {
              "outlinewidth": 0,
              "ticks": ""
             }
            },
            "type": "scatterpolargl"
           }
          ],
          "scatterternary": [
           {
            "marker": {
             "colorbar": {
              "outlinewidth": 0,
              "ticks": ""
             }
            },
            "type": "scatterternary"
           }
          ],
          "surface": [
           {
            "colorbar": {
             "outlinewidth": 0,
             "ticks": ""
            },
            "colorscale": [
             [
              0,
              "#0d0887"
             ],
             [
              0.1111111111111111,
              "#46039f"
             ],
             [
              0.2222222222222222,
              "#7201a8"
             ],
             [
              0.3333333333333333,
              "#9c179e"
             ],
             [
              0.4444444444444444,
              "#bd3786"
             ],
             [
              0.5555555555555556,
              "#d8576b"
             ],
             [
              0.6666666666666666,
              "#ed7953"
             ],
             [
              0.7777777777777778,
              "#fb9f3a"
             ],
             [
              0.8888888888888888,
              "#fdca26"
             ],
             [
              1,
              "#f0f921"
             ]
            ],
            "type": "surface"
           }
          ],
          "table": [
           {
            "cells": {
             "fill": {
              "color": "#EBF0F8"
             },
             "line": {
              "color": "white"
             }
            },
            "header": {
             "fill": {
              "color": "#C8D4E3"
             },
             "line": {
              "color": "white"
             }
            },
            "type": "table"
           }
          ]
         },
         "layout": {
          "annotationdefaults": {
           "arrowcolor": "#2a3f5f",
           "arrowhead": 0,
           "arrowwidth": 1
          },
          "autotypenumbers": "strict",
          "coloraxis": {
           "colorbar": {
            "outlinewidth": 0,
            "ticks": ""
           }
          },
          "colorscale": {
           "diverging": [
            [
             0,
             "#8e0152"
            ],
            [
             0.1,
             "#c51b7d"
            ],
            [
             0.2,
             "#de77ae"
            ],
            [
             0.3,
             "#f1b6da"
            ],
            [
             0.4,
             "#fde0ef"
            ],
            [
             0.5,
             "#f7f7f7"
            ],
            [
             0.6,
             "#e6f5d0"
            ],
            [
             0.7,
             "#b8e186"
            ],
            [
             0.8,
             "#7fbc41"
            ],
            [
             0.9,
             "#4d9221"
            ],
            [
             1,
             "#276419"
            ]
           ],
           "sequential": [
            [
             0,
             "#0d0887"
            ],
            [
             0.1111111111111111,
             "#46039f"
            ],
            [
             0.2222222222222222,
             "#7201a8"
            ],
            [
             0.3333333333333333,
             "#9c179e"
            ],
            [
             0.4444444444444444,
             "#bd3786"
            ],
            [
             0.5555555555555556,
             "#d8576b"
            ],
            [
             0.6666666666666666,
             "#ed7953"
            ],
            [
             0.7777777777777778,
             "#fb9f3a"
            ],
            [
             0.8888888888888888,
             "#fdca26"
            ],
            [
             1,
             "#f0f921"
            ]
           ],
           "sequentialminus": [
            [
             0,
             "#0d0887"
            ],
            [
             0.1111111111111111,
             "#46039f"
            ],
            [
             0.2222222222222222,
             "#7201a8"
            ],
            [
             0.3333333333333333,
             "#9c179e"
            ],
            [
             0.4444444444444444,
             "#bd3786"
            ],
            [
             0.5555555555555556,
             "#d8576b"
            ],
            [
             0.6666666666666666,
             "#ed7953"
            ],
            [
             0.7777777777777778,
             "#fb9f3a"
            ],
            [
             0.8888888888888888,
             "#fdca26"
            ],
            [
             1,
             "#f0f921"
            ]
           ]
          },
          "colorway": [
           "#636efa",
           "#EF553B",
           "#00cc96",
           "#ab63fa",
           "#FFA15A",
           "#19d3f3",
           "#FF6692",
           "#B6E880",
           "#FF97FF",
           "#FECB52"
          ],
          "font": {
           "color": "#2a3f5f"
          },
          "geo": {
           "bgcolor": "white",
           "lakecolor": "white",
           "landcolor": "#E5ECF6",
           "showlakes": true,
           "showland": true,
           "subunitcolor": "white"
          },
          "hoverlabel": {
           "align": "left"
          },
          "hovermode": "closest",
          "mapbox": {
           "style": "light"
          },
          "paper_bgcolor": "white",
          "plot_bgcolor": "#E5ECF6",
          "polar": {
           "angularaxis": {
            "gridcolor": "white",
            "linecolor": "white",
            "ticks": ""
           },
           "bgcolor": "#E5ECF6",
           "radialaxis": {
            "gridcolor": "white",
            "linecolor": "white",
            "ticks": ""
           }
          },
          "scene": {
           "xaxis": {
            "backgroundcolor": "#E5ECF6",
            "gridcolor": "white",
            "gridwidth": 2,
            "linecolor": "white",
            "showbackground": true,
            "ticks": "",
            "zerolinecolor": "white"
           },
           "yaxis": {
            "backgroundcolor": "#E5ECF6",
            "gridcolor": "white",
            "gridwidth": 2,
            "linecolor": "white",
            "showbackground": true,
            "ticks": "",
            "zerolinecolor": "white"
           },
           "zaxis": {
            "backgroundcolor": "#E5ECF6",
            "gridcolor": "white",
            "gridwidth": 2,
            "linecolor": "white",
            "showbackground": true,
            "ticks": "",
            "zerolinecolor": "white"
           }
          },
          "shapedefaults": {
           "line": {
            "color": "#2a3f5f"
           }
          },
          "ternary": {
           "aaxis": {
            "gridcolor": "white",
            "linecolor": "white",
            "ticks": ""
           },
           "baxis": {
            "gridcolor": "white",
            "linecolor": "white",
            "ticks": ""
           },
           "bgcolor": "#E5ECF6",
           "caxis": {
            "gridcolor": "white",
            "linecolor": "white",
            "ticks": ""
           }
          },
          "title": {
           "x": 0.05
          },
          "xaxis": {
           "automargin": true,
           "gridcolor": "white",
           "linecolor": "white",
           "ticks": "",
           "title": {
            "standoff": 15
           },
           "zerolinecolor": "white",
           "zerolinewidth": 2
          },
          "yaxis": {
           "automargin": true,
           "gridcolor": "white",
           "linecolor": "white",
           "ticks": "",
           "title": {
            "standoff": 15
           },
           "zerolinecolor": "white",
           "zerolinewidth": 2
          }
         }
        },
        "title": {
         "text": "Top 10 Handsets Used"
        },
        "xaxis": {
         "anchor": "y",
         "domain": [
          0,
          1
         ],
         "title": {
          "text": "Handset Type"
         }
        },
        "yaxis": {
         "anchor": "x",
         "domain": [
          0,
          1
         ],
         "title": {
          "text": "Number of Users"
         }
        }
       }
      }
     },
     "metadata": {},
     "output_type": "display_data"
    }
   ],
   "source": [
    "# using 'cleaned_df' DataFrame and 'handset_type' column\n",
    "top_handsets = cleaned_df[\"handset_type\"].value_counts().head(10)\n",
    "\n",
    "# Creating a DataFrame from the series\n",
    "top_handsets_df = top_handsets.reset_index()\n",
    "top_handsets_df.columns = ['Handset Type', 'Count']\n",
    "\n",
    "# Creating an interactive bar plot using Plotly Express\n",
    "fig = px.bar(top_handsets_df, x='Handset Type', y='Count', title='Top 10 Handsets Used',\n",
    "             labels={'Count': 'Number of Users', 'Handset Type': 'Handset Type'},\n",
    "             color='Count', color_continuous_scale=px.colors.sequential.Viridis)\n",
    "\n",
    "# Displaying the plot\n",
    "fig.show()\n"
   ]
  },
  {
   "cell_type": "code",
   "execution_count": 15,
   "metadata": {},
   "outputs": [
    {
     "data": {
      "text/plain": [
       "Apple      60137\n",
       "Samsung    40839\n",
       "Huawei     34423\n",
       "Name: handset_manufacturer, dtype: int64"
      ]
     },
     "execution_count": 15,
     "metadata": {},
     "output_type": "execute_result"
    }
   ],
   "source": [
    "# top 3 handset manufacturers\n",
    "cleaned_df[\"handset_manufacturer\"].value_counts().head(3)"
   ]
  },
  {
   "cell_type": "code",
   "execution_count": 16,
   "metadata": {},
   "outputs": [
    {
     "data": {
      "application/vnd.plotly.v1+json": {
       "config": {
        "plotlyServerURL": "https://plot.ly"
       },
       "data": [
        {
         "domain": {
          "x": [
           0,
           1
          ],
          "y": [
           0,
           1
          ]
         },
         "hovertemplate": "Manufacturer=%{label}<br>Count=%{value}<extra></extra>",
         "labels": [
          "Apple",
          "Samsung",
          "Huawei"
         ],
         "legendgroup": "",
         "name": "",
         "showlegend": true,
         "type": "pie",
         "values": [
          60137,
          40839,
          34423
         ]
        }
       ],
       "layout": {
        "legend": {
         "tracegroupgap": 0
        },
        "template": {
         "data": {
          "bar": [
           {
            "error_x": {
             "color": "#2a3f5f"
            },
            "error_y": {
             "color": "#2a3f5f"
            },
            "marker": {
             "line": {
              "color": "#E5ECF6",
              "width": 0.5
             },
             "pattern": {
              "fillmode": "overlay",
              "size": 10,
              "solidity": 0.2
             }
            },
            "type": "bar"
           }
          ],
          "barpolar": [
           {
            "marker": {
             "line": {
              "color": "#E5ECF6",
              "width": 0.5
             },
             "pattern": {
              "fillmode": "overlay",
              "size": 10,
              "solidity": 0.2
             }
            },
            "type": "barpolar"
           }
          ],
          "carpet": [
           {
            "aaxis": {
             "endlinecolor": "#2a3f5f",
             "gridcolor": "white",
             "linecolor": "white",
             "minorgridcolor": "white",
             "startlinecolor": "#2a3f5f"
            },
            "baxis": {
             "endlinecolor": "#2a3f5f",
             "gridcolor": "white",
             "linecolor": "white",
             "minorgridcolor": "white",
             "startlinecolor": "#2a3f5f"
            },
            "type": "carpet"
           }
          ],
          "choropleth": [
           {
            "colorbar": {
             "outlinewidth": 0,
             "ticks": ""
            },
            "type": "choropleth"
           }
          ],
          "contour": [
           {
            "colorbar": {
             "outlinewidth": 0,
             "ticks": ""
            },
            "colorscale": [
             [
              0,
              "#0d0887"
             ],
             [
              0.1111111111111111,
              "#46039f"
             ],
             [
              0.2222222222222222,
              "#7201a8"
             ],
             [
              0.3333333333333333,
              "#9c179e"
             ],
             [
              0.4444444444444444,
              "#bd3786"
             ],
             [
              0.5555555555555556,
              "#d8576b"
             ],
             [
              0.6666666666666666,
              "#ed7953"
             ],
             [
              0.7777777777777778,
              "#fb9f3a"
             ],
             [
              0.8888888888888888,
              "#fdca26"
             ],
             [
              1,
              "#f0f921"
             ]
            ],
            "type": "contour"
           }
          ],
          "contourcarpet": [
           {
            "colorbar": {
             "outlinewidth": 0,
             "ticks": ""
            },
            "type": "contourcarpet"
           }
          ],
          "heatmap": [
           {
            "colorbar": {
             "outlinewidth": 0,
             "ticks": ""
            },
            "colorscale": [
             [
              0,
              "#0d0887"
             ],
             [
              0.1111111111111111,
              "#46039f"
             ],
             [
              0.2222222222222222,
              "#7201a8"
             ],
             [
              0.3333333333333333,
              "#9c179e"
             ],
             [
              0.4444444444444444,
              "#bd3786"
             ],
             [
              0.5555555555555556,
              "#d8576b"
             ],
             [
              0.6666666666666666,
              "#ed7953"
             ],
             [
              0.7777777777777778,
              "#fb9f3a"
             ],
             [
              0.8888888888888888,
              "#fdca26"
             ],
             [
              1,
              "#f0f921"
             ]
            ],
            "type": "heatmap"
           }
          ],
          "heatmapgl": [
           {
            "colorbar": {
             "outlinewidth": 0,
             "ticks": ""
            },
            "colorscale": [
             [
              0,
              "#0d0887"
             ],
             [
              0.1111111111111111,
              "#46039f"
             ],
             [
              0.2222222222222222,
              "#7201a8"
             ],
             [
              0.3333333333333333,
              "#9c179e"
             ],
             [
              0.4444444444444444,
              "#bd3786"
             ],
             [
              0.5555555555555556,
              "#d8576b"
             ],
             [
              0.6666666666666666,
              "#ed7953"
             ],
             [
              0.7777777777777778,
              "#fb9f3a"
             ],
             [
              0.8888888888888888,
              "#fdca26"
             ],
             [
              1,
              "#f0f921"
             ]
            ],
            "type": "heatmapgl"
           }
          ],
          "histogram": [
           {
            "marker": {
             "pattern": {
              "fillmode": "overlay",
              "size": 10,
              "solidity": 0.2
             }
            },
            "type": "histogram"
           }
          ],
          "histogram2d": [
           {
            "colorbar": {
             "outlinewidth": 0,
             "ticks": ""
            },
            "colorscale": [
             [
              0,
              "#0d0887"
             ],
             [
              0.1111111111111111,
              "#46039f"
             ],
             [
              0.2222222222222222,
              "#7201a8"
             ],
             [
              0.3333333333333333,
              "#9c179e"
             ],
             [
              0.4444444444444444,
              "#bd3786"
             ],
             [
              0.5555555555555556,
              "#d8576b"
             ],
             [
              0.6666666666666666,
              "#ed7953"
             ],
             [
              0.7777777777777778,
              "#fb9f3a"
             ],
             [
              0.8888888888888888,
              "#fdca26"
             ],
             [
              1,
              "#f0f921"
             ]
            ],
            "type": "histogram2d"
           }
          ],
          "histogram2dcontour": [
           {
            "colorbar": {
             "outlinewidth": 0,
             "ticks": ""
            },
            "colorscale": [
             [
              0,
              "#0d0887"
             ],
             [
              0.1111111111111111,
              "#46039f"
             ],
             [
              0.2222222222222222,
              "#7201a8"
             ],
             [
              0.3333333333333333,
              "#9c179e"
             ],
             [
              0.4444444444444444,
              "#bd3786"
             ],
             [
              0.5555555555555556,
              "#d8576b"
             ],
             [
              0.6666666666666666,
              "#ed7953"
             ],
             [
              0.7777777777777778,
              "#fb9f3a"
             ],
             [
              0.8888888888888888,
              "#fdca26"
             ],
             [
              1,
              "#f0f921"
             ]
            ],
            "type": "histogram2dcontour"
           }
          ],
          "mesh3d": [
           {
            "colorbar": {
             "outlinewidth": 0,
             "ticks": ""
            },
            "type": "mesh3d"
           }
          ],
          "parcoords": [
           {
            "line": {
             "colorbar": {
              "outlinewidth": 0,
              "ticks": ""
             }
            },
            "type": "parcoords"
           }
          ],
          "pie": [
           {
            "automargin": true,
            "type": "pie"
           }
          ],
          "scatter": [
           {
            "fillpattern": {
             "fillmode": "overlay",
             "size": 10,
             "solidity": 0.2
            },
            "type": "scatter"
           }
          ],
          "scatter3d": [
           {
            "line": {
             "colorbar": {
              "outlinewidth": 0,
              "ticks": ""
             }
            },
            "marker": {
             "colorbar": {
              "outlinewidth": 0,
              "ticks": ""
             }
            },
            "type": "scatter3d"
           }
          ],
          "scattercarpet": [
           {
            "marker": {
             "colorbar": {
              "outlinewidth": 0,
              "ticks": ""
             }
            },
            "type": "scattercarpet"
           }
          ],
          "scattergeo": [
           {
            "marker": {
             "colorbar": {
              "outlinewidth": 0,
              "ticks": ""
             }
            },
            "type": "scattergeo"
           }
          ],
          "scattergl": [
           {
            "marker": {
             "colorbar": {
              "outlinewidth": 0,
              "ticks": ""
             }
            },
            "type": "scattergl"
           }
          ],
          "scattermapbox": [
           {
            "marker": {
             "colorbar": {
              "outlinewidth": 0,
              "ticks": ""
             }
            },
            "type": "scattermapbox"
           }
          ],
          "scatterpolar": [
           {
            "marker": {
             "colorbar": {
              "outlinewidth": 0,
              "ticks": ""
             }
            },
            "type": "scatterpolar"
           }
          ],
          "scatterpolargl": [
           {
            "marker": {
             "colorbar": {
              "outlinewidth": 0,
              "ticks": ""
             }
            },
            "type": "scatterpolargl"
           }
          ],
          "scatterternary": [
           {
            "marker": {
             "colorbar": {
              "outlinewidth": 0,
              "ticks": ""
             }
            },
            "type": "scatterternary"
           }
          ],
          "surface": [
           {
            "colorbar": {
             "outlinewidth": 0,
             "ticks": ""
            },
            "colorscale": [
             [
              0,
              "#0d0887"
             ],
             [
              0.1111111111111111,
              "#46039f"
             ],
             [
              0.2222222222222222,
              "#7201a8"
             ],
             [
              0.3333333333333333,
              "#9c179e"
             ],
             [
              0.4444444444444444,
              "#bd3786"
             ],
             [
              0.5555555555555556,
              "#d8576b"
             ],
             [
              0.6666666666666666,
              "#ed7953"
             ],
             [
              0.7777777777777778,
              "#fb9f3a"
             ],
             [
              0.8888888888888888,
              "#fdca26"
             ],
             [
              1,
              "#f0f921"
             ]
            ],
            "type": "surface"
           }
          ],
          "table": [
           {
            "cells": {
             "fill": {
              "color": "#EBF0F8"
             },
             "line": {
              "color": "white"
             }
            },
            "header": {
             "fill": {
              "color": "#C8D4E3"
             },
             "line": {
              "color": "white"
             }
            },
            "type": "table"
           }
          ]
         },
         "layout": {
          "annotationdefaults": {
           "arrowcolor": "#2a3f5f",
           "arrowhead": 0,
           "arrowwidth": 1
          },
          "autotypenumbers": "strict",
          "coloraxis": {
           "colorbar": {
            "outlinewidth": 0,
            "ticks": ""
           }
          },
          "colorscale": {
           "diverging": [
            [
             0,
             "#8e0152"
            ],
            [
             0.1,
             "#c51b7d"
            ],
            [
             0.2,
             "#de77ae"
            ],
            [
             0.3,
             "#f1b6da"
            ],
            [
             0.4,
             "#fde0ef"
            ],
            [
             0.5,
             "#f7f7f7"
            ],
            [
             0.6,
             "#e6f5d0"
            ],
            [
             0.7,
             "#b8e186"
            ],
            [
             0.8,
             "#7fbc41"
            ],
            [
             0.9,
             "#4d9221"
            ],
            [
             1,
             "#276419"
            ]
           ],
           "sequential": [
            [
             0,
             "#0d0887"
            ],
            [
             0.1111111111111111,
             "#46039f"
            ],
            [
             0.2222222222222222,
             "#7201a8"
            ],
            [
             0.3333333333333333,
             "#9c179e"
            ],
            [
             0.4444444444444444,
             "#bd3786"
            ],
            [
             0.5555555555555556,
             "#d8576b"
            ],
            [
             0.6666666666666666,
             "#ed7953"
            ],
            [
             0.7777777777777778,
             "#fb9f3a"
            ],
            [
             0.8888888888888888,
             "#fdca26"
            ],
            [
             1,
             "#f0f921"
            ]
           ],
           "sequentialminus": [
            [
             0,
             "#0d0887"
            ],
            [
             0.1111111111111111,
             "#46039f"
            ],
            [
             0.2222222222222222,
             "#7201a8"
            ],
            [
             0.3333333333333333,
             "#9c179e"
            ],
            [
             0.4444444444444444,
             "#bd3786"
            ],
            [
             0.5555555555555556,
             "#d8576b"
            ],
            [
             0.6666666666666666,
             "#ed7953"
            ],
            [
             0.7777777777777778,
             "#fb9f3a"
            ],
            [
             0.8888888888888888,
             "#fdca26"
            ],
            [
             1,
             "#f0f921"
            ]
           ]
          },
          "colorway": [
           "#636efa",
           "#EF553B",
           "#00cc96",
           "#ab63fa",
           "#FFA15A",
           "#19d3f3",
           "#FF6692",
           "#B6E880",
           "#FF97FF",
           "#FECB52"
          ],
          "font": {
           "color": "#2a3f5f"
          },
          "geo": {
           "bgcolor": "white",
           "lakecolor": "white",
           "landcolor": "#E5ECF6",
           "showlakes": true,
           "showland": true,
           "subunitcolor": "white"
          },
          "hoverlabel": {
           "align": "left"
          },
          "hovermode": "closest",
          "mapbox": {
           "style": "light"
          },
          "paper_bgcolor": "white",
          "plot_bgcolor": "#E5ECF6",
          "polar": {
           "angularaxis": {
            "gridcolor": "white",
            "linecolor": "white",
            "ticks": ""
           },
           "bgcolor": "#E5ECF6",
           "radialaxis": {
            "gridcolor": "white",
            "linecolor": "white",
            "ticks": ""
           }
          },
          "scene": {
           "xaxis": {
            "backgroundcolor": "#E5ECF6",
            "gridcolor": "white",
            "gridwidth": 2,
            "linecolor": "white",
            "showbackground": true,
            "ticks": "",
            "zerolinecolor": "white"
           },
           "yaxis": {
            "backgroundcolor": "#E5ECF6",
            "gridcolor": "white",
            "gridwidth": 2,
            "linecolor": "white",
            "showbackground": true,
            "ticks": "",
            "zerolinecolor": "white"
           },
           "zaxis": {
            "backgroundcolor": "#E5ECF6",
            "gridcolor": "white",
            "gridwidth": 2,
            "linecolor": "white",
            "showbackground": true,
            "ticks": "",
            "zerolinecolor": "white"
           }
          },
          "shapedefaults": {
           "line": {
            "color": "#2a3f5f"
           }
          },
          "ternary": {
           "aaxis": {
            "gridcolor": "white",
            "linecolor": "white",
            "ticks": ""
           },
           "baxis": {
            "gridcolor": "white",
            "linecolor": "white",
            "ticks": ""
           },
           "bgcolor": "#E5ECF6",
           "caxis": {
            "gridcolor": "white",
            "linecolor": "white",
            "ticks": ""
           }
          },
          "title": {
           "x": 0.05
          },
          "xaxis": {
           "automargin": true,
           "gridcolor": "white",
           "linecolor": "white",
           "ticks": "",
           "title": {
            "standoff": 15
           },
           "zerolinecolor": "white",
           "zerolinewidth": 2
          },
          "yaxis": {
           "automargin": true,
           "gridcolor": "white",
           "linecolor": "white",
           "ticks": "",
           "title": {
            "standoff": 15
           },
           "zerolinecolor": "white",
           "zerolinewidth": 2
          }
         }
        },
        "title": {
         "text": "Top 3 Handset Manufacturers"
        }
       }
      }
     },
     "metadata": {},
     "output_type": "display_data"
    }
   ],
   "source": [
    "# using 'cleaned_df' DataFrame and 'handset_manufacturer' column\n",
    "top_manufacturers = cleaned_df[\"handset_manufacturer\"].value_counts().head(3)\n",
    "\n",
    "# Creating a DataFrame from the series\n",
    "top_manufacturers_df = top_manufacturers.reset_index()\n",
    "top_manufacturers_df.columns = ['Manufacturer', 'Count']\n",
    "\n",
    "# Creating an interactive pie chart using Plotly Express\n",
    "fig = px.pie(top_manufacturers_df, values='Count', names='Manufacturer', title='Top 3 Handset Manufacturers')\n",
    "\n",
    "# Displaying the plot\n",
    "fig.show()"
   ]
  },
  {
   "cell_type": "code",
   "execution_count": 17,
   "metadata": {},
   "outputs": [
    {
     "data": {
      "text/html": [
       "<div>\n",
       "<style scoped>\n",
       "    .dataframe tbody tr th:only-of-type {\n",
       "        vertical-align: middle;\n",
       "    }\n",
       "\n",
       "    .dataframe tbody tr th {\n",
       "        vertical-align: top;\n",
       "    }\n",
       "\n",
       "    .dataframe thead th {\n",
       "        text-align: right;\n",
       "    }\n",
       "</style>\n",
       "<table border=\"1\" class=\"dataframe\">\n",
       "  <thead>\n",
       "    <tr style=\"text-align: right;\">\n",
       "      <th></th>\n",
       "      <th>handset_manufacturer</th>\n",
       "      <th>handset_type</th>\n",
       "    </tr>\n",
       "  </thead>\n",
       "  <tbody>\n",
       "    <tr>\n",
       "      <th>0</th>\n",
       "      <td>Samsung</td>\n",
       "      <td>Samsung Galaxy A5 Sm-A520F</td>\n",
       "    </tr>\n",
       "    <tr>\n",
       "      <th>1</th>\n",
       "      <td>Samsung</td>\n",
       "      <td>Samsung Galaxy J5 (Sm-J530)</td>\n",
       "    </tr>\n",
       "    <tr>\n",
       "      <th>2</th>\n",
       "      <td>Samsung</td>\n",
       "      <td>Samsung Galaxy A8 (2018)</td>\n",
       "    </tr>\n",
       "    <tr>\n",
       "      <th>4</th>\n",
       "      <td>Samsung</td>\n",
       "      <td>Samsung Sm-G390F</td>\n",
       "    </tr>\n",
       "    <tr>\n",
       "      <th>6</th>\n",
       "      <td>Huawei</td>\n",
       "      <td>Huawei Mate 20 Lite</td>\n",
       "    </tr>\n",
       "    <tr>\n",
       "      <th>...</th>\n",
       "      <td>...</td>\n",
       "      <td>...</td>\n",
       "    </tr>\n",
       "    <tr>\n",
       "      <th>149996</th>\n",
       "      <td>Apple</td>\n",
       "      <td>Apple iPhone 8 Plus (A1897)</td>\n",
       "    </tr>\n",
       "    <tr>\n",
       "      <th>149997</th>\n",
       "      <td>Apple</td>\n",
       "      <td>Apple iPhone Se (A1723)</td>\n",
       "    </tr>\n",
       "    <tr>\n",
       "      <th>149998</th>\n",
       "      <td>Apple</td>\n",
       "      <td>Apple iPhone Xs (A2097)</td>\n",
       "    </tr>\n",
       "    <tr>\n",
       "      <th>149999</th>\n",
       "      <td>Huawei</td>\n",
       "      <td>Huawei Fig-Lx1</td>\n",
       "    </tr>\n",
       "    <tr>\n",
       "      <th>150000</th>\n",
       "      <td>Apple</td>\n",
       "      <td>Huawei B528S-23A</td>\n",
       "    </tr>\n",
       "  </tbody>\n",
       "</table>\n",
       "<p>135399 rows × 2 columns</p>\n",
       "</div>"
      ],
      "text/plain": [
       "       handset_manufacturer                 handset_type\n",
       "0                   Samsung   Samsung Galaxy A5 Sm-A520F\n",
       "1                   Samsung  Samsung Galaxy J5 (Sm-J530)\n",
       "2                   Samsung     Samsung Galaxy A8 (2018)\n",
       "4                   Samsung             Samsung Sm-G390F\n",
       "6                    Huawei          Huawei Mate 20 Lite\n",
       "...                     ...                          ...\n",
       "149996                Apple  Apple iPhone 8 Plus (A1897)\n",
       "149997                Apple      Apple iPhone Se (A1723)\n",
       "149998                Apple      Apple iPhone Xs (A2097)\n",
       "149999               Huawei               Huawei Fig-Lx1\n",
       "150000                Apple             Huawei B528S-23A\n",
       "\n",
       "[135399 rows x 2 columns]"
      ]
     },
     "execution_count": 17,
     "metadata": {},
     "output_type": "execute_result"
    }
   ],
   "source": [
    "# top 5 handsets per top 3 handset manufacturer\n",
    "handsets_per_manufacturers=cleaned_df[cleaned_df[\"handset_manufacturer\"].str.contains(\"Apple|Samsung|Huawei\") ][[\"handset_manufacturer\",\"handset_type\"]]\n",
    "handsets_per_manufacturers"
   ]
  },
  {
   "cell_type": "code",
   "execution_count": 18,
   "metadata": {},
   "outputs": [
    {
     "name": "stderr",
     "output_type": "stream",
     "text": [
      "C:\\Users\\user\\AppData\\Local\\Temp\\ipykernel_3076\\3955900147.py:1: FutureWarning:\n",
      "\n",
      "In a future version of pandas, a length 1 tuple will be returned when iterating over a groupby with a grouper equal to a list of length 1. Don't supply a list with a single grouper to avoid this warning.\n",
      "\n"
     ]
    },
    {
     "data": {
      "text/plain": [
       "Apple iPhone 6S (A1688)    9419\n",
       "Apple iPhone 6 (A1586)     9023\n",
       "Apple iPhone 7 (A1778)     6326\n",
       "Apple iPhone Se (A1723)    5187\n",
       "Apple iPhone 8 (A1905)     4993\n",
       "Name: handset_type, dtype: int64"
      ]
     },
     "execution_count": 18,
     "metadata": {},
     "output_type": "execute_result"
    }
   ],
   "source": [
    "list(handsets_per_manufacturers.groupby([\"handset_manufacturer\"]))[0][1][\"handset_type\"].value_counts().head(5)"
   ]
  },
  {
   "cell_type": "code",
   "execution_count": 19,
   "metadata": {},
   "outputs": [
    {
     "name": "stderr",
     "output_type": "stream",
     "text": [
      "C:\\Users\\user\\AppData\\Local\\Temp\\ipykernel_3076\\1670706610.py:1: FutureWarning:\n",
      "\n",
      "In a future version of pandas, a length 1 tuple will be returned when iterating over a groupby with a grouper equal to a list of length 1. Don't supply a list with a single grouper to avoid this warning.\n",
      "\n"
     ]
    },
    {
     "data": {
      "text/plain": [
       "Huawei B528S-23A                  19752\n",
       "Huawei E5180                       2079\n",
       "Huawei P20 Lite Huawei Nova 3E     2021\n",
       "Huawei P20                         1480\n",
       "Huawei Y6 2018                      997\n",
       "Name: handset_type, dtype: int64"
      ]
     },
     "execution_count": 19,
     "metadata": {},
     "output_type": "execute_result"
    }
   ],
   "source": [
    "list(handsets_per_manufacturers.groupby([\"handset_manufacturer\"]))[1][1][\"handset_type\"].value_counts().head(5)"
   ]
  },
  {
   "cell_type": "code",
   "execution_count": 20,
   "metadata": {},
   "outputs": [
    {
     "name": "stderr",
     "output_type": "stream",
     "text": [
      "C:\\Users\\user\\AppData\\Local\\Temp\\ipykernel_3076\\2986698792.py:1: FutureWarning:\n",
      "\n",
      "In a future version of pandas, a length 1 tuple will be returned when iterating over a groupby with a grouper equal to a list of length 1. Don't supply a list with a single grouper to avoid this warning.\n",
      "\n"
     ]
    },
    {
     "data": {
      "text/plain": [
       "Samsung Galaxy S8 (Sm-G950F)    4520\n",
       "Samsung Galaxy A5 Sm-A520F      3724\n",
       "Samsung Galaxy J5 (Sm-J530)     3696\n",
       "Samsung Galaxy J3 (Sm-J330)     3484\n",
       "Samsung Galaxy S7 (Sm-G930X)    3199\n",
       "Name: handset_type, dtype: int64"
      ]
     },
     "execution_count": 20,
     "metadata": {},
     "output_type": "execute_result"
    }
   ],
   "source": [
    "list(handsets_per_manufacturers.groupby([\"handset_manufacturer\"]))[2][1][\"handset_type\"].value_counts().head(5)"
   ]
  },
  {
   "cell_type": "code",
   "execution_count": 21,
   "metadata": {},
   "outputs": [
    {
     "data": {
      "application/vnd.plotly.v1+json": {
       "config": {
        "plotlyServerURL": "https://plot.ly"
       },
       "data": [
        {
         "name": "Apple",
         "type": "bar",
         "x": [
          "Apple iPhone 6S (A1688)",
          "Apple iPhone 6 (A1586)",
          "Apple iPhone 7 (A1778)",
          "Apple iPhone Se (A1723)",
          "Apple iPhone 8 (A1905)"
         ],
         "xaxis": "x",
         "y": [
          9419,
          9023,
          6326,
          5187,
          4993
         ],
         "yaxis": "y"
        },
        {
         "name": "Samsung",
         "type": "bar",
         "x": [
          "Samsung Galaxy S8 (Sm-G950F)",
          "Samsung Galaxy A5 Sm-A520F",
          "Samsung Galaxy J5 (Sm-J530)",
          "Samsung Galaxy J3 (Sm-J330)",
          "Samsung Galaxy S7 (Sm-G930X)"
         ],
         "xaxis": "x2",
         "y": [
          4520,
          3724,
          3696,
          3484,
          3199
         ],
         "yaxis": "y2"
        },
        {
         "name": "Huawei",
         "type": "bar",
         "x": [
          "Huawei B528S-23A",
          "Huawei E5180",
          "Huawei P20 Lite Huawei Nova 3E",
          "Huawei P20",
          "Huawei Y6 2018"
         ],
         "xaxis": "x3",
         "y": [
          19752,
          2079,
          2021,
          1480,
          997
         ],
         "yaxis": "y3"
        }
       ],
       "layout": {
        "annotations": [
         {
          "font": {
           "size": 16
          },
          "showarrow": false,
          "text": "Apple",
          "x": 0.14444444444444446,
          "xanchor": "center",
          "xref": "paper",
          "y": 1,
          "yanchor": "bottom",
          "yref": "paper"
         },
         {
          "font": {
           "size": 16
          },
          "showarrow": false,
          "text": "Samsung",
          "x": 0.5,
          "xanchor": "center",
          "xref": "paper",
          "y": 1,
          "yanchor": "bottom",
          "yref": "paper"
         },
         {
          "font": {
           "size": 16
          },
          "showarrow": false,
          "text": "Huawei",
          "x": 0.8555555555555556,
          "xanchor": "center",
          "xref": "paper",
          "y": 1,
          "yanchor": "bottom",
          "yref": "paper"
         }
        ],
        "showlegend": false,
        "template": {
         "data": {
          "bar": [
           {
            "error_x": {
             "color": "#2a3f5f"
            },
            "error_y": {
             "color": "#2a3f5f"
            },
            "marker": {
             "line": {
              "color": "#E5ECF6",
              "width": 0.5
             },
             "pattern": {
              "fillmode": "overlay",
              "size": 10,
              "solidity": 0.2
             }
            },
            "type": "bar"
           }
          ],
          "barpolar": [
           {
            "marker": {
             "line": {
              "color": "#E5ECF6",
              "width": 0.5
             },
             "pattern": {
              "fillmode": "overlay",
              "size": 10,
              "solidity": 0.2
             }
            },
            "type": "barpolar"
           }
          ],
          "carpet": [
           {
            "aaxis": {
             "endlinecolor": "#2a3f5f",
             "gridcolor": "white",
             "linecolor": "white",
             "minorgridcolor": "white",
             "startlinecolor": "#2a3f5f"
            },
            "baxis": {
             "endlinecolor": "#2a3f5f",
             "gridcolor": "white",
             "linecolor": "white",
             "minorgridcolor": "white",
             "startlinecolor": "#2a3f5f"
            },
            "type": "carpet"
           }
          ],
          "choropleth": [
           {
            "colorbar": {
             "outlinewidth": 0,
             "ticks": ""
            },
            "type": "choropleth"
           }
          ],
          "contour": [
           {
            "colorbar": {
             "outlinewidth": 0,
             "ticks": ""
            },
            "colorscale": [
             [
              0,
              "#0d0887"
             ],
             [
              0.1111111111111111,
              "#46039f"
             ],
             [
              0.2222222222222222,
              "#7201a8"
             ],
             [
              0.3333333333333333,
              "#9c179e"
             ],
             [
              0.4444444444444444,
              "#bd3786"
             ],
             [
              0.5555555555555556,
              "#d8576b"
             ],
             [
              0.6666666666666666,
              "#ed7953"
             ],
             [
              0.7777777777777778,
              "#fb9f3a"
             ],
             [
              0.8888888888888888,
              "#fdca26"
             ],
             [
              1,
              "#f0f921"
             ]
            ],
            "type": "contour"
           }
          ],
          "contourcarpet": [
           {
            "colorbar": {
             "outlinewidth": 0,
             "ticks": ""
            },
            "type": "contourcarpet"
           }
          ],
          "heatmap": [
           {
            "colorbar": {
             "outlinewidth": 0,
             "ticks": ""
            },
            "colorscale": [
             [
              0,
              "#0d0887"
             ],
             [
              0.1111111111111111,
              "#46039f"
             ],
             [
              0.2222222222222222,
              "#7201a8"
             ],
             [
              0.3333333333333333,
              "#9c179e"
             ],
             [
              0.4444444444444444,
              "#bd3786"
             ],
             [
              0.5555555555555556,
              "#d8576b"
             ],
             [
              0.6666666666666666,
              "#ed7953"
             ],
             [
              0.7777777777777778,
              "#fb9f3a"
             ],
             [
              0.8888888888888888,
              "#fdca26"
             ],
             [
              1,
              "#f0f921"
             ]
            ],
            "type": "heatmap"
           }
          ],
          "heatmapgl": [
           {
            "colorbar": {
             "outlinewidth": 0,
             "ticks": ""
            },
            "colorscale": [
             [
              0,
              "#0d0887"
             ],
             [
              0.1111111111111111,
              "#46039f"
             ],
             [
              0.2222222222222222,
              "#7201a8"
             ],
             [
              0.3333333333333333,
              "#9c179e"
             ],
             [
              0.4444444444444444,
              "#bd3786"
             ],
             [
              0.5555555555555556,
              "#d8576b"
             ],
             [
              0.6666666666666666,
              "#ed7953"
             ],
             [
              0.7777777777777778,
              "#fb9f3a"
             ],
             [
              0.8888888888888888,
              "#fdca26"
             ],
             [
              1,
              "#f0f921"
             ]
            ],
            "type": "heatmapgl"
           }
          ],
          "histogram": [
           {
            "marker": {
             "pattern": {
              "fillmode": "overlay",
              "size": 10,
              "solidity": 0.2
             }
            },
            "type": "histogram"
           }
          ],
          "histogram2d": [
           {
            "colorbar": {
             "outlinewidth": 0,
             "ticks": ""
            },
            "colorscale": [
             [
              0,
              "#0d0887"
             ],
             [
              0.1111111111111111,
              "#46039f"
             ],
             [
              0.2222222222222222,
              "#7201a8"
             ],
             [
              0.3333333333333333,
              "#9c179e"
             ],
             [
              0.4444444444444444,
              "#bd3786"
             ],
             [
              0.5555555555555556,
              "#d8576b"
             ],
             [
              0.6666666666666666,
              "#ed7953"
             ],
             [
              0.7777777777777778,
              "#fb9f3a"
             ],
             [
              0.8888888888888888,
              "#fdca26"
             ],
             [
              1,
              "#f0f921"
             ]
            ],
            "type": "histogram2d"
           }
          ],
          "histogram2dcontour": [
           {
            "colorbar": {
             "outlinewidth": 0,
             "ticks": ""
            },
            "colorscale": [
             [
              0,
              "#0d0887"
             ],
             [
              0.1111111111111111,
              "#46039f"
             ],
             [
              0.2222222222222222,
              "#7201a8"
             ],
             [
              0.3333333333333333,
              "#9c179e"
             ],
             [
              0.4444444444444444,
              "#bd3786"
             ],
             [
              0.5555555555555556,
              "#d8576b"
             ],
             [
              0.6666666666666666,
              "#ed7953"
             ],
             [
              0.7777777777777778,
              "#fb9f3a"
             ],
             [
              0.8888888888888888,
              "#fdca26"
             ],
             [
              1,
              "#f0f921"
             ]
            ],
            "type": "histogram2dcontour"
           }
          ],
          "mesh3d": [
           {
            "colorbar": {
             "outlinewidth": 0,
             "ticks": ""
            },
            "type": "mesh3d"
           }
          ],
          "parcoords": [
           {
            "line": {
             "colorbar": {
              "outlinewidth": 0,
              "ticks": ""
             }
            },
            "type": "parcoords"
           }
          ],
          "pie": [
           {
            "automargin": true,
            "type": "pie"
           }
          ],
          "scatter": [
           {
            "fillpattern": {
             "fillmode": "overlay",
             "size": 10,
             "solidity": 0.2
            },
            "type": "scatter"
           }
          ],
          "scatter3d": [
           {
            "line": {
             "colorbar": {
              "outlinewidth": 0,
              "ticks": ""
             }
            },
            "marker": {
             "colorbar": {
              "outlinewidth": 0,
              "ticks": ""
             }
            },
            "type": "scatter3d"
           }
          ],
          "scattercarpet": [
           {
            "marker": {
             "colorbar": {
              "outlinewidth": 0,
              "ticks": ""
             }
            },
            "type": "scattercarpet"
           }
          ],
          "scattergeo": [
           {
            "marker": {
             "colorbar": {
              "outlinewidth": 0,
              "ticks": ""
             }
            },
            "type": "scattergeo"
           }
          ],
          "scattergl": [
           {
            "marker": {
             "colorbar": {
              "outlinewidth": 0,
              "ticks": ""
             }
            },
            "type": "scattergl"
           }
          ],
          "scattermapbox": [
           {
            "marker": {
             "colorbar": {
              "outlinewidth": 0,
              "ticks": ""
             }
            },
            "type": "scattermapbox"
           }
          ],
          "scatterpolar": [
           {
            "marker": {
             "colorbar": {
              "outlinewidth": 0,
              "ticks": ""
             }
            },
            "type": "scatterpolar"
           }
          ],
          "scatterpolargl": [
           {
            "marker": {
             "colorbar": {
              "outlinewidth": 0,
              "ticks": ""
             }
            },
            "type": "scatterpolargl"
           }
          ],
          "scatterternary": [
           {
            "marker": {
             "colorbar": {
              "outlinewidth": 0,
              "ticks": ""
             }
            },
            "type": "scatterternary"
           }
          ],
          "surface": [
           {
            "colorbar": {
             "outlinewidth": 0,
             "ticks": ""
            },
            "colorscale": [
             [
              0,
              "#0d0887"
             ],
             [
              0.1111111111111111,
              "#46039f"
             ],
             [
              0.2222222222222222,
              "#7201a8"
             ],
             [
              0.3333333333333333,
              "#9c179e"
             ],
             [
              0.4444444444444444,
              "#bd3786"
             ],
             [
              0.5555555555555556,
              "#d8576b"
             ],
             [
              0.6666666666666666,
              "#ed7953"
             ],
             [
              0.7777777777777778,
              "#fb9f3a"
             ],
             [
              0.8888888888888888,
              "#fdca26"
             ],
             [
              1,
              "#f0f921"
             ]
            ],
            "type": "surface"
           }
          ],
          "table": [
           {
            "cells": {
             "fill": {
              "color": "#EBF0F8"
             },
             "line": {
              "color": "white"
             }
            },
            "header": {
             "fill": {
              "color": "#C8D4E3"
             },
             "line": {
              "color": "white"
             }
            },
            "type": "table"
           }
          ]
         },
         "layout": {
          "annotationdefaults": {
           "arrowcolor": "#2a3f5f",
           "arrowhead": 0,
           "arrowwidth": 1
          },
          "autotypenumbers": "strict",
          "coloraxis": {
           "colorbar": {
            "outlinewidth": 0,
            "ticks": ""
           }
          },
          "colorscale": {
           "diverging": [
            [
             0,
             "#8e0152"
            ],
            [
             0.1,
             "#c51b7d"
            ],
            [
             0.2,
             "#de77ae"
            ],
            [
             0.3,
             "#f1b6da"
            ],
            [
             0.4,
             "#fde0ef"
            ],
            [
             0.5,
             "#f7f7f7"
            ],
            [
             0.6,
             "#e6f5d0"
            ],
            [
             0.7,
             "#b8e186"
            ],
            [
             0.8,
             "#7fbc41"
            ],
            [
             0.9,
             "#4d9221"
            ],
            [
             1,
             "#276419"
            ]
           ],
           "sequential": [
            [
             0,
             "#0d0887"
            ],
            [
             0.1111111111111111,
             "#46039f"
            ],
            [
             0.2222222222222222,
             "#7201a8"
            ],
            [
             0.3333333333333333,
             "#9c179e"
            ],
            [
             0.4444444444444444,
             "#bd3786"
            ],
            [
             0.5555555555555556,
             "#d8576b"
            ],
            [
             0.6666666666666666,
             "#ed7953"
            ],
            [
             0.7777777777777778,
             "#fb9f3a"
            ],
            [
             0.8888888888888888,
             "#fdca26"
            ],
            [
             1,
             "#f0f921"
            ]
           ],
           "sequentialminus": [
            [
             0,
             "#0d0887"
            ],
            [
             0.1111111111111111,
             "#46039f"
            ],
            [
             0.2222222222222222,
             "#7201a8"
            ],
            [
             0.3333333333333333,
             "#9c179e"
            ],
            [
             0.4444444444444444,
             "#bd3786"
            ],
            [
             0.5555555555555556,
             "#d8576b"
            ],
            [
             0.6666666666666666,
             "#ed7953"
            ],
            [
             0.7777777777777778,
             "#fb9f3a"
            ],
            [
             0.8888888888888888,
             "#fdca26"
            ],
            [
             1,
             "#f0f921"
            ]
           ]
          },
          "colorway": [
           "#636efa",
           "#EF553B",
           "#00cc96",
           "#ab63fa",
           "#FFA15A",
           "#19d3f3",
           "#FF6692",
           "#B6E880",
           "#FF97FF",
           "#FECB52"
          ],
          "font": {
           "color": "#2a3f5f"
          },
          "geo": {
           "bgcolor": "white",
           "lakecolor": "white",
           "landcolor": "#E5ECF6",
           "showlakes": true,
           "showland": true,
           "subunitcolor": "white"
          },
          "hoverlabel": {
           "align": "left"
          },
          "hovermode": "closest",
          "mapbox": {
           "style": "light"
          },
          "paper_bgcolor": "white",
          "plot_bgcolor": "#E5ECF6",
          "polar": {
           "angularaxis": {
            "gridcolor": "white",
            "linecolor": "white",
            "ticks": ""
           },
           "bgcolor": "#E5ECF6",
           "radialaxis": {
            "gridcolor": "white",
            "linecolor": "white",
            "ticks": ""
           }
          },
          "scene": {
           "xaxis": {
            "backgroundcolor": "#E5ECF6",
            "gridcolor": "white",
            "gridwidth": 2,
            "linecolor": "white",
            "showbackground": true,
            "ticks": "",
            "zerolinecolor": "white"
           },
           "yaxis": {
            "backgroundcolor": "#E5ECF6",
            "gridcolor": "white",
            "gridwidth": 2,
            "linecolor": "white",
            "showbackground": true,
            "ticks": "",
            "zerolinecolor": "white"
           },
           "zaxis": {
            "backgroundcolor": "#E5ECF6",
            "gridcolor": "white",
            "gridwidth": 2,
            "linecolor": "white",
            "showbackground": true,
            "ticks": "",
            "zerolinecolor": "white"
           }
          },
          "shapedefaults": {
           "line": {
            "color": "#2a3f5f"
           }
          },
          "ternary": {
           "aaxis": {
            "gridcolor": "white",
            "linecolor": "white",
            "ticks": ""
           },
           "baxis": {
            "gridcolor": "white",
            "linecolor": "white",
            "ticks": ""
           },
           "bgcolor": "#E5ECF6",
           "caxis": {
            "gridcolor": "white",
            "linecolor": "white",
            "ticks": ""
           }
          },
          "title": {
           "x": 0.05
          },
          "xaxis": {
           "automargin": true,
           "gridcolor": "white",
           "linecolor": "white",
           "ticks": "",
           "title": {
            "standoff": 15
           },
           "zerolinecolor": "white",
           "zerolinewidth": 2
          },
          "yaxis": {
           "automargin": true,
           "gridcolor": "white",
           "linecolor": "white",
           "ticks": "",
           "title": {
            "standoff": 15
           },
           "zerolinecolor": "white",
           "zerolinewidth": 2
          }
         }
        },
        "title": {
         "text": "Top 5 Handset Types for Each Manufacturer"
        },
        "xaxis": {
         "anchor": "y",
         "domain": [
          0,
          0.2888888888888889
         ]
        },
        "xaxis2": {
         "anchor": "y2",
         "domain": [
          0.35555555555555557,
          0.6444444444444445
         ]
        },
        "xaxis3": {
         "anchor": "y3",
         "domain": [
          0.7111111111111111,
          1
         ]
        },
        "yaxis": {
         "anchor": "x",
         "domain": [
          0,
          1
         ]
        },
        "yaxis2": {
         "anchor": "x2",
         "domain": [
          0,
          1
         ]
        },
        "yaxis3": {
         "anchor": "x3",
         "domain": [
          0,
          1
         ]
        }
       }
      }
     },
     "metadata": {},
     "output_type": "display_data"
    }
   ],
   "source": [
    "# using'handsets_per_manufacturers' DataFrame and 'handset_manufacturer' and 'handset_type' columns\n",
    "manufacturers = handsets_per_manufacturers[\"handset_manufacturer\"].value_counts().head(3).index\n",
    "\n",
    "# Creating subplots\n",
    "fig = sp.make_subplots(rows=1, cols=3, subplot_titles=(manufacturers))\n",
    "\n",
    "# Plotting the top 5 handset types for each manufacturer\n",
    "for i, manufacturer in enumerate(manufacturers):\n",
    "    manufacturer_df = handsets_per_manufacturers[handsets_per_manufacturers[\"handset_manufacturer\"] == manufacturer]\n",
    "    top_handsets = manufacturer_df[\"handset_type\"].value_counts().head(5)\n",
    "    \n",
    "    # Creating a DataFrame from the series\n",
    "    top_handsets_df = top_handsets.reset_index()\n",
    "    top_handsets_df.columns = ['Handset Type', 'Count']\n",
    "    \n",
    "    # Creating a bar trace for each manufacturer\n",
    "    trace = go.Bar(x=top_handsets_df['Handset Type'], y=top_handsets_df['Count'], name=manufacturer)\n",
    "    \n",
    "    # Adding the trace to the subplot\n",
    "    fig.add_trace(trace, row=1, col=i+1)\n",
    "\n",
    "# Updating the layout\n",
    "fig.update_layout(title_text=\"Top 5 Handset Types for Each Manufacturer\", showlegend=False)\n",
    "\n",
    "# Displaying the plot\n",
    "fig.show()"
   ]
  },
  {
   "cell_type": "markdown",
   "metadata": {},
   "source": [
    "#### Interpretation"
   ]
  },
  {
   "cell_type": "markdown",
   "metadata": {},
   "source": [
    "In examining the data, it's evident that certain handsets hold a significant sway over customer preferences, with a distinct focus on the top 10 handsets. For market teams, this implies an opportunity to hone in on these popular devices, tailoring marketing efforts to leverage their widespread appeal. Promotions or exclusive deals bundled with these top handsets could attract a broader customer base. Furthermore, understanding the dominant handset manufacturers, as revealed by the top 3 manufacturers, opens avenues for strategic collaborations. Market teams can explore partnerships with these manufacturers to enhance product offerings, potentially leading to exclusive releases or features that set their offerings apart in a competitive market.\n",
    "\n",
    "Delving deeper into the dataset by examining the top 5 handset types for each manufacturer offers a nuanced perspective. Customizing marketing campaigns for each manufacturer based on the most popular handset types allows for a more targeted and effective approach. By aligning promotions with the preferences of each manufacturer's customer base, market teams can better connect with potential buyers. Additionally, staying attuned to the release schedules and innovations of these manufacturers becomes crucial for maintaining competitiveness in a dynamic market. This comprehensive understanding of customer preferences, coupled with strategic collaborations and tailored marketing efforts, positions the market teams to not only meet current demands but also anticipate and adapt to evolving trends."
   ]
  },
  {
   "cell_type": "markdown",
   "metadata": {},
   "source": [
    "#### Recommendation to marketing teams"
   ]
  },
  {
   "cell_type": "markdown",
   "metadata": {},
   "source": [
    "Collaborating with the top handset manufacturers presents an opportunity to create mutually beneficial relationships. Consideration should be given to exclusive deals or promotions that highlight both the handsets and the services offered by the company. These partnerships could extend to co-branded marketing campaigns, maximizing brand visibility and fostering a sense of trust and loyalty among customers.\n",
    "\n",
    "The data also suggests a need for customized marketing campaigns that cater to the unique preferences of each manufacturer's customer base. Rather than adopting a one-size-fits-all approach, tailoring promotions to the top 5 handset types for each manufacturer ensures a more resonant message. This approach not only improves customer engagement but also positions the company as attuned to individual customer needs. Additionally, as the market is dynamic, a vigilant eye on emerging trends and innovations from the top manufacturers is crucial. By staying ahead of the curve, market teams can proactively adjust strategies, ensuring that their offerings remain aligned with evolving customer expectations and preferences."
   ]
  },
  {
   "cell_type": "markdown",
   "metadata": {},
   "source": [
    "### Task 2.1\n",
    "\n",
    "#### overview of the users’ behaviour"
   ]
  },
  {
   "cell_type": "markdown",
   "metadata": {},
   "source": [
    "#### number of xDR session"
   ]
  },
  {
   "cell_type": "code",
   "execution_count": 22,
   "metadata": {},
   "outputs": [
    {
     "data": {
      "text/html": [
       "<div>\n",
       "<style scoped>\n",
       "    .dataframe tbody tr th:only-of-type {\n",
       "        vertical-align: middle;\n",
       "    }\n",
       "\n",
       "    .dataframe tbody tr th {\n",
       "        vertical-align: top;\n",
       "    }\n",
       "\n",
       "    .dataframe thead th {\n",
       "        text-align: right;\n",
       "    }\n",
       "</style>\n",
       "<table border=\"1\" class=\"dataframe\">\n",
       "  <thead>\n",
       "    <tr style=\"text-align: right;\">\n",
       "      <th></th>\n",
       "      <th>xDR_session</th>\n",
       "    </tr>\n",
       "    <tr>\n",
       "      <th>msisdn/number</th>\n",
       "      <th></th>\n",
       "    </tr>\n",
       "  </thead>\n",
       "  <tbody>\n",
       "    <tr>\n",
       "      <th>3.366371e+10</th>\n",
       "      <td>1067</td>\n",
       "    </tr>\n",
       "    <tr>\n",
       "      <th>3.362632e+10</th>\n",
       "      <td>18</td>\n",
       "    </tr>\n",
       "    <tr>\n",
       "      <th>3.361489e+10</th>\n",
       "      <td>17</td>\n",
       "    </tr>\n",
       "    <tr>\n",
       "      <th>3.362578e+10</th>\n",
       "      <td>17</td>\n",
       "    </tr>\n",
       "    <tr>\n",
       "      <th>3.365973e+10</th>\n",
       "      <td>16</td>\n",
       "    </tr>\n",
       "    <tr>\n",
       "      <th>3.376054e+10</th>\n",
       "      <td>15</td>\n",
       "    </tr>\n",
       "    <tr>\n",
       "      <th>3.367588e+10</th>\n",
       "      <td>15</td>\n",
       "    </tr>\n",
       "    <tr>\n",
       "      <th>3.366716e+10</th>\n",
       "      <td>13</td>\n",
       "    </tr>\n",
       "    <tr>\n",
       "      <th>3.360452e+10</th>\n",
       "      <td>12</td>\n",
       "    </tr>\n",
       "    <tr>\n",
       "      <th>3.360313e+10</th>\n",
       "      <td>12</td>\n",
       "    </tr>\n",
       "  </tbody>\n",
       "</table>\n",
       "</div>"
      ],
      "text/plain": [
       "               xDR_session\n",
       "msisdn/number             \n",
       "3.366371e+10          1067\n",
       "3.362632e+10            18\n",
       "3.361489e+10            17\n",
       "3.362578e+10            17\n",
       "3.365973e+10            16\n",
       "3.376054e+10            15\n",
       "3.367588e+10            15\n",
       "3.366716e+10            13\n",
       "3.360452e+10            12\n",
       "3.360313e+10            12"
      ]
     },
     "execution_count": 22,
     "metadata": {},
     "output_type": "execute_result"
    }
   ],
   "source": [
    "session=cleaned_df.groupby([\"msisdn/number\"]).agg({\"bearer_id\":\"count\"})\n",
    "\n",
    "session.rename(columns={\"bearer_id\":\"xDR_sessions\"})\n",
    "session=pd.DataFrame(data=list(session[\"bearer_id\"])[1:],columns=[\"xDR_session\"],index=session.index[1:])\n",
    "session = session.sort_values(by=[\"xDR_session\"],ascending=False)\n",
    "session.dropna()\n",
    "session.head(10)"
   ]
  },
  {
   "cell_type": "code",
   "execution_count": 23,
   "metadata": {},
   "outputs": [
    {
     "data": {
      "text/html": [
       "<div>\n",
       "<style scoped>\n",
       "    .dataframe tbody tr th:only-of-type {\n",
       "        vertical-align: middle;\n",
       "    }\n",
       "\n",
       "    .dataframe tbody tr th {\n",
       "        vertical-align: top;\n",
       "    }\n",
       "\n",
       "    .dataframe thead th {\n",
       "        text-align: right;\n",
       "    }\n",
       "</style>\n",
       "<table border=\"1\" class=\"dataframe\">\n",
       "  <thead>\n",
       "    <tr style=\"text-align: right;\">\n",
       "      <th></th>\n",
       "      <th>xDR_session</th>\n",
       "    </tr>\n",
       "  </thead>\n",
       "  <tbody>\n",
       "    <tr>\n",
       "      <th>count</th>\n",
       "      <td>106855.000000</td>\n",
       "    </tr>\n",
       "    <tr>\n",
       "      <th>mean</th>\n",
       "      <td>1.403771</td>\n",
       "    </tr>\n",
       "    <tr>\n",
       "      <th>std</th>\n",
       "      <td>3.358032</td>\n",
       "    </tr>\n",
       "    <tr>\n",
       "      <th>min</th>\n",
       "      <td>1.000000</td>\n",
       "    </tr>\n",
       "    <tr>\n",
       "      <th>25%</th>\n",
       "      <td>1.000000</td>\n",
       "    </tr>\n",
       "    <tr>\n",
       "      <th>50%</th>\n",
       "      <td>1.000000</td>\n",
       "    </tr>\n",
       "    <tr>\n",
       "      <th>75%</th>\n",
       "      <td>2.000000</td>\n",
       "    </tr>\n",
       "    <tr>\n",
       "      <th>max</th>\n",
       "      <td>1067.000000</td>\n",
       "    </tr>\n",
       "  </tbody>\n",
       "</table>\n",
       "</div>"
      ],
      "text/plain": [
       "         xDR_session\n",
       "count  106855.000000\n",
       "mean        1.403771\n",
       "std         3.358032\n",
       "min         1.000000\n",
       "25%         1.000000\n",
       "50%         1.000000\n",
       "75%         2.000000\n",
       "max      1067.000000"
      ]
     },
     "execution_count": 23,
     "metadata": {},
     "output_type": "execute_result"
    }
   ],
   "source": [
    "session.describe()"
   ]
  },
  {
   "cell_type": "markdown",
   "metadata": {},
   "source": [
    "we have an average of ≈ 1.4 xDR session per user."
   ]
  },
  {
   "cell_type": "markdown",
   "metadata": {},
   "source": [
    "#### total session duration"
   ]
  },
  {
   "cell_type": "code",
   "execution_count": 24,
   "metadata": {},
   "outputs": [
    {
     "data": {
      "text/html": [
       "<div>\n",
       "<style scoped>\n",
       "    .dataframe tbody tr th:only-of-type {\n",
       "        vertical-align: middle;\n",
       "    }\n",
       "\n",
       "    .dataframe tbody tr th {\n",
       "        vertical-align: top;\n",
       "    }\n",
       "\n",
       "    .dataframe thead th {\n",
       "        text-align: right;\n",
       "    }\n",
       "</style>\n",
       "<table border=\"1\" class=\"dataframe\">\n",
       "  <thead>\n",
       "    <tr style=\"text-align: right;\">\n",
       "      <th></th>\n",
       "      <th>dur._(ms)</th>\n",
       "    </tr>\n",
       "  </thead>\n",
       "  <tbody>\n",
       "    <tr>\n",
       "      <th>0</th>\n",
       "      <td>1823652.0</td>\n",
       "    </tr>\n",
       "    <tr>\n",
       "      <th>1</th>\n",
       "      <td>1365104.0</td>\n",
       "    </tr>\n",
       "    <tr>\n",
       "      <th>2</th>\n",
       "      <td>1361762.0</td>\n",
       "    </tr>\n",
       "    <tr>\n",
       "      <th>3</th>\n",
       "      <td>1321509.0</td>\n",
       "    </tr>\n",
       "    <tr>\n",
       "      <th>4</th>\n",
       "      <td>1089009.0</td>\n",
       "    </tr>\n",
       "    <tr>\n",
       "      <th>...</th>\n",
       "      <td>...</td>\n",
       "    </tr>\n",
       "    <tr>\n",
       "      <th>149996</th>\n",
       "      <td>81230.0</td>\n",
       "    </tr>\n",
       "    <tr>\n",
       "      <th>149997</th>\n",
       "      <td>97970.0</td>\n",
       "    </tr>\n",
       "    <tr>\n",
       "      <th>149998</th>\n",
       "      <td>98249.0</td>\n",
       "    </tr>\n",
       "    <tr>\n",
       "      <th>149999</th>\n",
       "      <td>97910.0</td>\n",
       "    </tr>\n",
       "    <tr>\n",
       "      <th>150000</th>\n",
       "      <td>86399.0</td>\n",
       "    </tr>\n",
       "  </tbody>\n",
       "</table>\n",
       "<p>150001 rows × 1 columns</p>\n",
       "</div>"
      ],
      "text/plain": [
       "        dur._(ms)\n",
       "0       1823652.0\n",
       "1       1365104.0\n",
       "2       1361762.0\n",
       "3       1321509.0\n",
       "4       1089009.0\n",
       "...           ...\n",
       "149996    81230.0\n",
       "149997    97970.0\n",
       "149998    98249.0\n",
       "149999    97910.0\n",
       "150000    86399.0\n",
       "\n",
       "[150001 rows x 1 columns]"
      ]
     },
     "execution_count": 24,
     "metadata": {},
     "output_type": "execute_result"
    }
   ],
   "source": [
    "# duration with ms\n",
    "cleaned_df[[\"dur._(ms)\"]]"
   ]
  },
  {
   "cell_type": "code",
   "execution_count": 25,
   "metadata": {},
   "outputs": [
    {
     "data": {
      "text/html": [
       "<div>\n",
       "<style scoped>\n",
       "    .dataframe tbody tr th:only-of-type {\n",
       "        vertical-align: middle;\n",
       "    }\n",
       "\n",
       "    .dataframe tbody tr th {\n",
       "        vertical-align: top;\n",
       "    }\n",
       "\n",
       "    .dataframe thead th {\n",
       "        text-align: right;\n",
       "    }\n",
       "</style>\n",
       "<table border=\"1\" class=\"dataframe\">\n",
       "  <thead>\n",
       "    <tr style=\"text-align: right;\">\n",
       "      <th></th>\n",
       "      <th>total_duration(ms)</th>\n",
       "    </tr>\n",
       "    <tr>\n",
       "      <th>msisdn/number</th>\n",
       "      <th></th>\n",
       "    </tr>\n",
       "  </thead>\n",
       "  <tbody>\n",
       "    <tr>\n",
       "      <th>3.366371e+10</th>\n",
       "      <td>72655568.0</td>\n",
       "    </tr>\n",
       "    <tr>\n",
       "      <th>3.362578e+10</th>\n",
       "      <td>18553754.0</td>\n",
       "    </tr>\n",
       "    <tr>\n",
       "      <th>3.361489e+10</th>\n",
       "      <td>9966898.0</td>\n",
       "    </tr>\n",
       "    <tr>\n",
       "      <th>3.376054e+10</th>\n",
       "      <td>9279434.0</td>\n",
       "    </tr>\n",
       "    <tr>\n",
       "      <th>3.362632e+10</th>\n",
       "      <td>8791927.0</td>\n",
       "    </tr>\n",
       "    <tr>\n",
       "      <th>3.366716e+10</th>\n",
       "      <td>8744914.0</td>\n",
       "    </tr>\n",
       "    <tr>\n",
       "      <th>3.366284e+10</th>\n",
       "      <td>6614270.0</td>\n",
       "    </tr>\n",
       "    <tr>\n",
       "      <th>3.366469e+10</th>\n",
       "      <td>6288730.0</td>\n",
       "    </tr>\n",
       "    <tr>\n",
       "      <th>3.360313e+10</th>\n",
       "      <td>6287761.0</td>\n",
       "    </tr>\n",
       "    <tr>\n",
       "      <th>3.366746e+10</th>\n",
       "      <td>5649882.0</td>\n",
       "    </tr>\n",
       "  </tbody>\n",
       "</table>\n",
       "</div>"
      ],
      "text/plain": [
       "               total_duration(ms) \n",
       "msisdn/number                     \n",
       "3.366371e+10            72655568.0\n",
       "3.362578e+10            18553754.0\n",
       "3.361489e+10             9966898.0\n",
       "3.376054e+10             9279434.0\n",
       "3.362632e+10             8791927.0\n",
       "3.366716e+10             8744914.0\n",
       "3.366284e+10             6614270.0\n",
       "3.366469e+10             6288730.0\n",
       "3.360313e+10             6287761.0\n",
       "3.366746e+10             5649882.0"
      ]
     },
     "execution_count": 25,
     "metadata": {},
     "output_type": "execute_result"
    }
   ],
   "source": [
    "duration = cleaned_df.groupby([\"msisdn/number\"]).agg({\"dur._(ms)\":\"sum\"})\n",
    "duration.sort_values(by=[\"dur._(ms)\"],ascending=False,inplace=True)\n",
    "duration.dropna(axis=0,inplace=True)\n",
    "duration=duration.rename(columns={\"dur._(ms)\":\"total_duration(ms) \"})\n",
    "duration.head(10)"
   ]
  },
  {
   "cell_type": "code",
   "execution_count": 26,
   "metadata": {},
   "outputs": [
    {
     "data": {
      "text/html": [
       "<div>\n",
       "<style scoped>\n",
       "    .dataframe tbody tr th:only-of-type {\n",
       "        vertical-align: middle;\n",
       "    }\n",
       "\n",
       "    .dataframe tbody tr th {\n",
       "        vertical-align: top;\n",
       "    }\n",
       "\n",
       "    .dataframe thead th {\n",
       "        text-align: right;\n",
       "    }\n",
       "</style>\n",
       "<table border=\"1\" class=\"dataframe\">\n",
       "  <thead>\n",
       "    <tr style=\"text-align: right;\">\n",
       "      <th></th>\n",
       "      <th>total_duration(ms)</th>\n",
       "    </tr>\n",
       "  </thead>\n",
       "  <tbody>\n",
       "    <tr>\n",
       "      <th>count</th>\n",
       "      <td>1.068560e+05</td>\n",
       "    </tr>\n",
       "    <tr>\n",
       "      <th>mean</th>\n",
       "      <td>1.468459e+05</td>\n",
       "    </tr>\n",
       "    <tr>\n",
       "      <th>std</th>\n",
       "      <td>2.897108e+05</td>\n",
       "    </tr>\n",
       "    <tr>\n",
       "      <th>min</th>\n",
       "      <td>7.142000e+03</td>\n",
       "    </tr>\n",
       "    <tr>\n",
       "      <th>25%</th>\n",
       "      <td>7.130800e+04</td>\n",
       "    </tr>\n",
       "    <tr>\n",
       "      <th>50%</th>\n",
       "      <td>1.027400e+05</td>\n",
       "    </tr>\n",
       "    <tr>\n",
       "      <th>75%</th>\n",
       "      <td>1.727990e+05</td>\n",
       "    </tr>\n",
       "    <tr>\n",
       "      <th>max</th>\n",
       "      <td>7.265557e+07</td>\n",
       "    </tr>\n",
       "  </tbody>\n",
       "</table>\n",
       "</div>"
      ],
      "text/plain": [
       "       total_duration(ms) \n",
       "count         1.068560e+05\n",
       "mean          1.468459e+05\n",
       "std           2.897108e+05\n",
       "min           7.142000e+03\n",
       "25%           7.130800e+04\n",
       "50%           1.027400e+05\n",
       "75%           1.727990e+05\n",
       "max           7.265557e+07"
      ]
     },
     "execution_count": 26,
     "metadata": {},
     "output_type": "execute_result"
    }
   ],
   "source": [
    "duration.describe()"
   ]
  },
  {
   "cell_type": "markdown",
   "metadata": {},
   "source": [
    "we can see that on average a user spent around 146846 ms (146.8 s) on xDR session"
   ]
  },
  {
   "cell_type": "markdown",
   "metadata": {},
   "source": [
    "#### total download(DL) and upload (UL) data"
   ]
  },
  {
   "cell_type": "code",
   "execution_count": 27,
   "metadata": {},
   "outputs": [
    {
     "data": {
      "text/html": [
       "<div>\n",
       "<style scoped>\n",
       "    .dataframe tbody tr th:only-of-type {\n",
       "        vertical-align: middle;\n",
       "    }\n",
       "\n",
       "    .dataframe tbody tr th {\n",
       "        vertical-align: top;\n",
       "    }\n",
       "\n",
       "    .dataframe thead th {\n",
       "        text-align: right;\n",
       "    }\n",
       "</style>\n",
       "<table border=\"1\" class=\"dataframe\">\n",
       "  <thead>\n",
       "    <tr style=\"text-align: right;\">\n",
       "      <th></th>\n",
       "      <th>total_dl_(bytes)</th>\n",
       "      <th>total_ul_(bytes)</th>\n",
       "    </tr>\n",
       "  </thead>\n",
       "  <tbody>\n",
       "    <tr>\n",
       "      <th>0</th>\n",
       "      <td>3.088796e+08</td>\n",
       "      <td>3.674974e+07</td>\n",
       "    </tr>\n",
       "    <tr>\n",
       "      <th>1</th>\n",
       "      <td>6.533850e+08</td>\n",
       "      <td>5.380039e+07</td>\n",
       "    </tr>\n",
       "    <tr>\n",
       "      <th>2</th>\n",
       "      <td>2.798073e+08</td>\n",
       "      <td>2.788364e+07</td>\n",
       "    </tr>\n",
       "    <tr>\n",
       "      <th>3</th>\n",
       "      <td>8.460285e+08</td>\n",
       "      <td>4.332422e+07</td>\n",
       "    </tr>\n",
       "    <tr>\n",
       "      <th>4</th>\n",
       "      <td>5.691386e+08</td>\n",
       "      <td>3.854281e+07</td>\n",
       "    </tr>\n",
       "    <tr>\n",
       "      <th>...</th>\n",
       "      <td>...</td>\n",
       "      <td>...</td>\n",
       "    </tr>\n",
       "    <tr>\n",
       "      <th>149996</th>\n",
       "      <td>5.741753e+08</td>\n",
       "      <td>5.762885e+07</td>\n",
       "    </tr>\n",
       "    <tr>\n",
       "      <th>149997</th>\n",
       "      <td>6.666488e+08</td>\n",
       "      <td>3.913508e+07</td>\n",
       "    </tr>\n",
       "    <tr>\n",
       "      <th>149998</th>\n",
       "      <td>5.927864e+08</td>\n",
       "      <td>3.491222e+07</td>\n",
       "    </tr>\n",
       "    <tr>\n",
       "      <th>149999</th>\n",
       "      <td>3.718959e+08</td>\n",
       "      <td>2.962610e+07</td>\n",
       "    </tr>\n",
       "    <tr>\n",
       "      <th>150000</th>\n",
       "      <td>4.546434e+08</td>\n",
       "      <td>4.112121e+07</td>\n",
       "    </tr>\n",
       "  </tbody>\n",
       "</table>\n",
       "<p>150001 rows × 2 columns</p>\n",
       "</div>"
      ],
      "text/plain": [
       "        total_dl_(bytes)  total_ul_(bytes)\n",
       "0           3.088796e+08      3.674974e+07\n",
       "1           6.533850e+08      5.380039e+07\n",
       "2           2.798073e+08      2.788364e+07\n",
       "3           8.460285e+08      4.332422e+07\n",
       "4           5.691386e+08      3.854281e+07\n",
       "...                  ...               ...\n",
       "149996      5.741753e+08      5.762885e+07\n",
       "149997      6.666488e+08      3.913508e+07\n",
       "149998      5.927864e+08      3.491222e+07\n",
       "149999      3.718959e+08      2.962610e+07\n",
       "150000      4.546434e+08      4.112121e+07\n",
       "\n",
       "[150001 rows x 2 columns]"
      ]
     },
     "execution_count": 27,
     "metadata": {},
     "output_type": "execute_result"
    }
   ],
   "source": [
    "# our target columns\n",
    "cleaned_df[[\"total_dl_(bytes)\",\"total_ul_(bytes)\"]]"
   ]
  },
  {
   "cell_type": "code",
   "execution_count": 28,
   "metadata": {},
   "outputs": [
    {
     "data": {
      "text/html": [
       "<div>\n",
       "<style scoped>\n",
       "    .dataframe tbody tr th:only-of-type {\n",
       "        vertical-align: middle;\n",
       "    }\n",
       "\n",
       "    .dataframe tbody tr th {\n",
       "        vertical-align: top;\n",
       "    }\n",
       "\n",
       "    .dataframe thead th {\n",
       "        text-align: right;\n",
       "    }\n",
       "</style>\n",
       "<table border=\"1\" class=\"dataframe\">\n",
       "  <thead>\n",
       "    <tr style=\"text-align: right;\">\n",
       "      <th></th>\n",
       "      <th>total_dl_(bytes)</th>\n",
       "      <th>total_ul_(bytes)</th>\n",
       "      <th>total_dl_(MB)</th>\n",
       "      <th>total_ul_(MB)</th>\n",
       "    </tr>\n",
       "    <tr>\n",
       "      <th>msisdn/number</th>\n",
       "      <th></th>\n",
       "      <th></th>\n",
       "      <th></th>\n",
       "      <th></th>\n",
       "    </tr>\n",
       "  </thead>\n",
       "  <tbody>\n",
       "    <tr>\n",
       "      <th>3.366371e+10</th>\n",
       "      <td>4.875441e+11</td>\n",
       "      <td>4.441823e+10</td>\n",
       "      <td>464958.288934</td>\n",
       "      <td>42360.529887</td>\n",
       "    </tr>\n",
       "    <tr>\n",
       "      <th>3.361489e+10</th>\n",
       "      <td>8.156743e+09</td>\n",
       "      <td>6.894830e+08</td>\n",
       "      <td>7778.876775</td>\n",
       "      <td>657.542230</td>\n",
       "    </tr>\n",
       "    <tr>\n",
       "      <th>3.376054e+10</th>\n",
       "      <td>7.811295e+09</td>\n",
       "      <td>7.034786e+08</td>\n",
       "      <td>7449.431784</td>\n",
       "      <td>670.889455</td>\n",
       "    </tr>\n",
       "    <tr>\n",
       "      <th>3.362578e+10</th>\n",
       "      <td>7.770043e+09</td>\n",
       "      <td>7.295774e+08</td>\n",
       "      <td>7410.090773</td>\n",
       "      <td>695.779209</td>\n",
       "    </tr>\n",
       "    <tr>\n",
       "      <th>3.367588e+10</th>\n",
       "      <td>7.309542e+09</td>\n",
       "      <td>5.815688e+08</td>\n",
       "      <td>6970.922295</td>\n",
       "      <td>554.627220</td>\n",
       "    </tr>\n",
       "    <tr>\n",
       "      <th>3.362632e+10</th>\n",
       "      <td>7.301517e+09</td>\n",
       "      <td>6.696507e+08</td>\n",
       "      <td>6963.268795</td>\n",
       "      <td>638.628694</td>\n",
       "    </tr>\n",
       "    <tr>\n",
       "      <th>3.365973e+10</th>\n",
       "      <td>7.081602e+09</td>\n",
       "      <td>6.242603e+08</td>\n",
       "      <td>6753.542387</td>\n",
       "      <td>595.341035</td>\n",
       "    </tr>\n",
       "    <tr>\n",
       "      <th>3.366646e+10</th>\n",
       "      <td>6.903440e+09</td>\n",
       "      <td>4.050610e+08</td>\n",
       "      <td>6583.633387</td>\n",
       "      <td>386.296249</td>\n",
       "    </tr>\n",
       "    <tr>\n",
       "      <th>3.376041e+10</th>\n",
       "      <td>6.610852e+09</td>\n",
       "      <td>5.215189e+08</td>\n",
       "      <td>6304.599403</td>\n",
       "      <td>497.359171</td>\n",
       "    </tr>\n",
       "    <tr>\n",
       "      <th>3.366471e+10</th>\n",
       "      <td>6.400774e+09</td>\n",
       "      <td>4.712445e+08</td>\n",
       "      <td>6104.253535</td>\n",
       "      <td>449.413732</td>\n",
       "    </tr>\n",
       "  </tbody>\n",
       "</table>\n",
       "</div>"
      ],
      "text/plain": [
       "               total_dl_(bytes)  total_ul_(bytes)  total_dl_(MB)  \\\n",
       "msisdn/number                                                      \n",
       "3.366371e+10       4.875441e+11      4.441823e+10  464958.288934   \n",
       "3.361489e+10       8.156743e+09      6.894830e+08    7778.876775   \n",
       "3.376054e+10       7.811295e+09      7.034786e+08    7449.431784   \n",
       "3.362578e+10       7.770043e+09      7.295774e+08    7410.090773   \n",
       "3.367588e+10       7.309542e+09      5.815688e+08    6970.922295   \n",
       "3.362632e+10       7.301517e+09      6.696507e+08    6963.268795   \n",
       "3.365973e+10       7.081602e+09      6.242603e+08    6753.542387   \n",
       "3.366646e+10       6.903440e+09      4.050610e+08    6583.633387   \n",
       "3.376041e+10       6.610852e+09      5.215189e+08    6304.599403   \n",
       "3.366471e+10       6.400774e+09      4.712445e+08    6104.253535   \n",
       "\n",
       "               total_ul_(MB)  \n",
       "msisdn/number                 \n",
       "3.366371e+10    42360.529887  \n",
       "3.361489e+10      657.542230  \n",
       "3.376054e+10      670.889455  \n",
       "3.362578e+10      695.779209  \n",
       "3.367588e+10      554.627220  \n",
       "3.362632e+10      638.628694  \n",
       "3.365973e+10      595.341035  \n",
       "3.366646e+10      386.296249  \n",
       "3.376041e+10      497.359171  \n",
       "3.366471e+10      449.413732  "
      ]
     },
     "execution_count": 28,
     "metadata": {},
     "output_type": "execute_result"
    }
   ],
   "source": [
    "ul_dl_data=cleaned_df.groupby([\"msisdn/number\"]).agg({\"total_dl_(bytes)\":\"sum\",\"total_ul_(bytes)\":\"sum\"})\n",
    "ul_dl_data.dropna(axis=0,inplace=True)\n",
    "ul_dl_data[[\"total_dl_(MB)\",\"total_ul_(MB)\"]]=ul_dl_data[[\"total_dl_(bytes)\",\"total_ul_(bytes)\"]].div(1024**2)\n",
    "ul_dl_data=ul_dl_data.sort_values(by=[\"total_dl_(bytes)\",\"total_ul_(bytes)\"],ascending=False)\n",
    "ul_dl_data.head(10)"
   ]
  },
  {
   "cell_type": "code",
   "execution_count": 29,
   "metadata": {},
   "outputs": [
    {
     "data": {
      "text/html": [
       "<div>\n",
       "<style scoped>\n",
       "    .dataframe tbody tr th:only-of-type {\n",
       "        vertical-align: middle;\n",
       "    }\n",
       "\n",
       "    .dataframe tbody tr th {\n",
       "        vertical-align: top;\n",
       "    }\n",
       "\n",
       "    .dataframe thead th {\n",
       "        text-align: right;\n",
       "    }\n",
       "</style>\n",
       "<table border=\"1\" class=\"dataframe\">\n",
       "  <thead>\n",
       "    <tr style=\"text-align: right;\">\n",
       "      <th></th>\n",
       "      <th>total_dl_(bytes)</th>\n",
       "      <th>total_ul_(bytes)</th>\n",
       "      <th>total_dl_(MB)</th>\n",
       "      <th>total_ul_(MB)</th>\n",
       "    </tr>\n",
       "  </thead>\n",
       "  <tbody>\n",
       "    <tr>\n",
       "      <th>count</th>\n",
       "      <td>1.068560e+05</td>\n",
       "      <td>1.068560e+05</td>\n",
       "      <td>106856.000000</td>\n",
       "      <td>106856.000000</td>\n",
       "    </tr>\n",
       "    <tr>\n",
       "      <th>mean</th>\n",
       "      <td>6.382138e+08</td>\n",
       "      <td>5.772462e+07</td>\n",
       "      <td>608.648068</td>\n",
       "      <td>55.050488</td>\n",
       "    </tr>\n",
       "    <tr>\n",
       "      <th>std</th>\n",
       "      <td>1.560293e+09</td>\n",
       "      <td>1.403131e+08</td>\n",
       "      <td>1488.010937</td>\n",
       "      <td>133.812991</td>\n",
       "    </tr>\n",
       "    <tr>\n",
       "      <th>min</th>\n",
       "      <td>8.827082e+06</td>\n",
       "      <td>2.866892e+06</td>\n",
       "      <td>8.418161</td>\n",
       "      <td>2.734081</td>\n",
       "    </tr>\n",
       "    <tr>\n",
       "      <th>25%</th>\n",
       "      <td>3.148323e+08</td>\n",
       "      <td>3.639547e+07</td>\n",
       "      <td>300.247463</td>\n",
       "      <td>34.709430</td>\n",
       "    </tr>\n",
       "    <tr>\n",
       "      <th>50%</th>\n",
       "      <td>5.703738e+08</td>\n",
       "      <td>4.679387e+07</td>\n",
       "      <td>543.950803</td>\n",
       "      <td>44.626108</td>\n",
       "    </tr>\n",
       "    <tr>\n",
       "      <th>75%</th>\n",
       "      <td>8.073704e+08</td>\n",
       "      <td>6.573405e+07</td>\n",
       "      <td>769.968404</td>\n",
       "      <td>62.688872</td>\n",
       "    </tr>\n",
       "    <tr>\n",
       "      <th>max</th>\n",
       "      <td>4.875441e+11</td>\n",
       "      <td>4.441823e+10</td>\n",
       "      <td>464958.288934</td>\n",
       "      <td>42360.529887</td>\n",
       "    </tr>\n",
       "  </tbody>\n",
       "</table>\n",
       "</div>"
      ],
      "text/plain": [
       "       total_dl_(bytes)  total_ul_(bytes)  total_dl_(MB)  total_ul_(MB)\n",
       "count      1.068560e+05      1.068560e+05  106856.000000  106856.000000\n",
       "mean       6.382138e+08      5.772462e+07     608.648068      55.050488\n",
       "std        1.560293e+09      1.403131e+08    1488.010937     133.812991\n",
       "min        8.827082e+06      2.866892e+06       8.418161       2.734081\n",
       "25%        3.148323e+08      3.639547e+07     300.247463      34.709430\n",
       "50%        5.703738e+08      4.679387e+07     543.950803      44.626108\n",
       "75%        8.073704e+08      6.573405e+07     769.968404      62.688872\n",
       "max        4.875441e+11      4.441823e+10  464958.288934   42360.529887"
      ]
     },
     "execution_count": 29,
     "metadata": {},
     "output_type": "execute_result"
    }
   ],
   "source": [
    "ul_dl_data.describe()"
   ]
  },
  {
   "cell_type": "markdown",
   "metadata": {},
   "source": [
    "From the above data we can understand that the average data size downloaded by a user is 608.6MB while the average data size uploaded by a user is 55MB"
   ]
  },
  {
   "cell_type": "markdown",
   "metadata": {},
   "source": [
    "#### total data volume (bytes) during the session for each application"
   ]
  },
  {
   "cell_type": "code",
   "execution_count": 30,
   "metadata": {},
   "outputs": [
    {
     "data": {
      "text/html": [
       "<div>\n",
       "<style scoped>\n",
       "    .dataframe tbody tr th:only-of-type {\n",
       "        vertical-align: middle;\n",
       "    }\n",
       "\n",
       "    .dataframe tbody tr th {\n",
       "        vertical-align: top;\n",
       "    }\n",
       "\n",
       "    .dataframe thead th {\n",
       "        text-align: right;\n",
       "    }\n",
       "</style>\n",
       "<table border=\"1\" class=\"dataframe\">\n",
       "  <thead>\n",
       "    <tr style=\"text-align: right;\">\n",
       "      <th></th>\n",
       "      <th>email</th>\n",
       "      <th>gaming</th>\n",
       "      <th>google</th>\n",
       "      <th>netflix</th>\n",
       "      <th>social_media</th>\n",
       "      <th>youtube</th>\n",
       "      <th>other</th>\n",
       "      <th>total</th>\n",
       "    </tr>\n",
       "    <tr>\n",
       "      <th>msisdn/number</th>\n",
       "      <th></th>\n",
       "      <th></th>\n",
       "      <th></th>\n",
       "      <th></th>\n",
       "      <th></th>\n",
       "      <th></th>\n",
       "      <th></th>\n",
       "      <th></th>\n",
       "    </tr>\n",
       "  </thead>\n",
       "  <tbody>\n",
       "    <tr>\n",
       "      <th>3.366371e+10</th>\n",
       "      <td>2.403622e+09</td>\n",
       "      <td>4.616346e+11</td>\n",
       "      <td>8.250702e+09</td>\n",
       "      <td>2.428211e+10</td>\n",
       "      <td>1.974199e+09</td>\n",
       "      <td>2.435073e+10</td>\n",
       "      <td>4.516521e+11</td>\n",
       "      <td>5.319623e+11</td>\n",
       "    </tr>\n",
       "    <tr>\n",
       "      <th>3.361489e+10</th>\n",
       "      <td>4.078863e+07</td>\n",
       "      <td>7.749432e+09</td>\n",
       "      <td>1.279738e+08</td>\n",
       "      <td>3.614010e+08</td>\n",
       "      <td>2.829454e+07</td>\n",
       "      <td>3.943702e+08</td>\n",
       "      <td>7.639264e+09</td>\n",
       "      <td>8.846226e+09</td>\n",
       "    </tr>\n",
       "    <tr>\n",
       "      <th>3.376054e+10</th>\n",
       "      <td>3.369377e+07</td>\n",
       "      <td>7.461045e+09</td>\n",
       "      <td>1.232231e+08</td>\n",
       "      <td>3.346433e+08</td>\n",
       "      <td>3.978319e+07</td>\n",
       "      <td>3.962892e+08</td>\n",
       "      <td>4.716134e+09</td>\n",
       "      <td>8.514774e+09</td>\n",
       "    </tr>\n",
       "    <tr>\n",
       "      <th>3.362578e+10</th>\n",
       "      <td>4.063397e+07</td>\n",
       "      <td>7.326673e+09</td>\n",
       "      <td>1.423079e+08</td>\n",
       "      <td>3.569806e+08</td>\n",
       "      <td>2.713550e+07</td>\n",
       "      <td>4.529588e+08</td>\n",
       "      <td>6.354583e+09</td>\n",
       "      <td>8.499621e+09</td>\n",
       "    </tr>\n",
       "    <tr>\n",
       "      <th>3.362632e+10</th>\n",
       "      <td>4.241878e+07</td>\n",
       "      <td>6.887572e+09</td>\n",
       "      <td>1.521919e+08</td>\n",
       "      <td>3.287257e+08</td>\n",
       "      <td>4.337478e+07</td>\n",
       "      <td>3.744830e+08</td>\n",
       "      <td>8.167878e+09</td>\n",
       "      <td>7.971167e+09</td>\n",
       "    </tr>\n",
       "    <tr>\n",
       "      <th>...</th>\n",
       "      <td>...</td>\n",
       "      <td>...</td>\n",
       "      <td>...</td>\n",
       "      <td>...</td>\n",
       "      <td>...</td>\n",
       "      <td>...</td>\n",
       "      <td>...</td>\n",
       "      <td>...</td>\n",
       "    </tr>\n",
       "    <tr>\n",
       "      <th>3.367548e+10</th>\n",
       "      <td>7.534170e+05</td>\n",
       "      <td>5.847338e+06</td>\n",
       "      <td>1.609008e+06</td>\n",
       "      <td>4.610190e+06</td>\n",
       "      <td>6.144500e+04</td>\n",
       "      <td>2.427441e+07</td>\n",
       "      <td>1.782843e+08</td>\n",
       "      <td>3.802236e+07</td>\n",
       "    </tr>\n",
       "    <tr>\n",
       "      <th>3.378251e+10</th>\n",
       "      <td>9.645170e+05</td>\n",
       "      <td>1.185352e+07</td>\n",
       "      <td>1.585111e+06</td>\n",
       "      <td>8.340757e+06</td>\n",
       "      <td>1.441236e+06</td>\n",
       "      <td>1.100611e+07</td>\n",
       "      <td>3.796406e+08</td>\n",
       "      <td>3.792924e+07</td>\n",
       "    </tr>\n",
       "    <tr>\n",
       "      <th>3.366668e+10</th>\n",
       "      <td>2.576936e+06</td>\n",
       "      <td>1.980834e+06</td>\n",
       "      <td>4.339447e+06</td>\n",
       "      <td>1.743873e+07</td>\n",
       "      <td>7.506630e+05</td>\n",
       "      <td>3.927196e+06</td>\n",
       "      <td>2.987000e+08</td>\n",
       "      <td>3.399962e+07</td>\n",
       "    </tr>\n",
       "    <tr>\n",
       "      <th>3.366132e+10</th>\n",
       "      <td>3.662330e+06</td>\n",
       "      <td>1.020477e+07</td>\n",
       "      <td>3.198272e+06</td>\n",
       "      <td>3.200143e+06</td>\n",
       "      <td>6.234810e+05</td>\n",
       "      <td>1.035866e+07</td>\n",
       "      <td>4.656240e+08</td>\n",
       "      <td>3.357584e+07</td>\n",
       "    </tr>\n",
       "    <tr>\n",
       "      <th>3.365920e+10</th>\n",
       "      <td>3.242840e+05</td>\n",
       "      <td>7.060100e+06</td>\n",
       "      <td>4.088830e+06</td>\n",
       "      <td>6.989557e+06</td>\n",
       "      <td>1.277721e+06</td>\n",
       "      <td>1.266156e+07</td>\n",
       "      <td>5.113630e+08</td>\n",
       "      <td>3.324901e+07</td>\n",
       "    </tr>\n",
       "  </tbody>\n",
       "</table>\n",
       "<p>106856 rows × 8 columns</p>\n",
       "</div>"
      ],
      "text/plain": [
       "                      email        gaming        google       netflix  \\\n",
       "msisdn/number                                                           \n",
       "3.366371e+10   2.403622e+09  4.616346e+11  8.250702e+09  2.428211e+10   \n",
       "3.361489e+10   4.078863e+07  7.749432e+09  1.279738e+08  3.614010e+08   \n",
       "3.376054e+10   3.369377e+07  7.461045e+09  1.232231e+08  3.346433e+08   \n",
       "3.362578e+10   4.063397e+07  7.326673e+09  1.423079e+08  3.569806e+08   \n",
       "3.362632e+10   4.241878e+07  6.887572e+09  1.521919e+08  3.287257e+08   \n",
       "...                     ...           ...           ...           ...   \n",
       "3.367548e+10   7.534170e+05  5.847338e+06  1.609008e+06  4.610190e+06   \n",
       "3.378251e+10   9.645170e+05  1.185352e+07  1.585111e+06  8.340757e+06   \n",
       "3.366668e+10   2.576936e+06  1.980834e+06  4.339447e+06  1.743873e+07   \n",
       "3.366132e+10   3.662330e+06  1.020477e+07  3.198272e+06  3.200143e+06   \n",
       "3.365920e+10   3.242840e+05  7.060100e+06  4.088830e+06  6.989557e+06   \n",
       "\n",
       "               social_media       youtube         other         total  \n",
       "msisdn/number                                                          \n",
       "3.366371e+10   1.974199e+09  2.435073e+10  4.516521e+11  5.319623e+11  \n",
       "3.361489e+10   2.829454e+07  3.943702e+08  7.639264e+09  8.846226e+09  \n",
       "3.376054e+10   3.978319e+07  3.962892e+08  4.716134e+09  8.514774e+09  \n",
       "3.362578e+10   2.713550e+07  4.529588e+08  6.354583e+09  8.499621e+09  \n",
       "3.362632e+10   4.337478e+07  3.744830e+08  8.167878e+09  7.971167e+09  \n",
       "...                     ...           ...           ...           ...  \n",
       "3.367548e+10   6.144500e+04  2.427441e+07  1.782843e+08  3.802236e+07  \n",
       "3.378251e+10   1.441236e+06  1.100611e+07  3.796406e+08  3.792924e+07  \n",
       "3.366668e+10   7.506630e+05  3.927196e+06  2.987000e+08  3.399962e+07  \n",
       "3.366132e+10   6.234810e+05  1.035866e+07  4.656240e+08  3.357584e+07  \n",
       "3.365920e+10   1.277721e+06  1.266156e+07  5.113630e+08  3.324901e+07  \n",
       "\n",
       "[106856 rows x 8 columns]"
      ]
     },
     "execution_count": 30,
     "metadata": {},
     "output_type": "execute_result"
    }
   ],
   "source": [
    "total_data_volume = cleaned_df.groupby([\"msisdn/number\"]).agg({\n",
    "    \"email_dl_(bytes)\": \"sum\",\n",
    "    \"email_ul_(bytes)\": \"sum\",\n",
    "    \"gaming_dl_(bytes)\": \"sum\",\n",
    "    \"gaming_ul_(bytes)\": \"sum\",\n",
    "    \"google_dl_(bytes)\": \"sum\",\n",
    "    \"google_ul_(bytes)\": \"sum\",\n",
    "    \"netflix_dl_(bytes)\": \"sum\",\n",
    "    \"netflix_ul_(bytes)\": \"sum\",\n",
    "    \"other_dl_(bytes)\": \"sum\",\n",
    "    \"other_ul_(bytes)\": \"sum\",\n",
    "    \"social_media_dl_(bytes)\": \"sum\",\n",
    "    \"social_media_ul_(bytes)\": \"sum\",\n",
    "    \"youtube_dl_(bytes)\": \"sum\",\n",
    "    \"youtube_ul_(bytes)\": \"sum\",\n",
    "    \"total_dl_(bytes)\": \"sum\",\n",
    "    \"total_ul_(bytes)\": \"sum\"\n",
    "})[[\"email_dl_(bytes)\",\"email_ul_(bytes)\",\"gaming_dl_(bytes)\",\"gaming_ul_(bytes)\",\"google_dl_(bytes)\",\"google_ul_(bytes)\",\"netflix_dl_(bytes)\",\"netflix_ul_(bytes)\",\"other_dl_(bytes)\",\"other_ul_(bytes)\",\"social_media_dl_(bytes)\",\"social_media_ul_(bytes)\",\"youtube_dl_(bytes)\",\"youtube_ul_(bytes)\",\"total_dl_(bytes)\",\"total_ul_(bytes)\"]]\n",
    "\n",
    "total_data_volume[\"email\"]=total_data_volume[\"email_dl_(bytes)\"] + total_data_volume[\"email_ul_(bytes)\"]\n",
    "total_data_volume[\"gaming\"]=total_data_volume[\"gaming_dl_(bytes)\"] + total_data_volume[\"gaming_ul_(bytes)\"]\n",
    "total_data_volume[\"google\"]=total_data_volume[\"google_dl_(bytes)\"] + total_data_volume[\"google_ul_(bytes)\"]\n",
    "total_data_volume[\"netflix\"]=total_data_volume[\"netflix_dl_(bytes)\"] + total_data_volume[\"netflix_ul_(bytes)\"]\n",
    "total_data_volume[\"social_media\"]=total_data_volume[\"social_media_dl_(bytes)\"] + total_data_volume[\"social_media_ul_(bytes)\"]\n",
    "total_data_volume[\"youtube\"]=total_data_volume[\"youtube_dl_(bytes)\"] + total_data_volume[\"youtube_ul_(bytes)\"]\n",
    "total_data_volume[\"other\"]=total_data_volume[\"other_dl_(bytes)\"] + total_data_volume[\"other_ul_(bytes)\"]\n",
    "total_data_volume[\"total\"]=total_data_volume[\"total_dl_(bytes)\"] + total_data_volume[\"total_ul_(bytes)\"]\n",
    "\n",
    "total_data_volume=total_data_volume[[\"email\",\"gaming\",\"google\",\"netflix\",\"social_media\",\"youtube\",\"other\",\"total\"]]\n",
    "total_data_volume.sort_values(by=[\"total\"],ascending=False,inplace=True)\n",
    "total_data_volume.dropna(axis=0,inplace=True)\n",
    "total_data_volume\n"
   ]
  },
  {
   "cell_type": "code",
   "execution_count": 31,
   "metadata": {},
   "outputs": [
    {
     "data": {
      "text/html": [
       "<div>\n",
       "<style scoped>\n",
       "    .dataframe tbody tr th:only-of-type {\n",
       "        vertical-align: middle;\n",
       "    }\n",
       "\n",
       "    .dataframe tbody tr th {\n",
       "        vertical-align: top;\n",
       "    }\n",
       "\n",
       "    .dataframe thead th {\n",
       "        text-align: right;\n",
       "    }\n",
       "</style>\n",
       "<table border=\"1\" class=\"dataframe\">\n",
       "  <thead>\n",
       "    <tr style=\"text-align: right;\">\n",
       "      <th></th>\n",
       "      <th>email</th>\n",
       "      <th>gaming</th>\n",
       "      <th>google</th>\n",
       "      <th>netflix</th>\n",
       "      <th>social_media</th>\n",
       "      <th>youtube</th>\n",
       "      <th>other</th>\n",
       "      <th>total</th>\n",
       "    </tr>\n",
       "  </thead>\n",
       "  <tbody>\n",
       "    <tr>\n",
       "      <th>count</th>\n",
       "      <td>1.068560e+05</td>\n",
       "      <td>1.068560e+05</td>\n",
       "      <td>1.068560e+05</td>\n",
       "      <td>1.068560e+05</td>\n",
       "      <td>1.068560e+05</td>\n",
       "      <td>1.068560e+05</td>\n",
       "      <td>1.068560e+05</td>\n",
       "      <td>1.068560e+05</td>\n",
       "    </tr>\n",
       "    <tr>\n",
       "      <th>mean</th>\n",
       "      <td>3.171255e+06</td>\n",
       "      <td>6.040877e+08</td>\n",
       "      <td>1.095963e+07</td>\n",
       "      <td>3.176531e+07</td>\n",
       "      <td>2.566439e+06</td>\n",
       "      <td>3.178619e+07</td>\n",
       "      <td>6.027292e+08</td>\n",
       "      <td>6.959384e+08</td>\n",
       "    </tr>\n",
       "    <tr>\n",
       "      <th>std</th>\n",
       "      <td>7.672330e+06</td>\n",
       "      <td>1.480165e+09</td>\n",
       "      <td>2.631175e+07</td>\n",
       "      <td>7.718044e+07</td>\n",
       "      <td>6.326171e+06</td>\n",
       "      <td>7.738362e+07</td>\n",
       "      <td>1.451030e+09</td>\n",
       "      <td>1.697802e+09</td>\n",
       "    </tr>\n",
       "    <tr>\n",
       "      <th>min</th>\n",
       "      <td>1.817600e+04</td>\n",
       "      <td>3.063580e+05</td>\n",
       "      <td>4.033000e+04</td>\n",
       "      <td>1.845690e+05</td>\n",
       "      <td>1.563000e+03</td>\n",
       "      <td>7.890300e+04</td>\n",
       "      <td>1.490450e+05</td>\n",
       "      <td>3.324901e+07</td>\n",
       "    </tr>\n",
       "    <tr>\n",
       "      <th>25%</th>\n",
       "      <td>1.674481e+06</td>\n",
       "      <td>2.880756e+08</td>\n",
       "      <td>5.942698e+06</td>\n",
       "      <td>1.855597e+07</td>\n",
       "      <td>1.211364e+06</td>\n",
       "      <td>1.863157e+07</td>\n",
       "      <td>2.855599e+08</td>\n",
       "      <td>3.585617e+08</td>\n",
       "    </tr>\n",
       "    <tr>\n",
       "      <th>50%</th>\n",
       "      <td>2.799824e+06</td>\n",
       "      <td>5.423560e+08</td>\n",
       "      <td>9.586190e+06</td>\n",
       "      <td>2.671889e+07</td>\n",
       "      <td>2.303820e+06</td>\n",
       "      <td>2.680045e+07</td>\n",
       "      <td>5.398323e+08</td>\n",
       "      <td>6.179299e+08</td>\n",
       "    </tr>\n",
       "    <tr>\n",
       "      <th>75%</th>\n",
       "      <td>3.847206e+06</td>\n",
       "      <td>7.773118e+08</td>\n",
       "      <td>1.321505e+07</td>\n",
       "      <td>3.797737e+07</td>\n",
       "      <td>3.307530e+06</td>\n",
       "      <td>3.792833e+07</td>\n",
       "      <td>7.754190e+08</td>\n",
       "      <td>8.574377e+08</td>\n",
       "    </tr>\n",
       "    <tr>\n",
       "      <th>max</th>\n",
       "      <td>2.403622e+09</td>\n",
       "      <td>4.616346e+11</td>\n",
       "      <td>8.250702e+09</td>\n",
       "      <td>2.428211e+10</td>\n",
       "      <td>1.974199e+09</td>\n",
       "      <td>2.435073e+10</td>\n",
       "      <td>4.516521e+11</td>\n",
       "      <td>5.319623e+11</td>\n",
       "    </tr>\n",
       "  </tbody>\n",
       "</table>\n",
       "</div>"
      ],
      "text/plain": [
       "              email        gaming        google       netflix  social_media  \\\n",
       "count  1.068560e+05  1.068560e+05  1.068560e+05  1.068560e+05  1.068560e+05   \n",
       "mean   3.171255e+06  6.040877e+08  1.095963e+07  3.176531e+07  2.566439e+06   \n",
       "std    7.672330e+06  1.480165e+09  2.631175e+07  7.718044e+07  6.326171e+06   \n",
       "min    1.817600e+04  3.063580e+05  4.033000e+04  1.845690e+05  1.563000e+03   \n",
       "25%    1.674481e+06  2.880756e+08  5.942698e+06  1.855597e+07  1.211364e+06   \n",
       "50%    2.799824e+06  5.423560e+08  9.586190e+06  2.671889e+07  2.303820e+06   \n",
       "75%    3.847206e+06  7.773118e+08  1.321505e+07  3.797737e+07  3.307530e+06   \n",
       "max    2.403622e+09  4.616346e+11  8.250702e+09  2.428211e+10  1.974199e+09   \n",
       "\n",
       "            youtube         other         total  \n",
       "count  1.068560e+05  1.068560e+05  1.068560e+05  \n",
       "mean   3.178619e+07  6.027292e+08  6.959384e+08  \n",
       "std    7.738362e+07  1.451030e+09  1.697802e+09  \n",
       "min    7.890300e+04  1.490450e+05  3.324901e+07  \n",
       "25%    1.863157e+07  2.855599e+08  3.585617e+08  \n",
       "50%    2.680045e+07  5.398323e+08  6.179299e+08  \n",
       "75%    3.792833e+07  7.754190e+08  8.574377e+08  \n",
       "max    2.435073e+10  4.516521e+11  5.319623e+11  "
      ]
     },
     "execution_count": 31,
     "metadata": {},
     "output_type": "execute_result"
    }
   ],
   "source": [
    "total_data_volume.describe()"
   ]
  },
  {
   "cell_type": "code",
   "execution_count": 32,
   "metadata": {},
   "outputs": [
    {
     "data": {
      "image/png": "[encoded data removed]",
      "text/plain": [
       "<Figure size 1000x500 with 1 Axes>"
      ]
     },
     "metadata": {},
     "output_type": "display_data"
    }
   ],
   "source": [
    "pd.DataFrame(total_data_volume.describe()).loc[[\"std\",\"mean\",\"max\"]].plot(kind=\"bar\",title=\"Comparision of Std, mean, and max among apps\",figsize=(10,5))\n",
    "plt.show()"
   ]
  },
  {
   "cell_type": "markdown",
   "metadata": {},
   "source": [
    "### Task 2.2 "
   ]
  },
  {
   "cell_type": "code",
   "execution_count": 33,
   "metadata": {},
   "outputs": [],
   "source": [
    "cleaned_df[\"social_media\"] = cleaned_df[\"social_media_dl_(bytes)\"] + cleaned_df['social_media_ul_(bytes)']\n",
    "cleaned_df[\"google\"] = cleaned_df[\"google_dl_(bytes)\"] + cleaned_df[\"google_ul_(bytes)\"]\n",
    "cleaned_df['email'] = cleaned_df[\"email_dl_(bytes)\"] + cleaned_df[\"email_ul_(bytes)\"]\n",
    "cleaned_df['youtube'] = cleaned_df[\"youtube_dl_(bytes)\"] + cleaned_df[\"youtube_ul_(bytes)\"]\n",
    "cleaned_df['netflix'] = cleaned_df[\"netflix_dl_(bytes)\"] + cleaned_df[\"netflix_ul_(bytes)\"]\n",
    "cleaned_df[\"gaming\"] = cleaned_df[\"gaming_dl_(bytes)\"] + cleaned_df[\"gaming_ul_(bytes)\"]\n",
    "cleaned_df['other']= cleaned_df[\"other_dl_(bytes)\"]+ cleaned_df[\"other_ul_(bytes)\"]\n",
    "cleaned_df['total_data'] = cleaned_df['total_dl_(bytes)'] + cleaned_df['total_ul_(bytes)']"
   ]
  },
  {
   "cell_type": "code",
   "execution_count": 34,
   "metadata": {},
   "outputs": [],
   "source": [
    "explore_feature_df=cleaned_df[[ 'msisdn/number', 'last_location_name',\n",
    "                        'handset_manufacturer', 'handset_type', 'dur._(ms)', \n",
    "                        'social_media', 'google', 'email', 'youtube', 'netflix',\n",
    "                        'gaming','other', 'total_data'\n",
    "                    ]]"
   ]
  },
  {
   "cell_type": "code",
   "execution_count": 35,
   "metadata": {},
   "outputs": [
    {
     "data": {
      "text/html": [
       "<div>\n",
       "<style scoped>\n",
       "    .dataframe tbody tr th:only-of-type {\n",
       "        vertical-align: middle;\n",
       "    }\n",
       "\n",
       "    .dataframe tbody tr th {\n",
       "        vertical-align: top;\n",
       "    }\n",
       "\n",
       "    .dataframe thead th {\n",
       "        text-align: right;\n",
       "    }\n",
       "</style>\n",
       "<table border=\"1\" class=\"dataframe\">\n",
       "  <thead>\n",
       "    <tr style=\"text-align: right;\">\n",
       "      <th></th>\n",
       "      <th>msisdn</th>\n",
       "      <th>location</th>\n",
       "      <th>manufacturer</th>\n",
       "      <th>handset_type</th>\n",
       "      <th>dur_ms</th>\n",
       "      <th>social_media</th>\n",
       "      <th>google</th>\n",
       "      <th>email</th>\n",
       "      <th>youtube</th>\n",
       "      <th>netflix</th>\n",
       "      <th>gaming</th>\n",
       "      <th>other</th>\n",
       "      <th>total_data</th>\n",
       "    </tr>\n",
       "  </thead>\n",
       "  <tbody>\n",
       "    <tr>\n",
       "      <th>0</th>\n",
       "      <td>3.366496e+10</td>\n",
       "      <td>9.16456699548519E+015</td>\n",
       "      <td>Samsung</td>\n",
       "      <td>Samsung Galaxy A5 Sm-A520F</td>\n",
       "      <td>1823652.0</td>\n",
       "      <td>1570185.0</td>\n",
       "      <td>2905912.0</td>\n",
       "      <td>3701304.0</td>\n",
       "      <td>18355943.0</td>\n",
       "      <td>17855187.0</td>\n",
       "      <td>292426453.0</td>\n",
       "      <td>180558843.0</td>\n",
       "      <td>345629377.0</td>\n",
       "    </tr>\n",
       "    <tr>\n",
       "      <th>1</th>\n",
       "      <td>3.368185e+10</td>\n",
       "      <td>L77566A</td>\n",
       "      <td>Samsung</td>\n",
       "      <td>Samsung Galaxy J5 (Sm-J530)</td>\n",
       "      <td>1365104.0</td>\n",
       "      <td>1933278.0</td>\n",
       "      <td>4414096.0</td>\n",
       "      <td>937385.0</td>\n",
       "      <td>39359124.0</td>\n",
       "      <td>35565545.0</td>\n",
       "      <td>609920783.0</td>\n",
       "      <td>541959383.0</td>\n",
       "      <td>707185356.0</td>\n",
       "    </tr>\n",
       "    <tr>\n",
       "      <th>2</th>\n",
       "      <td>3.376063e+10</td>\n",
       "      <td>D42335A</td>\n",
       "      <td>Samsung</td>\n",
       "      <td>Samsung Galaxy A8 (2018)</td>\n",
       "      <td>1361762.0</td>\n",
       "      <td>1726277.0</td>\n",
       "      <td>10229119.0</td>\n",
       "      <td>3363124.0</td>\n",
       "      <td>34425237.0</td>\n",
       "      <td>23751202.0</td>\n",
       "      <td>229980251.0</td>\n",
       "      <td>414908351.0</td>\n",
       "      <td>307690973.0</td>\n",
       "    </tr>\n",
       "    <tr>\n",
       "      <th>3</th>\n",
       "      <td>3.375034e+10</td>\n",
       "      <td>T21824A</td>\n",
       "      <td>undefined</td>\n",
       "      <td>undefined</td>\n",
       "      <td>1321509.0</td>\n",
       "      <td>657493.0</td>\n",
       "      <td>11811761.0</td>\n",
       "      <td>2070983.0</td>\n",
       "      <td>36534765.0</td>\n",
       "      <td>15092588.0</td>\n",
       "      <td>810387875.0</td>\n",
       "      <td>761837216.0</td>\n",
       "      <td>889352748.0</td>\n",
       "    </tr>\n",
       "    <tr>\n",
       "      <th>4</th>\n",
       "      <td>3.369980e+10</td>\n",
       "      <td>D88865A</td>\n",
       "      <td>Samsung</td>\n",
       "      <td>Samsung Sm-G390F</td>\n",
       "      <td>1089009.0</td>\n",
       "      <td>912788.0</td>\n",
       "      <td>7748843.0</td>\n",
       "      <td>2110349.0</td>\n",
       "      <td>34222253.0</td>\n",
       "      <td>17539799.0</td>\n",
       "      <td>531237049.0</td>\n",
       "      <td>564619822.0</td>\n",
       "      <td>607681403.0</td>\n",
       "    </tr>\n",
       "  </tbody>\n",
       "</table>\n",
       "</div>"
      ],
      "text/plain": [
       "         msisdn               location manufacturer  \\\n",
       "0  3.366496e+10  9.16456699548519E+015      Samsung   \n",
       "1  3.368185e+10                L77566A      Samsung   \n",
       "2  3.376063e+10                D42335A      Samsung   \n",
       "3  3.375034e+10                T21824A    undefined   \n",
       "4  3.369980e+10                D88865A      Samsung   \n",
       "\n",
       "                  handset_type     dur_ms  social_media      google  \\\n",
       "0   Samsung Galaxy A5 Sm-A520F  1823652.0     1570185.0   2905912.0   \n",
       "1  Samsung Galaxy J5 (Sm-J530)  1365104.0     1933278.0   4414096.0   \n",
       "2     Samsung Galaxy A8 (2018)  1361762.0     1726277.0  10229119.0   \n",
       "3                    undefined  1321509.0      657493.0  11811761.0   \n",
       "4             Samsung Sm-G390F  1089009.0      912788.0   7748843.0   \n",
       "\n",
       "       email     youtube     netflix       gaming        other   total_data  \n",
       "0  3701304.0  18355943.0  17855187.0  292426453.0  180558843.0  345629377.0  \n",
       "1   937385.0  39359124.0  35565545.0  609920783.0  541959383.0  707185356.0  \n",
       "2  3363124.0  34425237.0  23751202.0  229980251.0  414908351.0  307690973.0  \n",
       "3  2070983.0  36534765.0  15092588.0  810387875.0  761837216.0  889352748.0  \n",
       "4  2110349.0  34222253.0  17539799.0  531237049.0  564619822.0  607681403.0  "
      ]
     },
     "execution_count": 35,
     "metadata": {},
     "output_type": "execute_result"
    }
   ],
   "source": [
    "explore_feature_df=explore_feature_df.rename(columns={\"msisdn/number\":\"msisdn\",\"handset_manufacturer\":\"manufacturer\",\"last_location_name\":\"location\",\"dur._(ms)\":\"dur_ms\"})\n",
    "explore_feature_df.head()"
   ]
  },
  {
   "cell_type": "markdown",
   "metadata": {},
   "source": [
    "#### Non-graphical Univariate Analysis"
   ]
  },
  {
   "cell_type": "code",
   "execution_count": 36,
   "metadata": {},
   "outputs": [
    {
     "data": {
      "text/html": [
       "<div>\n",
       "<style scoped>\n",
       "    .dataframe tbody tr th:only-of-type {\n",
       "        vertical-align: middle;\n",
       "    }\n",
       "\n",
       "    .dataframe tbody tr th {\n",
       "        vertical-align: top;\n",
       "    }\n",
       "\n",
       "    .dataframe thead th {\n",
       "        text-align: right;\n",
       "    }\n",
       "</style>\n",
       "<table border=\"1\" class=\"dataframe\">\n",
       "  <thead>\n",
       "    <tr style=\"text-align: right;\">\n",
       "      <th></th>\n",
       "      <th>dur_ms</th>\n",
       "      <th>email</th>\n",
       "      <th>google</th>\n",
       "      <th>gaming</th>\n",
       "      <th>netflix</th>\n",
       "      <th>social_media</th>\n",
       "      <th>youtube</th>\n",
       "      <th>other</th>\n",
       "      <th>total_data</th>\n",
       "    </tr>\n",
       "  </thead>\n",
       "  <tbody>\n",
       "    <tr>\n",
       "      <th>count</th>\n",
       "      <td>1.500010e+05</td>\n",
       "      <td>1.500010e+05</td>\n",
       "      <td>1.500010e+05</td>\n",
       "      <td>1.500010e+05</td>\n",
       "      <td>1.500010e+05</td>\n",
       "      <td>1.500010e+05</td>\n",
       "      <td>1.500010e+05</td>\n",
       "      <td>1.500010e+05</td>\n",
       "      <td>1.500010e+05</td>\n",
       "    </tr>\n",
       "    <tr>\n",
       "      <th>mean</th>\n",
       "      <td>1.046084e+05</td>\n",
       "      <td>2.259102e+06</td>\n",
       "      <td>7.807295e+06</td>\n",
       "      <td>4.303331e+08</td>\n",
       "      <td>2.262861e+07</td>\n",
       "      <td>1.828250e+06</td>\n",
       "      <td>2.264348e+07</td>\n",
       "      <td>4.293653e+08</td>\n",
       "      <td>4.957646e+08</td>\n",
       "    </tr>\n",
       "    <tr>\n",
       "      <th>std</th>\n",
       "      <td>8.103736e+04</td>\n",
       "      <td>1.071109e+06</td>\n",
       "      <td>3.516420e+06</td>\n",
       "      <td>2.440199e+08</td>\n",
       "      <td>9.260820e+06</td>\n",
       "      <td>1.035646e+06</td>\n",
       "      <td>9.246800e+06</td>\n",
       "      <td>2.432681e+08</td>\n",
       "      <td>2.443810e+08</td>\n",
       "    </tr>\n",
       "    <tr>\n",
       "      <th>min</th>\n",
       "      <td>7.142000e+03</td>\n",
       "      <td>8.359000e+03</td>\n",
       "      <td>4.033000e+04</td>\n",
       "      <td>3.063580e+05</td>\n",
       "      <td>9.843200e+04</td>\n",
       "      <td>1.563000e+03</td>\n",
       "      <td>7.890300e+04</td>\n",
       "      <td>1.490450e+05</td>\n",
       "      <td>2.895611e+07</td>\n",
       "    </tr>\n",
       "    <tr>\n",
       "      <th>25%</th>\n",
       "      <td>5.744200e+04</td>\n",
       "      <td>1.359344e+06</td>\n",
       "      <td>4.943599e+06</td>\n",
       "      <td>2.187279e+08</td>\n",
       "      <td>1.597946e+07</td>\n",
       "      <td>9.322180e+05</td>\n",
       "      <td>1.599846e+07</td>\n",
       "      <td>2.185534e+08</td>\n",
       "      <td>2.844764e+08</td>\n",
       "    </tr>\n",
       "    <tr>\n",
       "      <th>50%</th>\n",
       "      <td>8.639900e+04</td>\n",
       "      <td>2.263567e+06</td>\n",
       "      <td>7.812835e+06</td>\n",
       "      <td>4.316150e+08</td>\n",
       "      <td>2.263554e+07</td>\n",
       "      <td>1.826471e+06</td>\n",
       "      <td>2.266177e+07</td>\n",
       "      <td>4.299865e+08</td>\n",
       "      <td>4.968610e+08</td>\n",
       "    </tr>\n",
       "    <tr>\n",
       "      <th>75%</th>\n",
       "      <td>1.324300e+05</td>\n",
       "      <td>3.159818e+06</td>\n",
       "      <td>1.068280e+07</td>\n",
       "      <td>6.414159e+08</td>\n",
       "      <td>2.929044e+07</td>\n",
       "      <td>2.727487e+06</td>\n",
       "      <td>2.929260e+07</td>\n",
       "      <td>6.399275e+08</td>\n",
       "      <td>7.065054e+08</td>\n",
       "    </tr>\n",
       "    <tr>\n",
       "      <th>max</th>\n",
       "      <td>1.859336e+06</td>\n",
       "      <td>4.518036e+06</td>\n",
       "      <td>1.552878e+07</td>\n",
       "      <td>8.592028e+08</td>\n",
       "      <td>4.519815e+07</td>\n",
       "      <td>3.650861e+06</td>\n",
       "      <td>4.519008e+07</td>\n",
       "      <td>8.595209e+08</td>\n",
       "      <td>9.559848e+08</td>\n",
       "    </tr>\n",
       "  </tbody>\n",
       "</table>\n",
       "</div>"
      ],
      "text/plain": [
       "             dur_ms         email        google        gaming       netflix  \\\n",
       "count  1.500010e+05  1.500010e+05  1.500010e+05  1.500010e+05  1.500010e+05   \n",
       "mean   1.046084e+05  2.259102e+06  7.807295e+06  4.303331e+08  2.262861e+07   \n",
       "std    8.103736e+04  1.071109e+06  3.516420e+06  2.440199e+08  9.260820e+06   \n",
       "min    7.142000e+03  8.359000e+03  4.033000e+04  3.063580e+05  9.843200e+04   \n",
       "25%    5.744200e+04  1.359344e+06  4.943599e+06  2.187279e+08  1.597946e+07   \n",
       "50%    8.639900e+04  2.263567e+06  7.812835e+06  4.316150e+08  2.263554e+07   \n",
       "75%    1.324300e+05  3.159818e+06  1.068280e+07  6.414159e+08  2.929044e+07   \n",
       "max    1.859336e+06  4.518036e+06  1.552878e+07  8.592028e+08  4.519815e+07   \n",
       "\n",
       "       social_media       youtube         other    total_data  \n",
       "count  1.500010e+05  1.500010e+05  1.500010e+05  1.500010e+05  \n",
       "mean   1.828250e+06  2.264348e+07  4.293653e+08  4.957646e+08  \n",
       "std    1.035646e+06  9.246800e+06  2.432681e+08  2.443810e+08  \n",
       "min    1.563000e+03  7.890300e+04  1.490450e+05  2.895611e+07  \n",
       "25%    9.322180e+05  1.599846e+07  2.185534e+08  2.844764e+08  \n",
       "50%    1.826471e+06  2.266177e+07  4.299865e+08  4.968610e+08  \n",
       "75%    2.727487e+06  2.929260e+07  6.399275e+08  7.065054e+08  \n",
       "max    3.650861e+06  4.519008e+07  8.595209e+08  9.559848e+08  "
      ]
     },
     "execution_count": 36,
     "metadata": {},
     "output_type": "execute_result"
    }
   ],
   "source": [
    "quanititative_analysis= explore_feature_df[['dur_ms','email','google','gaming','netflix','social_media','youtube','other','total_data']]\n",
    "quanititative_analysis.describe()"
   ]
  },
  {
   "cell_type": "markdown",
   "metadata": {},
   "source": [
    "#### Graphical Univariate Analysis"
   ]
  },
  {
   "cell_type": "code",
   "execution_count": 39,
   "metadata": {},
   "outputs": [
    {
     "data": {
      "image/png": "[encoded data removed]",
      "text/plain": [
       "<Figure size 1200x700 with 1 Axes>"
      ]
     },
     "metadata": {},
     "output_type": "display_data"
    },
    {
     "data": {
      "image/png": "[encoded data removed]",
      "text/plain": [
       "<Figure size 1200x700 with 1 Axes>"
      ]
     },
     "metadata": {},
     "output_type": "display_data"
    }
   ],
   "source": [
    "numeric_columns = cleaner.get_numerical_columns(cleaned_df)\n",
    "numeric_df= cleaned_df[numeric_columns]\n",
    "utility.plot_hist(numeric_df,'email_dl_(bytes)','cornflowerblue')\n",
    "utility.plot_hist(numeric_df,'gaming_dl_(bytes)','cornflowerblue')\n",
    "# utility.plot_hist(numeric_df,'email_dl_(bytes)','cornflowerblue')"
   ]
  },
  {
   "cell_type": "code",
   "execution_count": 40,
   "metadata": {},
   "outputs": [
    {
     "data": {
      "image/png": "[encoded data removed]",
      "text/plain": [
       "<Figure size 1300x500 with 1 Axes>"
      ]
     },
     "metadata": {},
     "output_type": "display_data"
    }
   ],
   "source": [
    "sns.set(rc={'figure.figsize':(13,5)})\n",
    "sns.kdeplot(numeric_df[\"google_dl_(bytes)\"])\n",
    "plt.suptitle(\"Distibution of google DL data (kde)\")\n",
    "plt.show()"
   ]
  },
  {
   "cell_type": "code",
   "execution_count": 41,
   "metadata": {},
   "outputs": [
    {
     "data": {
      "image/png": "[encoded data removed]",
      "text/plain": [
       "<Figure size 1200x700 with 1 Axes>"
      ]
     },
     "metadata": {},
     "output_type": "display_data"
    },
    {
     "data": {
      "image/png": "[encoded data removed]",
      "text/plain": [
       "<Figure size 1200x700 with 1 Axes>"
      ]
     },
     "metadata": {},
     "output_type": "display_data"
    }
   ],
   "source": [
    "utility.plot_box(numeric_df,'google_dl_(bytes)','outlier detection for google dl ')\n",
    "utility.plot_box(numeric_df,'netflix_dl_(bytes)','outlier detection for netflix dl ')"
   ]
  },
  {
   "cell_type": "code",
   "execution_count": 42,
   "metadata": {},
   "outputs": [
    {
     "data": {
      "image/png": "[encoded data removed]",
      "text/plain": [
       "<Figure size 2000x800 with 2 Axes>"
      ]
     },
     "metadata": {},
     "output_type": "display_data"
    }
   ],
   "source": [
    "plt.figure(figsize=(20,8))\n",
    "plt.subplot(1,2,1,title=\"box visualization\")\n",
    "sns.boxplot(data=numeric_df[['dur._(ms)']],x=\"dur._(ms)\")\n",
    "plt.subplot(1,2,2,title=\"kde visualization\")\n",
    "sns.kdeplot(numeric_df[\"dur._(ms)\"])\n",
    "plt.suptitle(\"Distributions of durations data in ms\")\n",
    "plt.show()"
   ]
  },
  {
   "cell_type": "markdown",
   "metadata": {},
   "source": [
    "we can understand that from the above chart, there exists outliers in duration data"
   ]
  },
  {
   "cell_type": "markdown",
   "metadata": {},
   "source": [
    "#### Bivariate Analysis"
   ]
  },
  {
   "cell_type": "code",
   "execution_count": 43,
   "metadata": {},
   "outputs": [
    {
     "data": {
      "text/html": [
       "<div>\n",
       "<style scoped>\n",
       "    .dataframe tbody tr th:only-of-type {\n",
       "        vertical-align: middle;\n",
       "    }\n",
       "\n",
       "    .dataframe tbody tr th {\n",
       "        vertical-align: top;\n",
       "    }\n",
       "\n",
       "    .dataframe thead th {\n",
       "        text-align: right;\n",
       "    }\n",
       "</style>\n",
       "<table border=\"1\" class=\"dataframe\">\n",
       "  <thead>\n",
       "    <tr style=\"text-align: right;\">\n",
       "      <th></th>\n",
       "      <th>email</th>\n",
       "      <th>gaming</th>\n",
       "      <th>google</th>\n",
       "      <th>netflix</th>\n",
       "      <th>social_media</th>\n",
       "      <th>youtube</th>\n",
       "      <th>other</th>\n",
       "      <th>total</th>\n",
       "    </tr>\n",
       "    <tr>\n",
       "      <th>msisdn/number</th>\n",
       "      <th></th>\n",
       "      <th></th>\n",
       "      <th></th>\n",
       "      <th></th>\n",
       "      <th></th>\n",
       "      <th></th>\n",
       "      <th></th>\n",
       "      <th></th>\n",
       "    </tr>\n",
       "  </thead>\n",
       "  <tbody>\n",
       "    <tr>\n",
       "      <th>3.366371e+10</th>\n",
       "      <td>2.403622e+09</td>\n",
       "      <td>4.616346e+11</td>\n",
       "      <td>8.250702e+09</td>\n",
       "      <td>2.428211e+10</td>\n",
       "      <td>1.974199e+09</td>\n",
       "      <td>2.435073e+10</td>\n",
       "      <td>4.516521e+11</td>\n",
       "      <td>5.319623e+11</td>\n",
       "    </tr>\n",
       "    <tr>\n",
       "      <th>3.361489e+10</th>\n",
       "      <td>4.078863e+07</td>\n",
       "      <td>7.749432e+09</td>\n",
       "      <td>1.279738e+08</td>\n",
       "      <td>3.614010e+08</td>\n",
       "      <td>2.829454e+07</td>\n",
       "      <td>3.943702e+08</td>\n",
       "      <td>7.639264e+09</td>\n",
       "      <td>8.846226e+09</td>\n",
       "    </tr>\n",
       "    <tr>\n",
       "      <th>3.376054e+10</th>\n",
       "      <td>3.369377e+07</td>\n",
       "      <td>7.461045e+09</td>\n",
       "      <td>1.232231e+08</td>\n",
       "      <td>3.346433e+08</td>\n",
       "      <td>3.978319e+07</td>\n",
       "      <td>3.962892e+08</td>\n",
       "      <td>4.716134e+09</td>\n",
       "      <td>8.514774e+09</td>\n",
       "    </tr>\n",
       "    <tr>\n",
       "      <th>3.362578e+10</th>\n",
       "      <td>4.063397e+07</td>\n",
       "      <td>7.326673e+09</td>\n",
       "      <td>1.423079e+08</td>\n",
       "      <td>3.569806e+08</td>\n",
       "      <td>2.713550e+07</td>\n",
       "      <td>4.529588e+08</td>\n",
       "      <td>6.354583e+09</td>\n",
       "      <td>8.499621e+09</td>\n",
       "    </tr>\n",
       "    <tr>\n",
       "      <th>3.362632e+10</th>\n",
       "      <td>4.241878e+07</td>\n",
       "      <td>6.887572e+09</td>\n",
       "      <td>1.521919e+08</td>\n",
       "      <td>3.287257e+08</td>\n",
       "      <td>4.337478e+07</td>\n",
       "      <td>3.744830e+08</td>\n",
       "      <td>8.167878e+09</td>\n",
       "      <td>7.971167e+09</td>\n",
       "    </tr>\n",
       "    <tr>\n",
       "      <th>...</th>\n",
       "      <td>...</td>\n",
       "      <td>...</td>\n",
       "      <td>...</td>\n",
       "      <td>...</td>\n",
       "      <td>...</td>\n",
       "      <td>...</td>\n",
       "      <td>...</td>\n",
       "      <td>...</td>\n",
       "    </tr>\n",
       "    <tr>\n",
       "      <th>3.367548e+10</th>\n",
       "      <td>7.534170e+05</td>\n",
       "      <td>5.847338e+06</td>\n",
       "      <td>1.609008e+06</td>\n",
       "      <td>4.610190e+06</td>\n",
       "      <td>6.144500e+04</td>\n",
       "      <td>2.427441e+07</td>\n",
       "      <td>1.782843e+08</td>\n",
       "      <td>3.802236e+07</td>\n",
       "    </tr>\n",
       "    <tr>\n",
       "      <th>3.378251e+10</th>\n",
       "      <td>9.645170e+05</td>\n",
       "      <td>1.185352e+07</td>\n",
       "      <td>1.585111e+06</td>\n",
       "      <td>8.340757e+06</td>\n",
       "      <td>1.441236e+06</td>\n",
       "      <td>1.100611e+07</td>\n",
       "      <td>3.796406e+08</td>\n",
       "      <td>3.792924e+07</td>\n",
       "    </tr>\n",
       "    <tr>\n",
       "      <th>3.366668e+10</th>\n",
       "      <td>2.576936e+06</td>\n",
       "      <td>1.980834e+06</td>\n",
       "      <td>4.339447e+06</td>\n",
       "      <td>1.743873e+07</td>\n",
       "      <td>7.506630e+05</td>\n",
       "      <td>3.927196e+06</td>\n",
       "      <td>2.987000e+08</td>\n",
       "      <td>3.399962e+07</td>\n",
       "    </tr>\n",
       "    <tr>\n",
       "      <th>3.366132e+10</th>\n",
       "      <td>3.662330e+06</td>\n",
       "      <td>1.020477e+07</td>\n",
       "      <td>3.198272e+06</td>\n",
       "      <td>3.200143e+06</td>\n",
       "      <td>6.234810e+05</td>\n",
       "      <td>1.035866e+07</td>\n",
       "      <td>4.656240e+08</td>\n",
       "      <td>3.357584e+07</td>\n",
       "    </tr>\n",
       "    <tr>\n",
       "      <th>3.365920e+10</th>\n",
       "      <td>3.242840e+05</td>\n",
       "      <td>7.060100e+06</td>\n",
       "      <td>4.088830e+06</td>\n",
       "      <td>6.989557e+06</td>\n",
       "      <td>1.277721e+06</td>\n",
       "      <td>1.266156e+07</td>\n",
       "      <td>5.113630e+08</td>\n",
       "      <td>3.324901e+07</td>\n",
       "    </tr>\n",
       "  </tbody>\n",
       "</table>\n",
       "<p>106856 rows × 8 columns</p>\n",
       "</div>"
      ],
      "text/plain": [
       "                      email        gaming        google       netflix  \\\n",
       "msisdn/number                                                           \n",
       "3.366371e+10   2.403622e+09  4.616346e+11  8.250702e+09  2.428211e+10   \n",
       "3.361489e+10   4.078863e+07  7.749432e+09  1.279738e+08  3.614010e+08   \n",
       "3.376054e+10   3.369377e+07  7.461045e+09  1.232231e+08  3.346433e+08   \n",
       "3.362578e+10   4.063397e+07  7.326673e+09  1.423079e+08  3.569806e+08   \n",
       "3.362632e+10   4.241878e+07  6.887572e+09  1.521919e+08  3.287257e+08   \n",
       "...                     ...           ...           ...           ...   \n",
       "3.367548e+10   7.534170e+05  5.847338e+06  1.609008e+06  4.610190e+06   \n",
       "3.378251e+10   9.645170e+05  1.185352e+07  1.585111e+06  8.340757e+06   \n",
       "3.366668e+10   2.576936e+06  1.980834e+06  4.339447e+06  1.743873e+07   \n",
       "3.366132e+10   3.662330e+06  1.020477e+07  3.198272e+06  3.200143e+06   \n",
       "3.365920e+10   3.242840e+05  7.060100e+06  4.088830e+06  6.989557e+06   \n",
       "\n",
       "               social_media       youtube         other         total  \n",
       "msisdn/number                                                          \n",
       "3.366371e+10   1.974199e+09  2.435073e+10  4.516521e+11  5.319623e+11  \n",
       "3.361489e+10   2.829454e+07  3.943702e+08  7.639264e+09  8.846226e+09  \n",
       "3.376054e+10   3.978319e+07  3.962892e+08  4.716134e+09  8.514774e+09  \n",
       "3.362578e+10   2.713550e+07  4.529588e+08  6.354583e+09  8.499621e+09  \n",
       "3.362632e+10   4.337478e+07  3.744830e+08  8.167878e+09  7.971167e+09  \n",
       "...                     ...           ...           ...           ...  \n",
       "3.367548e+10   6.144500e+04  2.427441e+07  1.782843e+08  3.802236e+07  \n",
       "3.378251e+10   1.441236e+06  1.100611e+07  3.796406e+08  3.792924e+07  \n",
       "3.366668e+10   7.506630e+05  3.927196e+06  2.987000e+08  3.399962e+07  \n",
       "3.366132e+10   6.234810e+05  1.035866e+07  4.656240e+08  3.357584e+07  \n",
       "3.365920e+10   1.277721e+06  1.266156e+07  5.113630e+08  3.324901e+07  \n",
       "\n",
       "[106856 rows x 8 columns]"
      ]
     },
     "execution_count": 43,
     "metadata": {},
     "output_type": "execute_result"
    }
   ],
   "source": [
    "total_data_volume"
   ]
  },
  {
   "cell_type": "code",
   "execution_count": 44,
   "metadata": {},
   "outputs": [
    {
     "data": {
      "image/png": "[encoded data removed]",
      "text/plain": [
       "<Figure size 1500x1200 with 6 Axes>"
      ]
     },
     "metadata": {},
     "output_type": "display_data"
    }
   ],
   "source": [
    "plt.figure(figsize=(15,12))\n",
    "plt.subplot(2,3,1,title=\"social media data vs total data\")\n",
    "sns.scatterplot(data=total_data_volume,x=\"social_media\",y=\"total\",hue=None,style=None)\n",
    "\n",
    "plt.subplot(2,3,2,title=\"email data vs total data\")\n",
    "sns.scatterplot(data=total_data_volume,x=\"email\",y=\"total\",hue=None,style=None)\n",
    "\n",
    "plt.subplot(2,3,3,title=\"gaming data vs total data\")\n",
    "sns.scatterplot(data=total_data_volume,x=\"gaming\",y=\"total\",hue=None,style=None)\n",
    "\n",
    "plt.subplot(2,3,4,title=\"google data vs total data\")\n",
    "sns.scatterplot(data=total_data_volume,x=\"google\",y=\"total\",hue=None)\n",
    "\n",
    "plt.subplot(2,3,5,title=\"netflix data vs total data\")\n",
    "sns.scatterplot(data=total_data_volume,x=\"netflix\",y=\"total\",hue=\"netflix\")\n",
    "\n",
    "plt.subplot(2,3,6,title=\"youtube data vs total data\")\n",
    "sns.scatterplot(data=total_data_volume,x=\"youtube\",y=\"total\",hue=\"youtube\")\n",
    "\n",
    "plt.show()"
   ]
  },
  {
   "cell_type": "markdown",
   "metadata": {},
   "source": [
    "#### variable transformations"
   ]
  },
  {
   "cell_type": "code",
   "execution_count": 45,
   "metadata": {},
   "outputs": [
    {
     "data": {
      "text/html": [
       "<div>\n",
       "<style scoped>\n",
       "    .dataframe tbody tr th:only-of-type {\n",
       "        vertical-align: middle;\n",
       "    }\n",
       "\n",
       "    .dataframe tbody tr th {\n",
       "        vertical-align: top;\n",
       "    }\n",
       "\n",
       "    .dataframe thead th {\n",
       "        text-align: right;\n",
       "    }\n",
       "</style>\n",
       "<table border=\"1\" class=\"dataframe\">\n",
       "  <thead>\n",
       "    <tr style=\"text-align: right;\">\n",
       "      <th></th>\n",
       "      <th>msisdn</th>\n",
       "      <th>location</th>\n",
       "      <th>manufacturer</th>\n",
       "      <th>handset_type</th>\n",
       "      <th>dur_ms</th>\n",
       "      <th>social_media</th>\n",
       "      <th>google</th>\n",
       "      <th>email</th>\n",
       "      <th>youtube</th>\n",
       "      <th>netflix</th>\n",
       "      <th>gaming</th>\n",
       "      <th>other</th>\n",
       "      <th>total_data</th>\n",
       "    </tr>\n",
       "  </thead>\n",
       "  <tbody>\n",
       "    <tr>\n",
       "      <th>0</th>\n",
       "      <td>3.366496e+10</td>\n",
       "      <td>9.16456699548519E+015</td>\n",
       "      <td>Samsung</td>\n",
       "      <td>Samsung Galaxy A5 Sm-A520F</td>\n",
       "      <td>1823652.0</td>\n",
       "      <td>1.570185e+06</td>\n",
       "      <td>2.905912e+06</td>\n",
       "      <td>3.701304e+06</td>\n",
       "      <td>1.835594e+07</td>\n",
       "      <td>1.785519e+07</td>\n",
       "      <td>2.924265e+08</td>\n",
       "      <td>1.805588e+08</td>\n",
       "      <td>3.456294e+08</td>\n",
       "    </tr>\n",
       "    <tr>\n",
       "      <th>1</th>\n",
       "      <td>3.368185e+10</td>\n",
       "      <td>L77566A</td>\n",
       "      <td>Samsung</td>\n",
       "      <td>Samsung Galaxy J5 (Sm-J530)</td>\n",
       "      <td>1365104.0</td>\n",
       "      <td>1.933278e+06</td>\n",
       "      <td>4.414096e+06</td>\n",
       "      <td>9.373850e+05</td>\n",
       "      <td>3.935912e+07</td>\n",
       "      <td>3.556554e+07</td>\n",
       "      <td>6.099208e+08</td>\n",
       "      <td>5.419594e+08</td>\n",
       "      <td>7.071854e+08</td>\n",
       "    </tr>\n",
       "    <tr>\n",
       "      <th>2</th>\n",
       "      <td>3.376063e+10</td>\n",
       "      <td>D42335A</td>\n",
       "      <td>Samsung</td>\n",
       "      <td>Samsung Galaxy A8 (2018)</td>\n",
       "      <td>1361762.0</td>\n",
       "      <td>1.726277e+06</td>\n",
       "      <td>1.022912e+07</td>\n",
       "      <td>3.363124e+06</td>\n",
       "      <td>3.442524e+07</td>\n",
       "      <td>2.375120e+07</td>\n",
       "      <td>2.299803e+08</td>\n",
       "      <td>4.149084e+08</td>\n",
       "      <td>3.076910e+08</td>\n",
       "    </tr>\n",
       "    <tr>\n",
       "      <th>3</th>\n",
       "      <td>3.375034e+10</td>\n",
       "      <td>T21824A</td>\n",
       "      <td>undefined</td>\n",
       "      <td>undefined</td>\n",
       "      <td>1321509.0</td>\n",
       "      <td>6.574930e+05</td>\n",
       "      <td>1.181176e+07</td>\n",
       "      <td>2.070983e+06</td>\n",
       "      <td>3.653476e+07</td>\n",
       "      <td>1.509259e+07</td>\n",
       "      <td>8.103879e+08</td>\n",
       "      <td>7.618372e+08</td>\n",
       "      <td>8.893527e+08</td>\n",
       "    </tr>\n",
       "    <tr>\n",
       "      <th>4</th>\n",
       "      <td>3.369980e+10</td>\n",
       "      <td>D88865A</td>\n",
       "      <td>Samsung</td>\n",
       "      <td>Samsung Sm-G390F</td>\n",
       "      <td>1089009.0</td>\n",
       "      <td>9.127880e+05</td>\n",
       "      <td>7.748843e+06</td>\n",
       "      <td>2.110349e+06</td>\n",
       "      <td>3.422225e+07</td>\n",
       "      <td>1.753980e+07</td>\n",
       "      <td>5.312370e+08</td>\n",
       "      <td>5.646198e+08</td>\n",
       "      <td>6.076814e+08</td>\n",
       "    </tr>\n",
       "    <tr>\n",
       "      <th>...</th>\n",
       "      <td>...</td>\n",
       "      <td>...</td>\n",
       "      <td>...</td>\n",
       "      <td>...</td>\n",
       "      <td>...</td>\n",
       "      <td>...</td>\n",
       "      <td>...</td>\n",
       "      <td>...</td>\n",
       "      <td>...</td>\n",
       "      <td>...</td>\n",
       "      <td>...</td>\n",
       "      <td>...</td>\n",
       "      <td>...</td>\n",
       "    </tr>\n",
       "    <tr>\n",
       "      <th>149996</th>\n",
       "      <td>3.365069e+10</td>\n",
       "      <td>D20434A</td>\n",
       "      <td>Apple</td>\n",
       "      <td>Apple iPhone 8 Plus (A1897)</td>\n",
       "      <td>81230.0</td>\n",
       "      <td>3.517065e+06</td>\n",
       "      <td>1.278491e+07</td>\n",
       "      <td>6.908760e+05</td>\n",
       "      <td>2.795510e+07</td>\n",
       "      <td>3.756186e+07</td>\n",
       "      <td>5.358069e+08</td>\n",
       "      <td>1.675193e+07</td>\n",
       "      <td>6.318041e+08</td>\n",
       "    </tr>\n",
       "    <tr>\n",
       "      <th>149997</th>\n",
       "      <td>3.366345e+10</td>\n",
       "      <td>D10223C</td>\n",
       "      <td>Apple</td>\n",
       "      <td>Apple iPhone Se (A1723)</td>\n",
       "      <td>97970.0</td>\n",
       "      <td>2.352181e+06</td>\n",
       "      <td>4.415361e+06</td>\n",
       "      <td>2.121718e+06</td>\n",
       "      <td>2.216552e+07</td>\n",
       "      <td>4.064329e+07</td>\n",
       "      <td>6.316281e+08</td>\n",
       "      <td>7.146381e+08</td>\n",
       "      <td>7.057839e+08</td>\n",
       "    </tr>\n",
       "    <tr>\n",
       "      <th>149998</th>\n",
       "      <td>3.362189e+10</td>\n",
       "      <td>T51102A</td>\n",
       "      <td>Apple</td>\n",
       "      <td>Apple iPhone Xs (A2097)</td>\n",
       "      <td>98249.0</td>\n",
       "      <td>1.260239e+06</td>\n",
       "      <td>6.585469e+06</td>\n",
       "      <td>2.058277e+06</td>\n",
       "      <td>2.451641e+07</td>\n",
       "      <td>1.502970e+07</td>\n",
       "      <td>5.669338e+08</td>\n",
       "      <td>1.324156e+08</td>\n",
       "      <td>6.276986e+08</td>\n",
       "    </tr>\n",
       "    <tr>\n",
       "      <th>149999</th>\n",
       "      <td>3.361962e+10</td>\n",
       "      <td>L88342B</td>\n",
       "      <td>Huawei</td>\n",
       "      <td>Huawei Fig-Lx1</td>\n",
       "      <td>97910.0</td>\n",
       "      <td>8.231090e+05</td>\n",
       "      <td>7.757267e+06</td>\n",
       "      <td>2.850914e+06</td>\n",
       "      <td>1.712251e+07</td>\n",
       "      <td>1.649484e+07</td>\n",
       "      <td>3.550664e+08</td>\n",
       "      <td>8.161200e+08</td>\n",
       "      <td>4.015220e+08</td>\n",
       "    </tr>\n",
       "    <tr>\n",
       "      <th>150000</th>\n",
       "      <td>3.366371e+10</td>\n",
       "      <td>D41377B</td>\n",
       "      <td>Apple</td>\n",
       "      <td>Huawei B528S-23A</td>\n",
       "      <td>86399.0</td>\n",
       "      <td>1.828250e+06</td>\n",
       "      <td>7.807295e+06</td>\n",
       "      <td>2.259102e+06</td>\n",
       "      <td>2.264348e+07</td>\n",
       "      <td>2.262861e+07</td>\n",
       "      <td>4.303331e+08</td>\n",
       "      <td>4.293653e+08</td>\n",
       "      <td>4.957646e+08</td>\n",
       "    </tr>\n",
       "  </tbody>\n",
       "</table>\n",
       "<p>150001 rows × 13 columns</p>\n",
       "</div>"
      ],
      "text/plain": [
       "              msisdn               location manufacturer  \\\n",
       "0       3.366496e+10  9.16456699548519E+015      Samsung   \n",
       "1       3.368185e+10                L77566A      Samsung   \n",
       "2       3.376063e+10                D42335A      Samsung   \n",
       "3       3.375034e+10                T21824A    undefined   \n",
       "4       3.369980e+10                D88865A      Samsung   \n",
       "...              ...                    ...          ...   \n",
       "149996  3.365069e+10                D20434A        Apple   \n",
       "149997  3.366345e+10                D10223C        Apple   \n",
       "149998  3.362189e+10                T51102A        Apple   \n",
       "149999  3.361962e+10                L88342B       Huawei   \n",
       "150000  3.366371e+10                D41377B        Apple   \n",
       "\n",
       "                       handset_type     dur_ms  social_media        google  \\\n",
       "0        Samsung Galaxy A5 Sm-A520F  1823652.0  1.570185e+06  2.905912e+06   \n",
       "1       Samsung Galaxy J5 (Sm-J530)  1365104.0  1.933278e+06  4.414096e+06   \n",
       "2          Samsung Galaxy A8 (2018)  1361762.0  1.726277e+06  1.022912e+07   \n",
       "3                         undefined  1321509.0  6.574930e+05  1.181176e+07   \n",
       "4                  Samsung Sm-G390F  1089009.0  9.127880e+05  7.748843e+06   \n",
       "...                             ...        ...           ...           ...   \n",
       "149996  Apple iPhone 8 Plus (A1897)    81230.0  3.517065e+06  1.278491e+07   \n",
       "149997      Apple iPhone Se (A1723)    97970.0  2.352181e+06  4.415361e+06   \n",
       "149998      Apple iPhone Xs (A2097)    98249.0  1.260239e+06  6.585469e+06   \n",
       "149999               Huawei Fig-Lx1    97910.0  8.231090e+05  7.757267e+06   \n",
       "150000             Huawei B528S-23A    86399.0  1.828250e+06  7.807295e+06   \n",
       "\n",
       "               email       youtube       netflix        gaming         other  \\\n",
       "0       3.701304e+06  1.835594e+07  1.785519e+07  2.924265e+08  1.805588e+08   \n",
       "1       9.373850e+05  3.935912e+07  3.556554e+07  6.099208e+08  5.419594e+08   \n",
       "2       3.363124e+06  3.442524e+07  2.375120e+07  2.299803e+08  4.149084e+08   \n",
       "3       2.070983e+06  3.653476e+07  1.509259e+07  8.103879e+08  7.618372e+08   \n",
       "4       2.110349e+06  3.422225e+07  1.753980e+07  5.312370e+08  5.646198e+08   \n",
       "...              ...           ...           ...           ...           ...   \n",
       "149996  6.908760e+05  2.795510e+07  3.756186e+07  5.358069e+08  1.675193e+07   \n",
       "149997  2.121718e+06  2.216552e+07  4.064329e+07  6.316281e+08  7.146381e+08   \n",
       "149998  2.058277e+06  2.451641e+07  1.502970e+07  5.669338e+08  1.324156e+08   \n",
       "149999  2.850914e+06  1.712251e+07  1.649484e+07  3.550664e+08  8.161200e+08   \n",
       "150000  2.259102e+06  2.264348e+07  2.262861e+07  4.303331e+08  4.293653e+08   \n",
       "\n",
       "          total_data  \n",
       "0       3.456294e+08  \n",
       "1       7.071854e+08  \n",
       "2       3.076910e+08  \n",
       "3       8.893527e+08  \n",
       "4       6.076814e+08  \n",
       "...              ...  \n",
       "149996  6.318041e+08  \n",
       "149997  7.057839e+08  \n",
       "149998  6.276986e+08  \n",
       "149999  4.015220e+08  \n",
       "150000  4.957646e+08  \n",
       "\n",
       "[150001 rows x 13 columns]"
      ]
     },
     "execution_count": 45,
     "metadata": {},
     "output_type": "execute_result"
    }
   ],
   "source": [
    "explore_feature_df"
   ]
  },
  {
   "cell_type": "code",
   "execution_count": 46,
   "metadata": {},
   "outputs": [
    {
     "name": "stderr",
     "output_type": "stream",
     "text": [
      "C:\\Users\\user\\AppData\\Local\\Temp\\ipykernel_3076\\1866902162.py:6: SettingWithCopyWarning:\n",
      "\n",
      "\n",
      "A value is trying to be set on a copy of a slice from a DataFrame.\n",
      "Try using .loc[row_indexer,col_indexer] = value instead\n",
      "\n",
      "See the caveats in the documentation: https://pandas.pydata.org/pandas-docs/stable/user_guide/indexing.html#returning-a-view-versus-a-copy\n",
      "\n"
     ]
    },
    {
     "data": {
      "text/html": [
       "<div>\n",
       "<style scoped>\n",
       "    .dataframe tbody tr th:only-of-type {\n",
       "        vertical-align: middle;\n",
       "    }\n",
       "\n",
       "    .dataframe tbody tr th {\n",
       "        vertical-align: top;\n",
       "    }\n",
       "\n",
       "    .dataframe thead th {\n",
       "        text-align: right;\n",
       "    }\n",
       "</style>\n",
       "<table border=\"1\" class=\"dataframe\">\n",
       "  <thead>\n",
       "    <tr style=\"text-align: right;\">\n",
       "      <th></th>\n",
       "      <th>total_data</th>\n",
       "      <th>duration</th>\n",
       "    </tr>\n",
       "    <tr>\n",
       "      <th>decile</th>\n",
       "      <th></th>\n",
       "      <th></th>\n",
       "    </tr>\n",
       "  </thead>\n",
       "  <tbody>\n",
       "    <tr>\n",
       "      <th>1st_decile</th>\n",
       "      <td>1.154869e+13</td>\n",
       "      <td>644345.106</td>\n",
       "    </tr>\n",
       "    <tr>\n",
       "      <th>2nd_decile</th>\n",
       "      <td>1.257064e+13</td>\n",
       "      <td>1807896.025</td>\n",
       "    </tr>\n",
       "    <tr>\n",
       "      <th>3rd_decile</th>\n",
       "      <td>1.157014e+13</td>\n",
       "      <td>2124992.603</td>\n",
       "    </tr>\n",
       "    <tr>\n",
       "      <th>4th_decile</th>\n",
       "      <td>1.397433e+13</td>\n",
       "      <td>3448477.202</td>\n",
       "    </tr>\n",
       "    <tr>\n",
       "      <th>5th_decile</th>\n",
       "      <td>2.470138e+13</td>\n",
       "      <td>7665659.515</td>\n",
       "    </tr>\n",
       "  </tbody>\n",
       "</table>\n",
       "</div>"
      ],
      "text/plain": [
       "              total_data     duration\n",
       "decile                               \n",
       "1st_decile  1.154869e+13   644345.106\n",
       "2nd_decile  1.257064e+13  1807896.025\n",
       "3rd_decile  1.157014e+13  2124992.603\n",
       "4th_decile  1.397433e+13  3448477.202\n",
       "5th_decile  2.470138e+13  7665659.515"
      ]
     },
     "execution_count": 46,
     "metadata": {},
     "output_type": "execute_result"
    }
   ],
   "source": [
    "from sklearn.preprocessing import MinMaxScaler\n",
    "\n",
    "\n",
    "scaled_explore_feature_df = explore_feature_df[['msisdn', 'total_data', 'dur_ms']]\n",
    "\n",
    "scaled_explore_feature_df['dur_ms'] = explore_feature_df['dur_ms'] /1000\n",
    "\n",
    "scaled_explore_feature_df = scaled_explore_feature_df.rename(columns={'dur_ms': 'duration'})\n",
    "\n",
    "scaled_explore_feature_df_agg = scaled_explore_feature_df.groupby('msisdn').agg({'duration':'sum', 'total_data': 'sum'})\n",
    "\n",
    "deciles = pd.qcut(scaled_explore_feature_df_agg['duration'], 5, labels=[\"1st_decile\", \"2nd_decile\",\n",
    "                                                      \"3rd_decile\", \"4th_decile\",\n",
    "                                                      \"5th_decile\"])\n",
    "\n",
    "\n",
    "\n",
    "explore_feature_df_with_decile = scaled_explore_feature_df_agg.copy()\n",
    "\n",
    "explore_feature_df_with_decile['decile'] = deciles\n",
    "\n",
    "explore_feature_df_with_decile_agg = explore_feature_df_with_decile.groupby('decile').agg({'total_data': 'sum',\n",
    "                                                                                           'duration': 'sum'})\n",
    "explore_feature_df_with_decile_agg"
   ]
  },
  {
   "cell_type": "code",
   "execution_count": 47,
   "metadata": {},
   "outputs": [
    {
     "data": {
      "text/plain": [
       "Text(0, 0.5, 'duration ')"
      ]
     },
     "execution_count": 47,
     "metadata": {},
     "output_type": "execute_result"
    },
    {
     "data": {
      "image/png": "[encoded data removed]",
      "text/plain": [
       "<Figure size 1300x500 with 2 Axes>"
      ]
     },
     "metadata": {},
     "output_type": "display_data"
    }
   ],
   "source": [
    "#define colors to use\n",
    "col1 = 'steelblue'\n",
    "col2 = 'red'\n",
    "\n",
    "#define subplots\n",
    "fig,ax = plt.subplots()\n",
    "\n",
    "# explore_feature_df_with_decile_agg.plot(linestyle='-', marker='o', figsize=(10,7), title='Top 5 deciled customers by duration').set_xlabel(\"Decile By Duration\")\n",
    "\n",
    "#add first line to plot\n",
    "ax.plot(explore_feature_df_with_decile_agg[[\"total_data\"]], color=col1,linestyle='-', marker='o')\n",
    "\n",
    "#add x-axis label\n",
    "ax.set_xlabel('Decile by duration', fontsize=14)\n",
    "\n",
    "#add y-axis label\n",
    "ax.set_ylabel('total data ', color=col1, fontsize=13)\n",
    "\n",
    "#define second y-axis that shares x-axis with current plot\n",
    "ax2 = ax.twinx()\n",
    "\n",
    "#add second line to plot\n",
    "ax2.plot(explore_feature_df_with_decile_agg[[\"duration\"]], color=col2,linestyle='-', marker='o')\n",
    "\n",
    "plt.suptitle(\"Top 5 deciled customers by duration\")\n",
    "#add second y-axis label\n",
    "ax2.set_ylabel('duration ', color=col2, fontsize=13)"
   ]
  },
  {
   "cell_type": "markdown",
   "metadata": {},
   "source": [
    "#### Correlation"
   ]
  },
  {
   "cell_type": "code",
   "execution_count": 48,
   "metadata": {},
   "outputs": [],
   "source": [
    "total_data = explore_feature_df[['social_media', 'google', 'email', 'youtube', 'netflix',\n",
    "                                 'gaming',  'other']]"
   ]
  },
  {
   "cell_type": "code",
   "execution_count": 49,
   "metadata": {},
   "outputs": [
    {
     "data": {
      "text/html": [
       "<div>\n",
       "<style scoped>\n",
       "    .dataframe tbody tr th:only-of-type {\n",
       "        vertical-align: middle;\n",
       "    }\n",
       "\n",
       "    .dataframe tbody tr th {\n",
       "        vertical-align: top;\n",
       "    }\n",
       "\n",
       "    .dataframe thead th {\n",
       "        text-align: right;\n",
       "    }\n",
       "</style>\n",
       "<table border=\"1\" class=\"dataframe\">\n",
       "  <thead>\n",
       "    <tr style=\"text-align: right;\">\n",
       "      <th></th>\n",
       "      <th>social_media</th>\n",
       "      <th>google</th>\n",
       "      <th>email</th>\n",
       "      <th>youtube</th>\n",
       "      <th>netflix</th>\n",
       "      <th>gaming</th>\n",
       "      <th>other</th>\n",
       "    </tr>\n",
       "  </thead>\n",
       "  <tbody>\n",
       "    <tr>\n",
       "      <th>social_media</th>\n",
       "      <td>1.000000</td>\n",
       "      <td>-0.001708</td>\n",
       "      <td>0.004032</td>\n",
       "      <td>0.000548</td>\n",
       "      <td>0.001013</td>\n",
       "      <td>0.001082</td>\n",
       "      <td>0.006065</td>\n",
       "    </tr>\n",
       "    <tr>\n",
       "      <th>google</th>\n",
       "      <td>-0.001708</td>\n",
       "      <td>1.000000</td>\n",
       "      <td>-0.000412</td>\n",
       "      <td>0.002277</td>\n",
       "      <td>-0.001902</td>\n",
       "      <td>-0.000994</td>\n",
       "      <td>-0.001727</td>\n",
       "    </tr>\n",
       "    <tr>\n",
       "      <th>email</th>\n",
       "      <td>0.004032</td>\n",
       "      <td>-0.000412</td>\n",
       "      <td>1.000000</td>\n",
       "      <td>-0.002919</td>\n",
       "      <td>0.001029</td>\n",
       "      <td>-0.000644</td>\n",
       "      <td>-0.001299</td>\n",
       "    </tr>\n",
       "    <tr>\n",
       "      <th>youtube</th>\n",
       "      <td>0.000548</td>\n",
       "      <td>0.002277</td>\n",
       "      <td>-0.002919</td>\n",
       "      <td>1.000000</td>\n",
       "      <td>0.002882</td>\n",
       "      <td>-0.002999</td>\n",
       "      <td>0.002969</td>\n",
       "    </tr>\n",
       "    <tr>\n",
       "      <th>netflix</th>\n",
       "      <td>0.001013</td>\n",
       "      <td>-0.001902</td>\n",
       "      <td>0.001029</td>\n",
       "      <td>0.002882</td>\n",
       "      <td>1.000000</td>\n",
       "      <td>-0.003109</td>\n",
       "      <td>-0.009033</td>\n",
       "    </tr>\n",
       "    <tr>\n",
       "      <th>gaming</th>\n",
       "      <td>0.001082</td>\n",
       "      <td>-0.000994</td>\n",
       "      <td>-0.000644</td>\n",
       "      <td>-0.002999</td>\n",
       "      <td>-0.003109</td>\n",
       "      <td>1.000000</td>\n",
       "      <td>-0.002661</td>\n",
       "    </tr>\n",
       "    <tr>\n",
       "      <th>other</th>\n",
       "      <td>0.006065</td>\n",
       "      <td>-0.001727</td>\n",
       "      <td>-0.001299</td>\n",
       "      <td>0.002969</td>\n",
       "      <td>-0.009033</td>\n",
       "      <td>-0.002661</td>\n",
       "      <td>1.000000</td>\n",
       "    </tr>\n",
       "  </tbody>\n",
       "</table>\n",
       "</div>"
      ],
      "text/plain": [
       "              social_media    google     email   youtube   netflix    gaming  \\\n",
       "social_media      1.000000 -0.001708  0.004032  0.000548  0.001013  0.001082   \n",
       "google           -0.001708  1.000000 -0.000412  0.002277 -0.001902 -0.000994   \n",
       "email             0.004032 -0.000412  1.000000 -0.002919  0.001029 -0.000644   \n",
       "youtube           0.000548  0.002277 -0.002919  1.000000  0.002882 -0.002999   \n",
       "netflix           0.001013 -0.001902  0.001029  0.002882  1.000000 -0.003109   \n",
       "gaming            0.001082 -0.000994 -0.000644 -0.002999 -0.003109  1.000000   \n",
       "other             0.006065 -0.001727 -0.001299  0.002969 -0.009033 -0.002661   \n",
       "\n",
       "                 other  \n",
       "social_media  0.006065  \n",
       "google       -0.001727  \n",
       "email        -0.001299  \n",
       "youtube       0.002969  \n",
       "netflix      -0.009033  \n",
       "gaming       -0.002661  \n",
       "other         1.000000  "
      ]
     },
     "execution_count": 49,
     "metadata": {},
     "output_type": "execute_result"
    }
   ],
   "source": [
    "data_correlation = total_data.corr()\n",
    "data_correlation"
   ]
  },
  {
   "cell_type": "code",
   "execution_count": 50,
   "metadata": {},
   "outputs": [
    {
     "data": {
      "image/png": "[encoded data removed]",
      "text/plain": [
       "<Figure size 1200x500 with 2 Axes>"
      ]
     },
     "metadata": {},
     "output_type": "display_data"
    }
   ],
   "source": [
    "plt.figure(figsize=(12,5))\n",
    "sns.heatmap(data_correlation,cmap=\"YlGnBu\")\n",
    "plt.title(\"Application Data Correlation\")\n",
    "plt.show()"
   ]
  },
  {
   "cell_type": "markdown",
   "metadata": {},
   "source": [
    "#### Dimensionality Reduction"
   ]
  },
  {
   "cell_type": "code",
   "execution_count": 52,
   "metadata": {},
   "outputs": [],
   "source": [
    "# Drop any non-numeric columns\n",
    "numeric_df = cleaned_df.select_dtypes(include=['float64', 'int64'])\n",
    "\n",
    "# Standardize the data\n",
    "scaler = StandardScaler()\n",
    "scaled_data = scaler.fit_transform(numeric_df)"
   ]
  },
  {
   "cell_type": "code",
   "execution_count": 53,
   "metadata": {},
   "outputs": [],
   "source": [
    "# number of components\n",
    "n_components = 2 \n",
    "\n",
    "# Create PCA instance\n",
    "pca = PCA(n_components=n_components)\n",
    "\n",
    "# Fit and transform the scaled data\n",
    "pca_result = pca.fit_transform(scaled_data)\n"
   ]
  },
  {
   "cell_type": "code",
   "execution_count": 54,
   "metadata": {},
   "outputs": [
    {
     "name": "stdout",
     "output_type": "stream",
     "text": [
      "Explained Variance: [0.14281409 0.06894961]\n"
     ]
    },
    {
     "data": {
      "image/png": "[encoded data removed]",
      "text/plain": [
       "<Figure size 1300x500 with 1 Axes>"
      ]
     },
     "metadata": {},
     "output_type": "display_data"
    }
   ],
   "source": [
    "# Check the explained variance to understand how much information is retained by each principal component.\n",
    "\n",
    "explained_variance = pca.explained_variance_ratio_\n",
    "print(\"Explained Variance:\", explained_variance)\n",
    "\n",
    "# Plotting the explained variance\n",
    "plt.bar(range(1, len(explained_variance) + 1), explained_variance, alpha=0.5, align='center')\n",
    "plt.xlabel('Principal Component Index')\n",
    "plt.ylabel('Explained Variance Ratio')\n",
    "plt.show()\n"
   ]
  },
  {
   "cell_type": "code",
   "execution_count": 55,
   "metadata": {},
   "outputs": [
    {
     "data": {
      "text/html": [
       "<div>\n",
       "<style scoped>\n",
       "    .dataframe tbody tr th:only-of-type {\n",
       "        vertical-align: middle;\n",
       "    }\n",
       "\n",
       "    .dataframe tbody tr th {\n",
       "        vertical-align: top;\n",
       "    }\n",
       "\n",
       "    .dataframe thead th {\n",
       "        text-align: right;\n",
       "    }\n",
       "</style>\n",
       "<table border=\"1\" class=\"dataframe\">\n",
       "  <thead>\n",
       "    <tr style=\"text-align: right;\">\n",
       "      <th></th>\n",
       "      <th>PC1</th>\n",
       "      <th>PC2</th>\n",
       "    </tr>\n",
       "  </thead>\n",
       "  <tbody>\n",
       "    <tr>\n",
       "      <th>0</th>\n",
       "      <td>-3.871753</td>\n",
       "      <td>1.243429</td>\n",
       "    </tr>\n",
       "    <tr>\n",
       "      <th>1</th>\n",
       "      <td>-3.156006</td>\n",
       "      <td>-1.658679</td>\n",
       "    </tr>\n",
       "    <tr>\n",
       "      <th>2</th>\n",
       "      <td>-3.176818</td>\n",
       "      <td>1.554164</td>\n",
       "    </tr>\n",
       "    <tr>\n",
       "      <th>3</th>\n",
       "      <td>-3.149945</td>\n",
       "      <td>-3.170990</td>\n",
       "    </tr>\n",
       "    <tr>\n",
       "      <th>4</th>\n",
       "      <td>-2.788335</td>\n",
       "      <td>-0.865895</td>\n",
       "    </tr>\n",
       "    <tr>\n",
       "      <th>...</th>\n",
       "      <td>...</td>\n",
       "      <td>...</td>\n",
       "    </tr>\n",
       "    <tr>\n",
       "      <th>149996</th>\n",
       "      <td>-1.429900</td>\n",
       "      <td>-1.077287</td>\n",
       "    </tr>\n",
       "    <tr>\n",
       "      <th>149997</th>\n",
       "      <td>-1.439887</td>\n",
       "      <td>-1.719104</td>\n",
       "    </tr>\n",
       "    <tr>\n",
       "      <th>149998</th>\n",
       "      <td>-1.381102</td>\n",
       "      <td>-1.078677</td>\n",
       "    </tr>\n",
       "    <tr>\n",
       "      <th>149999</th>\n",
       "      <td>-0.976782</td>\n",
       "      <td>0.745949</td>\n",
       "    </tr>\n",
       "    <tr>\n",
       "      <th>150000</th>\n",
       "      <td>-1.384471</td>\n",
       "      <td>0.007121</td>\n",
       "    </tr>\n",
       "  </tbody>\n",
       "</table>\n",
       "<p>150001 rows × 2 columns</p>\n",
       "</div>"
      ],
      "text/plain": [
       "             PC1       PC2\n",
       "0      -3.871753  1.243429\n",
       "1      -3.156006 -1.658679\n",
       "2      -3.176818  1.554164\n",
       "3      -3.149945 -3.170990\n",
       "4      -2.788335 -0.865895\n",
       "...          ...       ...\n",
       "149996 -1.429900 -1.077287\n",
       "149997 -1.439887 -1.719104\n",
       "149998 -1.381102 -1.078677\n",
       "149999 -0.976782  0.745949\n",
       "150000 -1.384471  0.007121\n",
       "\n",
       "[150001 rows x 2 columns]"
      ]
     },
     "execution_count": 55,
     "metadata": {},
     "output_type": "execute_result"
    }
   ],
   "source": [
    "# Create a DataFrame with the principal components\n",
    "pca_df = pd.DataFrame(data=pca_result, columns=[f'PC{i}' for i in range(1, n_components + 1)])\n",
    "pca_df"
   ]
  },
  {
   "cell_type": "code",
   "execution_count": null,
   "metadata": {},
   "outputs": [],
   "source": []
  }
 ],
 "metadata": {
  "kernelspec": {
   "display_name": "week-1",
   "language": "python",
   "name": "python3"
  },
  "language_info": {
   "codemirror_mode": {
    "name": "ipython",
    "version": 3
   },
   "file_extension": ".py",
   "mimetype": "text/x-python",
   "name": "python",
   "nbconvert_exporter": "python",
   "pygments_lexer": "ipython3",
   "version": "3.11.4"
  }
 },
 "nbformat": 4,
 "nbformat_minor": 2
}
