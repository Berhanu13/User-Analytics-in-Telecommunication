{
 "cells": [
  {
   "cell_type": "code",
   "execution_count": 26,
   "metadata": {},
   "outputs": [],
   "source": [
    "import sys\n",
    "import pandas as pd\n",
    "import seaborn as sns\n",
    "import matplotlib.pyplot as plt\n",
    "import plotly.express as px\n",
    "import plotly.subplots as sp\n",
    "import plotly.graph_objects as go\n",
    "import numpy as np\n",
    "import pickle\n",
    "from data.load_data_from_sql import connect_to_database, read_sql_to_dataframe, close_connection\n",
    "from scripts.cleaner import DataCleaner\n",
    "\n",
    "cleaner = DataCleaner()\n",
    "%matplotlib inline"
   ]
  },
  {
   "cell_type": "code",
   "execution_count": 9,
   "metadata": {},
   "outputs": [],
   "source": [
    "# Function to add the project path to sys.path\n",
    "def add_project_path():\n",
    "    \"\"\"Add the project path to sys.path.\"\"\"\n",
    "    project_path = 'C:\\\\Users\\\\user\\\\Desktop\\\\10 acc\\\\Week 1\\\\User-Analytics-in-Telecom-Industry'\n",
    "    sys.path.append(project_path)"
   ]
  },
  {
   "cell_type": "code",
   "execution_count": 10,
   "metadata": {},
   "outputs": [],
   "source": [
    "# Function to perform the main analysis\n",
    "def main_analysis():\n",
    "    \"\"\"Main function to execute your analysis.\"\"\"\n",
    "    # Add the project path to sys.path\n",
    "    add_project_path()\n",
    "\n",
    "    db_params = {\n",
    "        'dbname': 'week-1',\n",
    "        'user': 'postgres',\n",
    "        'password': 'postgres',\n",
    "        'host': 'localhost',\n",
    "        'port': '5432',\n",
    "    }\n",
    "\n",
    "    # Example query\n",
    "    query = \"SELECT * FROM cleaned_telecom_data;\"\n",
    "\n",
    "    # Connect to the database\n",
    "    conn = connect_to_database(db_params)\n",
    "\n",
    "    # Read results into a Pandas DataFrame\n",
    "    cleaned_df = read_sql_to_dataframe(conn, query)\n",
    "\n",
    "    # Close the database connection\n",
    "    close_connection(conn)\n",
    "\n",
    "\n",
    "    # return the DataFrame\n",
    "    return cleaned_df"
   ]
  },
  {
   "cell_type": "code",
   "execution_count": 11,
   "metadata": {},
   "outputs": [
    {
     "name": "stderr",
     "output_type": "stream",
     "text": [
      "C:\\Users\\user\\Desktop\\10 acc\\Week 1\\User-Analytics-in-Telecom-Industry\\data\\load_data_from_sql.py:21: UserWarning: pandas only supports SQLAlchemy connectable (engine/connection) or database string URI or sqlite3 DBAPI2 connection. Other DBAPI2 objects are not tested. Please consider using SQLAlchemy.\n",
      "  df = pd.read_sql_query(query, conn)\n"
     ]
    },
    {
     "data": {
      "text/html": [
       "<div>\n",
       "<style scoped>\n",
       "    .dataframe tbody tr th:only-of-type {\n",
       "        vertical-align: middle;\n",
       "    }\n",
       "\n",
       "    .dataframe tbody tr th {\n",
       "        vertical-align: top;\n",
       "    }\n",
       "\n",
       "    .dataframe thead th {\n",
       "        text-align: right;\n",
       "    }\n",
       "</style>\n",
       "<table border=\"1\" class=\"dataframe\">\n",
       "  <thead>\n",
       "    <tr style=\"text-align: right;\">\n",
       "      <th></th>\n",
       "      <th>bearer_id</th>\n",
       "      <th>start</th>\n",
       "      <th>start_ms</th>\n",
       "      <th>end</th>\n",
       "      <th>end_ms</th>\n",
       "      <th>dur._(ms)</th>\n",
       "      <th>imsi</th>\n",
       "      <th>msisdn/number</th>\n",
       "      <th>imei</th>\n",
       "      <th>last_location_name</th>\n",
       "      <th>...</th>\n",
       "      <th>youtube_dl_(bytes)</th>\n",
       "      <th>youtube_ul_(bytes)</th>\n",
       "      <th>netflix_dl_(bytes)</th>\n",
       "      <th>netflix_ul_(bytes)</th>\n",
       "      <th>gaming_dl_(bytes)</th>\n",
       "      <th>gaming_ul_(bytes)</th>\n",
       "      <th>other_dl_(bytes)</th>\n",
       "      <th>other_ul_(bytes)</th>\n",
       "      <th>total_ul_(bytes)</th>\n",
       "      <th>total_dl_(bytes)</th>\n",
       "    </tr>\n",
       "  </thead>\n",
       "  <tbody>\n",
       "    <tr>\n",
       "      <th>0</th>\n",
       "      <td>1.311448e+19</td>\n",
       "      <td>2019-04-04 12:01:00</td>\n",
       "      <td>770.0</td>\n",
       "      <td>2019-04-25 14:35:00</td>\n",
       "      <td>662.0</td>\n",
       "      <td>1823652.0</td>\n",
       "      <td>2.082014e+14</td>\n",
       "      <td>3.366496e+10</td>\n",
       "      <td>3.552121e+13</td>\n",
       "      <td>9.16456699548519E+015</td>\n",
       "      <td>...</td>\n",
       "      <td>15854611.0</td>\n",
       "      <td>2501332.0</td>\n",
       "      <td>8198936.0</td>\n",
       "      <td>9656251.0</td>\n",
       "      <td>278082303.0</td>\n",
       "      <td>14344150.0</td>\n",
       "      <td>171744450.0</td>\n",
       "      <td>8814393.0</td>\n",
       "      <td>36749741.0</td>\n",
       "      <td>308879636.0</td>\n",
       "    </tr>\n",
       "    <tr>\n",
       "      <th>1</th>\n",
       "      <td>1.311448e+19</td>\n",
       "      <td>2019-04-09 13:04:00</td>\n",
       "      <td>235.0</td>\n",
       "      <td>2019-04-25 08:15:00</td>\n",
       "      <td>606.0</td>\n",
       "      <td>1365104.0</td>\n",
       "      <td>2.082019e+14</td>\n",
       "      <td>3.368185e+10</td>\n",
       "      <td>3.579401e+13</td>\n",
       "      <td>L77566A</td>\n",
       "      <td>...</td>\n",
       "      <td>20247395.0</td>\n",
       "      <td>19111729.0</td>\n",
       "      <td>18338413.0</td>\n",
       "      <td>17227132.0</td>\n",
       "      <td>608750074.0</td>\n",
       "      <td>1170709.0</td>\n",
       "      <td>526904238.0</td>\n",
       "      <td>15055145.0</td>\n",
       "      <td>53800391.0</td>\n",
       "      <td>653384965.0</td>\n",
       "    </tr>\n",
       "    <tr>\n",
       "      <th>2</th>\n",
       "      <td>1.311448e+19</td>\n",
       "      <td>2019-04-09 17:42:00</td>\n",
       "      <td>1.0</td>\n",
       "      <td>2019-04-25 11:58:00</td>\n",
       "      <td>652.0</td>\n",
       "      <td>1361762.0</td>\n",
       "      <td>2.082003e+14</td>\n",
       "      <td>3.376063e+10</td>\n",
       "      <td>3.528151e+13</td>\n",
       "      <td>D42335A</td>\n",
       "      <td>...</td>\n",
       "      <td>19725661.0</td>\n",
       "      <td>14699576.0</td>\n",
       "      <td>17587794.0</td>\n",
       "      <td>6163408.0</td>\n",
       "      <td>229584621.0</td>\n",
       "      <td>395630.0</td>\n",
       "      <td>410692588.0</td>\n",
       "      <td>4215763.0</td>\n",
       "      <td>27883638.0</td>\n",
       "      <td>279807335.0</td>\n",
       "    </tr>\n",
       "    <tr>\n",
       "      <th>3</th>\n",
       "      <td>1.311448e+19</td>\n",
       "      <td>2019-04-10 00:31:00</td>\n",
       "      <td>486.0</td>\n",
       "      <td>2019-04-25 07:36:00</td>\n",
       "      <td>171.0</td>\n",
       "      <td>1321509.0</td>\n",
       "      <td>2.082014e+14</td>\n",
       "      <td>3.375034e+10</td>\n",
       "      <td>3.535661e+13</td>\n",
       "      <td>T21824A</td>\n",
       "      <td>...</td>\n",
       "      <td>21388122.0</td>\n",
       "      <td>15146643.0</td>\n",
       "      <td>13994646.0</td>\n",
       "      <td>1097942.0</td>\n",
       "      <td>799538153.0</td>\n",
       "      <td>10849722.0</td>\n",
       "      <td>749039933.0</td>\n",
       "      <td>12797283.0</td>\n",
       "      <td>43324218.0</td>\n",
       "      <td>846028530.0</td>\n",
       "    </tr>\n",
       "    <tr>\n",
       "      <th>4</th>\n",
       "      <td>1.311448e+19</td>\n",
       "      <td>2019-04-12 20:10:00</td>\n",
       "      <td>565.0</td>\n",
       "      <td>2019-04-25 10:40:00</td>\n",
       "      <td>954.0</td>\n",
       "      <td>1089009.0</td>\n",
       "      <td>2.082014e+14</td>\n",
       "      <td>3.369980e+10</td>\n",
       "      <td>3.540701e+13</td>\n",
       "      <td>D88865A</td>\n",
       "      <td>...</td>\n",
       "      <td>15259380.0</td>\n",
       "      <td>18962873.0</td>\n",
       "      <td>17124581.0</td>\n",
       "      <td>415218.0</td>\n",
       "      <td>527707248.0</td>\n",
       "      <td>3529801.0</td>\n",
       "      <td>550709500.0</td>\n",
       "      <td>13910322.0</td>\n",
       "      <td>38542814.0</td>\n",
       "      <td>569138589.0</td>\n",
       "    </tr>\n",
       "  </tbody>\n",
       "</table>\n",
       "<p>5 rows × 55 columns</p>\n",
       "</div>"
      ],
      "text/plain": [
       "      bearer_id               start  start_ms                 end  end_ms  \\\n",
       "0  1.311448e+19 2019-04-04 12:01:00     770.0 2019-04-25 14:35:00   662.0   \n",
       "1  1.311448e+19 2019-04-09 13:04:00     235.0 2019-04-25 08:15:00   606.0   \n",
       "2  1.311448e+19 2019-04-09 17:42:00       1.0 2019-04-25 11:58:00   652.0   \n",
       "3  1.311448e+19 2019-04-10 00:31:00     486.0 2019-04-25 07:36:00   171.0   \n",
       "4  1.311448e+19 2019-04-12 20:10:00     565.0 2019-04-25 10:40:00   954.0   \n",
       "\n",
       "   dur._(ms)          imsi  msisdn/number          imei  \\\n",
       "0  1823652.0  2.082014e+14   3.366496e+10  3.552121e+13   \n",
       "1  1365104.0  2.082019e+14   3.368185e+10  3.579401e+13   \n",
       "2  1361762.0  2.082003e+14   3.376063e+10  3.528151e+13   \n",
       "3  1321509.0  2.082014e+14   3.375034e+10  3.535661e+13   \n",
       "4  1089009.0  2.082014e+14   3.369980e+10  3.540701e+13   \n",
       "\n",
       "      last_location_name  ...  youtube_dl_(bytes)  youtube_ul_(bytes)  \\\n",
       "0  9.16456699548519E+015  ...          15854611.0           2501332.0   \n",
       "1                L77566A  ...          20247395.0          19111729.0   \n",
       "2                D42335A  ...          19725661.0          14699576.0   \n",
       "3                T21824A  ...          21388122.0          15146643.0   \n",
       "4                D88865A  ...          15259380.0          18962873.0   \n",
       "\n",
       "   netflix_dl_(bytes)  netflix_ul_(bytes)  gaming_dl_(bytes)  \\\n",
       "0           8198936.0           9656251.0        278082303.0   \n",
       "1          18338413.0          17227132.0        608750074.0   \n",
       "2          17587794.0           6163408.0        229584621.0   \n",
       "3          13994646.0           1097942.0        799538153.0   \n",
       "4          17124581.0            415218.0        527707248.0   \n",
       "\n",
       "   gaming_ul_(bytes)  other_dl_(bytes)  other_ul_(bytes)  total_ul_(bytes)  \\\n",
       "0         14344150.0       171744450.0         8814393.0        36749741.0   \n",
       "1          1170709.0       526904238.0        15055145.0        53800391.0   \n",
       "2           395630.0       410692588.0         4215763.0        27883638.0   \n",
       "3         10849722.0       749039933.0        12797283.0        43324218.0   \n",
       "4          3529801.0       550709500.0        13910322.0        38542814.0   \n",
       "\n",
       "   total_dl_(bytes)  \n",
       "0       308879636.0  \n",
       "1       653384965.0  \n",
       "2       279807335.0  \n",
       "3       846028530.0  \n",
       "4       569138589.0  \n",
       "\n",
       "[5 rows x 55 columns]"
      ]
     },
     "execution_count": 11,
     "metadata": {},
     "output_type": "execute_result"
    }
   ],
   "source": [
    "# Call the main analysis function\n",
    "cleaned_df = main_analysis()\n",
    "cleaned_df.head()"
   ]
  },
  {
   "cell_type": "code",
   "execution_count": 12,
   "metadata": {},
   "outputs": [
    {
     "name": "stdout",
     "output_type": "stream",
     "text": [
      "<class 'pandas.core.frame.DataFrame'>\n",
      "RangeIndex: 150001 entries, 0 to 150000\n",
      "Data columns (total 55 columns):\n",
      " #   Column                                    Non-Null Count   Dtype         \n",
      "---  ------                                    --------------   -----         \n",
      " 0   bearer_id                                 150001 non-null  float64       \n",
      " 1   start                                     150001 non-null  datetime64[ns]\n",
      " 2   start_ms                                  150001 non-null  float64       \n",
      " 3   end                                       150001 non-null  datetime64[ns]\n",
      " 4   end_ms                                    150001 non-null  float64       \n",
      " 5   dur._(ms)                                 150001 non-null  float64       \n",
      " 6   imsi                                      150001 non-null  float64       \n",
      " 7   msisdn/number                             150001 non-null  float64       \n",
      " 8   imei                                      150001 non-null  float64       \n",
      " 9   last_location_name                        150001 non-null  object        \n",
      " 10  avg_rtt_dl_(ms)                           150001 non-null  float64       \n",
      " 11  avg_rtt_ul_(ms)                           150001 non-null  float64       \n",
      " 12  avg_bearer_tp_dl_(kbps)                   150001 non-null  float64       \n",
      " 13  avg_bearer_tp_ul_(kbps)                   150001 non-null  float64       \n",
      " 14  tcp_dl_retrans._vol_(bytes)               150001 non-null  float64       \n",
      " 15  tcp_ul_retrans._vol_(bytes)               150001 non-null  float64       \n",
      " 16  dl_tp_<_50_kbps_(%)                       150001 non-null  float64       \n",
      " 17  50_kbps_<_dl_tp_<_250_kbps_(%)            150001 non-null  float64       \n",
      " 18  250_kbps_<_dl_tp_<_1_mbps_(%)             150001 non-null  float64       \n",
      " 19  dl_tp_>_1_mbps_(%)                        150001 non-null  float64       \n",
      " 20  ul_tp_<_10_kbps_(%)                       150001 non-null  float64       \n",
      " 21  10_kbps_<_ul_tp_<_50_kbps_(%)             150001 non-null  float64       \n",
      " 22  50_kbps_<_ul_tp_<_300_kbps_(%)            150001 non-null  float64       \n",
      " 23  ul_tp_>_300_kbps_(%)                      150001 non-null  float64       \n",
      " 24  http_dl_(bytes)                           150001 non-null  float64       \n",
      " 25  http_ul_(bytes)                           150001 non-null  float64       \n",
      " 26  activity_duration_dl_(ms)                 150001 non-null  float64       \n",
      " 27  activity_duration_ul_(ms)                 150001 non-null  float64       \n",
      " 28  dur._(ms).1                               150001 non-null  float64       \n",
      " 29  handset_manufacturer                      150001 non-null  object        \n",
      " 30  handset_type                              150001 non-null  object        \n",
      " 31  nb_of_sec_with_125000b_<_vol_dl           150001 non-null  float64       \n",
      " 32  nb_of_sec_with_1250b_<_vol_ul_<_6250b     150001 non-null  float64       \n",
      " 33  nb_of_sec_with_31250b_<_vol_dl_<_125000b  150001 non-null  float64       \n",
      " 34  nb_of_sec_with_37500b_<_vol_ul            150001 non-null  float64       \n",
      " 35  nb_of_sec_with_6250b_<_vol_dl_<_31250b    150001 non-null  float64       \n",
      " 36  nb_of_sec_with_6250b_<_vol_ul_<_37500b    150001 non-null  float64       \n",
      " 37  nb_of_sec_with_vol_dl_<_6250b             150001 non-null  float64       \n",
      " 38  nb_of_sec_with_vol_ul_<_1250b             150001 non-null  float64       \n",
      " 39  social_media_dl_(bytes)                   150001 non-null  float64       \n",
      " 40  social_media_ul_(bytes)                   150001 non-null  float64       \n",
      " 41  google_dl_(bytes)                         150001 non-null  float64       \n",
      " 42  google_ul_(bytes)                         150001 non-null  float64       \n",
      " 43  email_dl_(bytes)                          150001 non-null  float64       \n",
      " 44  email_ul_(bytes)                          150001 non-null  float64       \n",
      " 45  youtube_dl_(bytes)                        150001 non-null  float64       \n",
      " 46  youtube_ul_(bytes)                        150001 non-null  float64       \n",
      " 47  netflix_dl_(bytes)                        150001 non-null  float64       \n",
      " 48  netflix_ul_(bytes)                        150001 non-null  float64       \n",
      " 49  gaming_dl_(bytes)                         150001 non-null  float64       \n",
      " 50  gaming_ul_(bytes)                         150001 non-null  float64       \n",
      " 51  other_dl_(bytes)                          150001 non-null  float64       \n",
      " 52  other_ul_(bytes)                          150001 non-null  float64       \n",
      " 53  total_ul_(bytes)                          150001 non-null  float64       \n",
      " 54  total_dl_(bytes)                          150001 non-null  float64       \n",
      "dtypes: datetime64[ns](2), float64(50), object(3)\n",
      "memory usage: 62.9+ MB\n"
     ]
    }
   ],
   "source": [
    "cleaned_df.info()"
   ]
  },
  {
   "cell_type": "code",
   "execution_count": 13,
   "metadata": {},
   "outputs": [
    {
     "data": {
      "text/plain": [
       "bearer_id                                   0\n",
       "start                                       0\n",
       "start_ms                                    0\n",
       "end                                         0\n",
       "end_ms                                      0\n",
       "dur._(ms)                                   0\n",
       "imsi                                        0\n",
       "msisdn/number                               0\n",
       "imei                                        0\n",
       "last_location_name                          0\n",
       "avg_rtt_dl_(ms)                             0\n",
       "avg_rtt_ul_(ms)                             0\n",
       "avg_bearer_tp_dl_(kbps)                     0\n",
       "avg_bearer_tp_ul_(kbps)                     0\n",
       "tcp_dl_retrans._vol_(bytes)                 0\n",
       "tcp_ul_retrans._vol_(bytes)                 0\n",
       "dl_tp_<_50_kbps_(%)                         0\n",
       "50_kbps_<_dl_tp_<_250_kbps_(%)              0\n",
       "250_kbps_<_dl_tp_<_1_mbps_(%)               0\n",
       "dl_tp_>_1_mbps_(%)                          0\n",
       "ul_tp_<_10_kbps_(%)                         0\n",
       "10_kbps_<_ul_tp_<_50_kbps_(%)               0\n",
       "50_kbps_<_ul_tp_<_300_kbps_(%)              0\n",
       "ul_tp_>_300_kbps_(%)                        0\n",
       "http_dl_(bytes)                             0\n",
       "http_ul_(bytes)                             0\n",
       "activity_duration_dl_(ms)                   0\n",
       "activity_duration_ul_(ms)                   0\n",
       "dur._(ms).1                                 0\n",
       "handset_manufacturer                        0\n",
       "handset_type                                0\n",
       "nb_of_sec_with_125000b_<_vol_dl             0\n",
       "nb_of_sec_with_1250b_<_vol_ul_<_6250b       0\n",
       "nb_of_sec_with_31250b_<_vol_dl_<_125000b    0\n",
       "nb_of_sec_with_37500b_<_vol_ul              0\n",
       "nb_of_sec_with_6250b_<_vol_dl_<_31250b      0\n",
       "nb_of_sec_with_6250b_<_vol_ul_<_37500b      0\n",
       "nb_of_sec_with_vol_dl_<_6250b               0\n",
       "nb_of_sec_with_vol_ul_<_1250b               0\n",
       "social_media_dl_(bytes)                     0\n",
       "social_media_ul_(bytes)                     0\n",
       "google_dl_(bytes)                           0\n",
       "google_ul_(bytes)                           0\n",
       "email_dl_(bytes)                            0\n",
       "email_ul_(bytes)                            0\n",
       "youtube_dl_(bytes)                          0\n",
       "youtube_ul_(bytes)                          0\n",
       "netflix_dl_(bytes)                          0\n",
       "netflix_ul_(bytes)                          0\n",
       "gaming_dl_(bytes)                           0\n",
       "gaming_ul_(bytes)                           0\n",
       "other_dl_(bytes)                            0\n",
       "other_ul_(bytes)                            0\n",
       "total_ul_(bytes)                            0\n",
       "total_dl_(bytes)                            0\n",
       "dtype: int64"
      ]
     },
     "execution_count": 13,
     "metadata": {},
     "output_type": "execute_result"
    }
   ],
   "source": [
    "cleaned_df.isnull().sum()"
   ]
  },
  {
   "cell_type": "markdown",
   "metadata": {},
   "source": [
    "### Task 2"
   ]
  },
  {
   "cell_type": "code",
   "execution_count": 14,
   "metadata": {},
   "outputs": [
    {
     "data": {
      "text/plain": [
       "Huawei B528S-23A                20324\n",
       "Apple iPhone 6S (A1688)          9419\n",
       "Apple iPhone 6 (A1586)           9023\n",
       "undefined                        8987\n",
       "Apple iPhone 7 (A1778)           6326\n",
       "Apple iPhone Se (A1723)          5187\n",
       "Apple iPhone 8 (A1905)           4993\n",
       "Apple iPhone Xr (A2105)          4568\n",
       "Samsung Galaxy S8 (Sm-G950F)     4520\n",
       "Apple iPhone X (A1901)           3813\n",
       "Name: handset_type, dtype: int64"
      ]
     },
     "execution_count": 14,
     "metadata": {},
     "output_type": "execute_result"
    }
   ],
   "source": [
    "# top 10 handsets used by the customers\n",
    "cleaned_df[\"handset_type\"].value_counts().head(10)"
   ]
  },
  {
   "cell_type": "code",
   "execution_count": 23,
   "metadata": {},
   "outputs": [
    {
     "data": {
      "application/vnd.plotly.v1+json": {
       "config": {
        "plotlyServerURL": "https://plot.ly"
       },
       "data": [
        {
         "alignmentgroup": "True",
         "hovertemplate": "Handset Type=%{x}<br>Number of Users=%{marker.color}<extra></extra>",
         "legendgroup": "",
         "marker": {
          "color": [
           20324,
           9419,
           9023,
           8987,
           6326,
           5187,
           4993,
           4568,
           4520,
           3813
          ],
          "coloraxis": "coloraxis",
          "pattern": {
           "shape": ""
          }
         },
         "name": "",
         "offsetgroup": "",
         "orientation": "v",
         "showlegend": false,
         "textposition": "auto",
         "type": "bar",
         "x": [
          "Huawei B528S-23A",
          "Apple iPhone 6S (A1688)",
          "Apple iPhone 6 (A1586)",
          "undefined",
          "Apple iPhone 7 (A1778)",
          "Apple iPhone Se (A1723)",
          "Apple iPhone 8 (A1905)",
          "Apple iPhone Xr (A2105)",
          "Samsung Galaxy S8 (Sm-G950F)",
          "Apple iPhone X (A1901)"
         ],
         "xaxis": "x",
         "y": [
          20324,
          9419,
          9023,
          8987,
          6326,
          5187,
          4993,
          4568,
          4520,
          3813
         ],
         "yaxis": "y"
        }
       ],
       "layout": {
        "barmode": "relative",
        "coloraxis": {
         "colorbar": {
          "title": {
           "text": "Number of Users"
          }
         },
         "colorscale": [
          [
           0,
           "#440154"
          ],
          [
           0.1111111111111111,
           "#482878"
          ],
          [
           0.2222222222222222,
           "#3e4989"
          ],
          [
           0.3333333333333333,
           "#31688e"
          ],
          [
           0.4444444444444444,
           "#26828e"
          ],
          [
           0.5555555555555556,
           "#1f9e89"
          ],
          [
           0.6666666666666666,
           "#35b779"
          ],
          [
           0.7777777777777778,
           "#6ece58"
          ],
          [
           0.8888888888888888,
           "#b5de2b"
          ],
          [
           1,
           "#fde725"
          ]
         ]
        },
        "legend": {
         "tracegroupgap": 0
        },
        "template": {
         "data": {
          "bar": [
           {
            "error_x": {
             "color": "#2a3f5f"
            },
            "error_y": {
             "color": "#2a3f5f"
            },
            "marker": {
             "line": {
              "color": "#E5ECF6",
              "width": 0.5
             },
             "pattern": {
              "fillmode": "overlay",
              "size": 10,
              "solidity": 0.2
             }
            },
            "type": "bar"
           }
          ],
          "barpolar": [
           {
            "marker": {
             "line": {
              "color": "#E5ECF6",
              "width": 0.5
             },
             "pattern": {
              "fillmode": "overlay",
              "size": 10,
              "solidity": 0.2
             }
            },
            "type": "barpolar"
           }
          ],
          "carpet": [
           {
            "aaxis": {
             "endlinecolor": "#2a3f5f",
             "gridcolor": "white",
             "linecolor": "white",
             "minorgridcolor": "white",
             "startlinecolor": "#2a3f5f"
            },
            "baxis": {
             "endlinecolor": "#2a3f5f",
             "gridcolor": "white",
             "linecolor": "white",
             "minorgridcolor": "white",
             "startlinecolor": "#2a3f5f"
            },
            "type": "carpet"
           }
          ],
          "choropleth": [
           {
            "colorbar": {
             "outlinewidth": 0,
             "ticks": ""
            },
            "type": "choropleth"
           }
          ],
          "contour": [
           {
            "colorbar": {
             "outlinewidth": 0,
             "ticks": ""
            },
            "colorscale": [
             [
              0,
              "#0d0887"
             ],
             [
              0.1111111111111111,
              "#46039f"
             ],
             [
              0.2222222222222222,
              "#7201a8"
             ],
             [
              0.3333333333333333,
              "#9c179e"
             ],
             [
              0.4444444444444444,
              "#bd3786"
             ],
             [
              0.5555555555555556,
              "#d8576b"
             ],
             [
              0.6666666666666666,
              "#ed7953"
             ],
             [
              0.7777777777777778,
              "#fb9f3a"
             ],
             [
              0.8888888888888888,
              "#fdca26"
             ],
             [
              1,
              "#f0f921"
             ]
            ],
            "type": "contour"
           }
          ],
          "contourcarpet": [
           {
            "colorbar": {
             "outlinewidth": 0,
             "ticks": ""
            },
            "type": "contourcarpet"
           }
          ],
          "heatmap": [
           {
            "colorbar": {
             "outlinewidth": 0,
             "ticks": ""
            },
            "colorscale": [
             [
              0,
              "#0d0887"
             ],
             [
              0.1111111111111111,
              "#46039f"
             ],
             [
              0.2222222222222222,
              "#7201a8"
             ],
             [
              0.3333333333333333,
              "#9c179e"
             ],
             [
              0.4444444444444444,
              "#bd3786"
             ],
             [
              0.5555555555555556,
              "#d8576b"
             ],
             [
              0.6666666666666666,
              "#ed7953"
             ],
             [
              0.7777777777777778,
              "#fb9f3a"
             ],
             [
              0.8888888888888888,
              "#fdca26"
             ],
             [
              1,
              "#f0f921"
             ]
            ],
            "type": "heatmap"
           }
          ],
          "heatmapgl": [
           {
            "colorbar": {
             "outlinewidth": 0,
             "ticks": ""
            },
            "colorscale": [
             [
              0,
              "#0d0887"
             ],
             [
              0.1111111111111111,
              "#46039f"
             ],
             [
              0.2222222222222222,
              "#7201a8"
             ],
             [
              0.3333333333333333,
              "#9c179e"
             ],
             [
              0.4444444444444444,
              "#bd3786"
             ],
             [
              0.5555555555555556,
              "#d8576b"
             ],
             [
              0.6666666666666666,
              "#ed7953"
             ],
             [
              0.7777777777777778,
              "#fb9f3a"
             ],
             [
              0.8888888888888888,
              "#fdca26"
             ],
             [
              1,
              "#f0f921"
             ]
            ],
            "type": "heatmapgl"
           }
          ],
          "histogram": [
           {
            "marker": {
             "pattern": {
              "fillmode": "overlay",
              "size": 10,
              "solidity": 0.2
             }
            },
            "type": "histogram"
           }
          ],
          "histogram2d": [
           {
            "colorbar": {
             "outlinewidth": 0,
             "ticks": ""
            },
            "colorscale": [
             [
              0,
              "#0d0887"
             ],
             [
              0.1111111111111111,
              "#46039f"
             ],
             [
              0.2222222222222222,
              "#7201a8"
             ],
             [
              0.3333333333333333,
              "#9c179e"
             ],
             [
              0.4444444444444444,
              "#bd3786"
             ],
             [
              0.5555555555555556,
              "#d8576b"
             ],
             [
              0.6666666666666666,
              "#ed7953"
             ],
             [
              0.7777777777777778,
              "#fb9f3a"
             ],
             [
              0.8888888888888888,
              "#fdca26"
             ],
             [
              1,
              "#f0f921"
             ]
            ],
            "type": "histogram2d"
           }
          ],
          "histogram2dcontour": [
           {
            "colorbar": {
             "outlinewidth": 0,
             "ticks": ""
            },
            "colorscale": [
             [
              0,
              "#0d0887"
             ],
             [
              0.1111111111111111,
              "#46039f"
             ],
             [
              0.2222222222222222,
              "#7201a8"
             ],
             [
              0.3333333333333333,
              "#9c179e"
             ],
             [
              0.4444444444444444,
              "#bd3786"
             ],
             [
              0.5555555555555556,
              "#d8576b"
             ],
             [
              0.6666666666666666,
              "#ed7953"
             ],
             [
              0.7777777777777778,
              "#fb9f3a"
             ],
             [
              0.8888888888888888,
              "#fdca26"
             ],
             [
              1,
              "#f0f921"
             ]
            ],
            "type": "histogram2dcontour"
           }
          ],
          "mesh3d": [
           {
            "colorbar": {
             "outlinewidth": 0,
             "ticks": ""
            },
            "type": "mesh3d"
           }
          ],
          "parcoords": [
           {
            "line": {
             "colorbar": {
              "outlinewidth": 0,
              "ticks": ""
             }
            },
            "type": "parcoords"
           }
          ],
          "pie": [
           {
            "automargin": true,
            "type": "pie"
           }
          ],
          "scatter": [
           {
            "fillpattern": {
             "fillmode": "overlay",
             "size": 10,
             "solidity": 0.2
            },
            "type": "scatter"
           }
          ],
          "scatter3d": [
           {
            "line": {
             "colorbar": {
              "outlinewidth": 0,
              "ticks": ""
             }
            },
            "marker": {
             "colorbar": {
              "outlinewidth": 0,
              "ticks": ""
             }
            },
            "type": "scatter3d"
           }
          ],
          "scattercarpet": [
           {
            "marker": {
             "colorbar": {
              "outlinewidth": 0,
              "ticks": ""
             }
            },
            "type": "scattercarpet"
           }
          ],
          "scattergeo": [
           {
            "marker": {
             "colorbar": {
              "outlinewidth": 0,
              "ticks": ""
             }
            },
            "type": "scattergeo"
           }
          ],
          "scattergl": [
           {
            "marker": {
             "colorbar": {
              "outlinewidth": 0,
              "ticks": ""
             }
            },
            "type": "scattergl"
           }
          ],
          "scattermapbox": [
           {
            "marker": {
             "colorbar": {
              "outlinewidth": 0,
              "ticks": ""
             }
            },
            "type": "scattermapbox"
           }
          ],
          "scatterpolar": [
           {
            "marker": {
             "colorbar": {
              "outlinewidth": 0,
              "ticks": ""
             }
            },
            "type": "scatterpolar"
           }
          ],
          "scatterpolargl": [
           {
            "marker": {
             "colorbar": {
              "outlinewidth": 0,
              "ticks": ""
             }
            },
            "type": "scatterpolargl"
           }
          ],
          "scatterternary": [
           {
            "marker": {
             "colorbar": {
              "outlinewidth": 0,
              "ticks": ""
             }
            },
            "type": "scatterternary"
           }
          ],
          "surface": [
           {
            "colorbar": {
             "outlinewidth": 0,
             "ticks": ""
            },
            "colorscale": [
             [
              0,
              "#0d0887"
             ],
             [
              0.1111111111111111,
              "#46039f"
             ],
             [
              0.2222222222222222,
              "#7201a8"
             ],
             [
              0.3333333333333333,
              "#9c179e"
             ],
             [
              0.4444444444444444,
              "#bd3786"
             ],
             [
              0.5555555555555556,
              "#d8576b"
             ],
             [
              0.6666666666666666,
              "#ed7953"
             ],
             [
              0.7777777777777778,
              "#fb9f3a"
             ],
             [
              0.8888888888888888,
              "#fdca26"
             ],
             [
              1,
              "#f0f921"
             ]
            ],
            "type": "surface"
           }
          ],
          "table": [
           {
            "cells": {
             "fill": {
              "color": "#EBF0F8"
             },
             "line": {
              "color": "white"
             }
            },
            "header": {
             "fill": {
              "color": "#C8D4E3"
             },
             "line": {
              "color": "white"
             }
            },
            "type": "table"
           }
          ]
         },
         "layout": {
          "annotationdefaults": {
           "arrowcolor": "#2a3f5f",
           "arrowhead": 0,
           "arrowwidth": 1
          },
          "autotypenumbers": "strict",
          "coloraxis": {
           "colorbar": {
            "outlinewidth": 0,
            "ticks": ""
           }
          },
          "colorscale": {
           "diverging": [
            [
             0,
             "#8e0152"
            ],
            [
             0.1,
             "#c51b7d"
            ],
            [
             0.2,
             "#de77ae"
            ],
            [
             0.3,
             "#f1b6da"
            ],
            [
             0.4,
             "#fde0ef"
            ],
            [
             0.5,
             "#f7f7f7"
            ],
            [
             0.6,
             "#e6f5d0"
            ],
            [
             0.7,
             "#b8e186"
            ],
            [
             0.8,
             "#7fbc41"
            ],
            [
             0.9,
             "#4d9221"
            ],
            [
             1,
             "#276419"
            ]
           ],
           "sequential": [
            [
             0,
             "#0d0887"
            ],
            [
             0.1111111111111111,
             "#46039f"
            ],
            [
             0.2222222222222222,
             "#7201a8"
            ],
            [
             0.3333333333333333,
             "#9c179e"
            ],
            [
             0.4444444444444444,
             "#bd3786"
            ],
            [
             0.5555555555555556,
             "#d8576b"
            ],
            [
             0.6666666666666666,
             "#ed7953"
            ],
            [
             0.7777777777777778,
             "#fb9f3a"
            ],
            [
             0.8888888888888888,
             "#fdca26"
            ],
            [
             1,
             "#f0f921"
            ]
           ],
           "sequentialminus": [
            [
             0,
             "#0d0887"
            ],
            [
             0.1111111111111111,
             "#46039f"
            ],
            [
             0.2222222222222222,
             "#7201a8"
            ],
            [
             0.3333333333333333,
             "#9c179e"
            ],
            [
             0.4444444444444444,
             "#bd3786"
            ],
            [
             0.5555555555555556,
             "#d8576b"
            ],
            [
             0.6666666666666666,
             "#ed7953"
            ],
            [
             0.7777777777777778,
             "#fb9f3a"
            ],
            [
             0.8888888888888888,
             "#fdca26"
            ],
            [
             1,
             "#f0f921"
            ]
           ]
          },
          "colorway": [
           "#636efa",
           "#EF553B",
           "#00cc96",
           "#ab63fa",
           "#FFA15A",
           "#19d3f3",
           "#FF6692",
           "#B6E880",
           "#FF97FF",
           "#FECB52"
          ],
          "font": {
           "color": "#2a3f5f"
          },
          "geo": {
           "bgcolor": "white",
           "lakecolor": "white",
           "landcolor": "#E5ECF6",
           "showlakes": true,
           "showland": true,
           "subunitcolor": "white"
          },
          "hoverlabel": {
           "align": "left"
          },
          "hovermode": "closest",
          "mapbox": {
           "style": "light"
          },
          "paper_bgcolor": "white",
          "plot_bgcolor": "#E5ECF6",
          "polar": {
           "angularaxis": {
            "gridcolor": "white",
            "linecolor": "white",
            "ticks": ""
           },
           "bgcolor": "#E5ECF6",
           "radialaxis": {
            "gridcolor": "white",
            "linecolor": "white",
            "ticks": ""
           }
          },
          "scene": {
           "xaxis": {
            "backgroundcolor": "#E5ECF6",
            "gridcolor": "white",
            "gridwidth": 2,
            "linecolor": "white",
            "showbackground": true,
            "ticks": "",
            "zerolinecolor": "white"
           },
           "yaxis": {
            "backgroundcolor": "#E5ECF6",
            "gridcolor": "white",
            "gridwidth": 2,
            "linecolor": "white",
            "showbackground": true,
            "ticks": "",
            "zerolinecolor": "white"
           },
           "zaxis": {
            "backgroundcolor": "#E5ECF6",
            "gridcolor": "white",
            "gridwidth": 2,
            "linecolor": "white",
            "showbackground": true,
            "ticks": "",
            "zerolinecolor": "white"
           }
          },
          "shapedefaults": {
           "line": {
            "color": "#2a3f5f"
           }
          },
          "ternary": {
           "aaxis": {
            "gridcolor": "white",
            "linecolor": "white",
            "ticks": ""
           },
           "baxis": {
            "gridcolor": "white",
            "linecolor": "white",
            "ticks": ""
           },
           "bgcolor": "#E5ECF6",
           "caxis": {
            "gridcolor": "white",
            "linecolor": "white",
            "ticks": ""
           }
          },
          "title": {
           "x": 0.05
          },
          "xaxis": {
           "automargin": true,
           "gridcolor": "white",
           "linecolor": "white",
           "ticks": "",
           "title": {
            "standoff": 15
           },
           "zerolinecolor": "white",
           "zerolinewidth": 2
          },
          "yaxis": {
           "automargin": true,
           "gridcolor": "white",
           "linecolor": "white",
           "ticks": "",
           "title": {
            "standoff": 15
           },
           "zerolinecolor": "white",
           "zerolinewidth": 2
          }
         }
        },
        "title": {
         "text": "Top 10 Handsets Used"
        },
        "xaxis": {
         "anchor": "y",
         "domain": [
          0,
          1
         ],
         "title": {
          "text": "Handset Type"
         }
        },
        "yaxis": {
         "anchor": "x",
         "domain": [
          0,
          1
         ],
         "title": {
          "text": "Number of Users"
         }
        }
       }
      }
     },
     "metadata": {},
     "output_type": "display_data"
    }
   ],
   "source": [
    "# using 'cleaned_df' DataFrame and 'handset_type' column\n",
    "top_handsets = cleaned_df[\"handset_type\"].value_counts().head(10)\n",
    "\n",
    "# Creating a DataFrame from the series\n",
    "top_handsets_df = top_handsets.reset_index()\n",
    "top_handsets_df.columns = ['Handset Type', 'Count']\n",
    "\n",
    "# Creating an interactive bar plot using Plotly Express\n",
    "fig = px.bar(top_handsets_df, x='Handset Type', y='Count', title='Top 10 Handsets Used',\n",
    "             labels={'Count': 'Number of Users', 'Handset Type': 'Handset Type'},\n",
    "             color='Count', color_continuous_scale=px.colors.sequential.Viridis)\n",
    "\n",
    "# Displaying the plot\n",
    "fig.show()\n"
   ]
  },
  {
   "cell_type": "code",
   "execution_count": 24,
   "metadata": {},
   "outputs": [
    {
     "data": {
      "text/plain": [
       "Apple      60137\n",
       "Samsung    40839\n",
       "Huawei     34423\n",
       "Name: handset_manufacturer, dtype: int64"
      ]
     },
     "execution_count": 24,
     "metadata": {},
     "output_type": "execute_result"
    }
   ],
   "source": [
    "# top 3 handset manufacturers\n",
    "cleaned_df[\"handset_manufacturer\"].value_counts().head(3)"
   ]
  },
  {
   "cell_type": "code",
   "execution_count": 25,
   "metadata": {},
   "outputs": [
    {
     "data": {
      "application/vnd.plotly.v1+json": {
       "config": {
        "plotlyServerURL": "https://plot.ly"
       },
       "data": [
        {
         "domain": {
          "x": [
           0,
           1
          ],
          "y": [
           0,
           1
          ]
         },
         "hovertemplate": "Manufacturer=%{label}<br>Count=%{value}<extra></extra>",
         "labels": [
          "Apple",
          "Samsung",
          "Huawei"
         ],
         "legendgroup": "",
         "name": "",
         "showlegend": true,
         "type": "pie",
         "values": [
          60137,
          40839,
          34423
         ]
        }
       ],
       "layout": {
        "legend": {
         "tracegroupgap": 0
        },
        "template": {
         "data": {
          "bar": [
           {
            "error_x": {
             "color": "#2a3f5f"
            },
            "error_y": {
             "color": "#2a3f5f"
            },
            "marker": {
             "line": {
              "color": "#E5ECF6",
              "width": 0.5
             },
             "pattern": {
              "fillmode": "overlay",
              "size": 10,
              "solidity": 0.2
             }
            },
            "type": "bar"
           }
          ],
          "barpolar": [
           {
            "marker": {
             "line": {
              "color": "#E5ECF6",
              "width": 0.5
             },
             "pattern": {
              "fillmode": "overlay",
              "size": 10,
              "solidity": 0.2
             }
            },
            "type": "barpolar"
           }
          ],
          "carpet": [
           {
            "aaxis": {
             "endlinecolor": "#2a3f5f",
             "gridcolor": "white",
             "linecolor": "white",
             "minorgridcolor": "white",
             "startlinecolor": "#2a3f5f"
            },
            "baxis": {
             "endlinecolor": "#2a3f5f",
             "gridcolor": "white",
             "linecolor": "white",
             "minorgridcolor": "white",
             "startlinecolor": "#2a3f5f"
            },
            "type": "carpet"
           }
          ],
          "choropleth": [
           {
            "colorbar": {
             "outlinewidth": 0,
             "ticks": ""
            },
            "type": "choropleth"
           }
          ],
          "contour": [
           {
            "colorbar": {
             "outlinewidth": 0,
             "ticks": ""
            },
            "colorscale": [
             [
              0,
              "#0d0887"
             ],
             [
              0.1111111111111111,
              "#46039f"
             ],
             [
              0.2222222222222222,
              "#7201a8"
             ],
             [
              0.3333333333333333,
              "#9c179e"
             ],
             [
              0.4444444444444444,
              "#bd3786"
             ],
             [
              0.5555555555555556,
              "#d8576b"
             ],
             [
              0.6666666666666666,
              "#ed7953"
             ],
             [
              0.7777777777777778,
              "#fb9f3a"
             ],
             [
              0.8888888888888888,
              "#fdca26"
             ],
             [
              1,
              "#f0f921"
             ]
            ],
            "type": "contour"
           }
          ],
          "contourcarpet": [
           {
            "colorbar": {
             "outlinewidth": 0,
             "ticks": ""
            },
            "type": "contourcarpet"
           }
          ],
          "heatmap": [
           {
            "colorbar": {
             "outlinewidth": 0,
             "ticks": ""
            },
            "colorscale": [
             [
              0,
              "#0d0887"
             ],
             [
              0.1111111111111111,
              "#46039f"
             ],
             [
              0.2222222222222222,
              "#7201a8"
             ],
             [
              0.3333333333333333,
              "#9c179e"
             ],
             [
              0.4444444444444444,
              "#bd3786"
             ],
             [
              0.5555555555555556,
              "#d8576b"
             ],
             [
              0.6666666666666666,
              "#ed7953"
             ],
             [
              0.7777777777777778,
              "#fb9f3a"
             ],
             [
              0.8888888888888888,
              "#fdca26"
             ],
             [
              1,
              "#f0f921"
             ]
            ],
            "type": "heatmap"
           }
          ],
          "heatmapgl": [
           {
            "colorbar": {
             "outlinewidth": 0,
             "ticks": ""
            },
            "colorscale": [
             [
              0,
              "#0d0887"
             ],
             [
              0.1111111111111111,
              "#46039f"
             ],
             [
              0.2222222222222222,
              "#7201a8"
             ],
             [
              0.3333333333333333,
              "#9c179e"
             ],
             [
              0.4444444444444444,
              "#bd3786"
             ],
             [
              0.5555555555555556,
              "#d8576b"
             ],
             [
              0.6666666666666666,
              "#ed7953"
             ],
             [
              0.7777777777777778,
              "#fb9f3a"
             ],
             [
              0.8888888888888888,
              "#fdca26"
             ],
             [
              1,
              "#f0f921"
             ]
            ],
            "type": "heatmapgl"
           }
          ],
          "histogram": [
           {
            "marker": {
             "pattern": {
              "fillmode": "overlay",
              "size": 10,
              "solidity": 0.2
             }
            },
            "type": "histogram"
           }
          ],
          "histogram2d": [
           {
            "colorbar": {
             "outlinewidth": 0,
             "ticks": ""
            },
            "colorscale": [
             [
              0,
              "#0d0887"
             ],
             [
              0.1111111111111111,
              "#46039f"
             ],
             [
              0.2222222222222222,
              "#7201a8"
             ],
             [
              0.3333333333333333,
              "#9c179e"
             ],
             [
              0.4444444444444444,
              "#bd3786"
             ],
             [
              0.5555555555555556,
              "#d8576b"
             ],
             [
              0.6666666666666666,
              "#ed7953"
             ],
             [
              0.7777777777777778,
              "#fb9f3a"
             ],
             [
              0.8888888888888888,
              "#fdca26"
             ],
             [
              1,
              "#f0f921"
             ]
            ],
            "type": "histogram2d"
           }
          ],
          "histogram2dcontour": [
           {
            "colorbar": {
             "outlinewidth": 0,
             "ticks": ""
            },
            "colorscale": [
             [
              0,
              "#0d0887"
             ],
             [
              0.1111111111111111,
              "#46039f"
             ],
             [
              0.2222222222222222,
              "#7201a8"
             ],
             [
              0.3333333333333333,
              "#9c179e"
             ],
             [
              0.4444444444444444,
              "#bd3786"
             ],
             [
              0.5555555555555556,
              "#d8576b"
             ],
             [
              0.6666666666666666,
              "#ed7953"
             ],
             [
              0.7777777777777778,
              "#fb9f3a"
             ],
             [
              0.8888888888888888,
              "#fdca26"
             ],
             [
              1,
              "#f0f921"
             ]
            ],
            "type": "histogram2dcontour"
           }
          ],
          "mesh3d": [
           {
            "colorbar": {
             "outlinewidth": 0,
             "ticks": ""
            },
            "type": "mesh3d"
           }
          ],
          "parcoords": [
           {
            "line": {
             "colorbar": {
              "outlinewidth": 0,
              "ticks": ""
             }
            },
            "type": "parcoords"
           }
          ],
          "pie": [
           {
            "automargin": true,
            "type": "pie"
           }
          ],
          "scatter": [
           {
            "fillpattern": {
             "fillmode": "overlay",
             "size": 10,
             "solidity": 0.2
            },
            "type": "scatter"
           }
          ],
          "scatter3d": [
           {
            "line": {
             "colorbar": {
              "outlinewidth": 0,
              "ticks": ""
             }
            },
            "marker": {
             "colorbar": {
              "outlinewidth": 0,
              "ticks": ""
             }
            },
            "type": "scatter3d"
           }
          ],
          "scattercarpet": [
           {
            "marker": {
             "colorbar": {
              "outlinewidth": 0,
              "ticks": ""
             }
            },
            "type": "scattercarpet"
           }
          ],
          "scattergeo": [
           {
            "marker": {
             "colorbar": {
              "outlinewidth": 0,
              "ticks": ""
             }
            },
            "type": "scattergeo"
           }
          ],
          "scattergl": [
           {
            "marker": {
             "colorbar": {
              "outlinewidth": 0,
              "ticks": ""
             }
            },
            "type": "scattergl"
           }
          ],
          "scattermapbox": [
           {
            "marker": {
             "colorbar": {
              "outlinewidth": 0,
              "ticks": ""
             }
            },
            "type": "scattermapbox"
           }
          ],
          "scatterpolar": [
           {
            "marker": {
             "colorbar": {
              "outlinewidth": 0,
              "ticks": ""
             }
            },
            "type": "scatterpolar"
           }
          ],
          "scatterpolargl": [
           {
            "marker": {
             "colorbar": {
              "outlinewidth": 0,
              "ticks": ""
             }
            },
            "type": "scatterpolargl"
           }
          ],
          "scatterternary": [
           {
            "marker": {
             "colorbar": {
              "outlinewidth": 0,
              "ticks": ""
             }
            },
            "type": "scatterternary"
           }
          ],
          "surface": [
           {
            "colorbar": {
             "outlinewidth": 0,
             "ticks": ""
            },
            "colorscale": [
             [
              0,
              "#0d0887"
             ],
             [
              0.1111111111111111,
              "#46039f"
             ],
             [
              0.2222222222222222,
              "#7201a8"
             ],
             [
              0.3333333333333333,
              "#9c179e"
             ],
             [
              0.4444444444444444,
              "#bd3786"
             ],
             [
              0.5555555555555556,
              "#d8576b"
             ],
             [
              0.6666666666666666,
              "#ed7953"
             ],
             [
              0.7777777777777778,
              "#fb9f3a"
             ],
             [
              0.8888888888888888,
              "#fdca26"
             ],
             [
              1,
              "#f0f921"
             ]
            ],
            "type": "surface"
           }
          ],
          "table": [
           {
            "cells": {
             "fill": {
              "color": "#EBF0F8"
             },
             "line": {
              "color": "white"
             }
            },
            "header": {
             "fill": {
              "color": "#C8D4E3"
             },
             "line": {
              "color": "white"
             }
            },
            "type": "table"
           }
          ]
         },
         "layout": {
          "annotationdefaults": {
           "arrowcolor": "#2a3f5f",
           "arrowhead": 0,
           "arrowwidth": 1
          },
          "autotypenumbers": "strict",
          "coloraxis": {
           "colorbar": {
            "outlinewidth": 0,
            "ticks": ""
           }
          },
          "colorscale": {
           "diverging": [
            [
             0,
             "#8e0152"
            ],
            [
             0.1,
             "#c51b7d"
            ],
            [
             0.2,
             "#de77ae"
            ],
            [
             0.3,
             "#f1b6da"
            ],
            [
             0.4,
             "#fde0ef"
            ],
            [
             0.5,
             "#f7f7f7"
            ],
            [
             0.6,
             "#e6f5d0"
            ],
            [
             0.7,
             "#b8e186"
            ],
            [
             0.8,
             "#7fbc41"
            ],
            [
             0.9,
             "#4d9221"
            ],
            [
             1,
             "#276419"
            ]
           ],
           "sequential": [
            [
             0,
             "#0d0887"
            ],
            [
             0.1111111111111111,
             "#46039f"
            ],
            [
             0.2222222222222222,
             "#7201a8"
            ],
            [
             0.3333333333333333,
             "#9c179e"
            ],
            [
             0.4444444444444444,
             "#bd3786"
            ],
            [
             0.5555555555555556,
             "#d8576b"
            ],
            [
             0.6666666666666666,
             "#ed7953"
            ],
            [
             0.7777777777777778,
             "#fb9f3a"
            ],
            [
             0.8888888888888888,
             "#fdca26"
            ],
            [
             1,
             "#f0f921"
            ]
           ],
           "sequentialminus": [
            [
             0,
             "#0d0887"
            ],
            [
             0.1111111111111111,
             "#46039f"
            ],
            [
             0.2222222222222222,
             "#7201a8"
            ],
            [
             0.3333333333333333,
             "#9c179e"
            ],
            [
             0.4444444444444444,
             "#bd3786"
            ],
            [
             0.5555555555555556,
             "#d8576b"
            ],
            [
             0.6666666666666666,
             "#ed7953"
            ],
            [
             0.7777777777777778,
             "#fb9f3a"
            ],
            [
             0.8888888888888888,
             "#fdca26"
            ],
            [
             1,
             "#f0f921"
            ]
           ]
          },
          "colorway": [
           "#636efa",
           "#EF553B",
           "#00cc96",
           "#ab63fa",
           "#FFA15A",
           "#19d3f3",
           "#FF6692",
           "#B6E880",
           "#FF97FF",
           "#FECB52"
          ],
          "font": {
           "color": "#2a3f5f"
          },
          "geo": {
           "bgcolor": "white",
           "lakecolor": "white",
           "landcolor": "#E5ECF6",
           "showlakes": true,
           "showland": true,
           "subunitcolor": "white"
          },
          "hoverlabel": {
           "align": "left"
          },
          "hovermode": "closest",
          "mapbox": {
           "style": "light"
          },
          "paper_bgcolor": "white",
          "plot_bgcolor": "#E5ECF6",
          "polar": {
           "angularaxis": {
            "gridcolor": "white",
            "linecolor": "white",
            "ticks": ""
           },
           "bgcolor": "#E5ECF6",
           "radialaxis": {
            "gridcolor": "white",
            "linecolor": "white",
            "ticks": ""
           }
          },
          "scene": {
           "xaxis": {
            "backgroundcolor": "#E5ECF6",
            "gridcolor": "white",
            "gridwidth": 2,
            "linecolor": "white",
            "showbackground": true,
            "ticks": "",
            "zerolinecolor": "white"
           },
           "yaxis": {
            "backgroundcolor": "#E5ECF6",
            "gridcolor": "white",
            "gridwidth": 2,
            "linecolor": "white",
            "showbackground": true,
            "ticks": "",
            "zerolinecolor": "white"
           },
           "zaxis": {
            "backgroundcolor": "#E5ECF6",
            "gridcolor": "white",
            "gridwidth": 2,
            "linecolor": "white",
            "showbackground": true,
            "ticks": "",
            "zerolinecolor": "white"
           }
          },
          "shapedefaults": {
           "line": {
            "color": "#2a3f5f"
           }
          },
          "ternary": {
           "aaxis": {
            "gridcolor": "white",
            "linecolor": "white",
            "ticks": ""
           },
           "baxis": {
            "gridcolor": "white",
            "linecolor": "white",
            "ticks": ""
           },
           "bgcolor": "#E5ECF6",
           "caxis": {
            "gridcolor": "white",
            "linecolor": "white",
            "ticks": ""
           }
          },
          "title": {
           "x": 0.05
          },
          "xaxis": {
           "automargin": true,
           "gridcolor": "white",
           "linecolor": "white",
           "ticks": "",
           "title": {
            "standoff": 15
           },
           "zerolinecolor": "white",
           "zerolinewidth": 2
          },
          "yaxis": {
           "automargin": true,
           "gridcolor": "white",
           "linecolor": "white",
           "ticks": "",
           "title": {
            "standoff": 15
           },
           "zerolinecolor": "white",
           "zerolinewidth": 2
          }
         }
        },
        "title": {
         "text": "Top 3 Handset Manufacturers"
        }
       }
      }
     },
     "metadata": {},
     "output_type": "display_data"
    }
   ],
   "source": [
    "# using 'cleaned_df' DataFrame and 'handset_manufacturer' column\n",
    "top_manufacturers = cleaned_df[\"handset_manufacturer\"].value_counts().head(3)\n",
    "\n",
    "# Creating a DataFrame from the series\n",
    "top_manufacturers_df = top_manufacturers.reset_index()\n",
    "top_manufacturers_df.columns = ['Manufacturer', 'Count']\n",
    "\n",
    "# Creating an interactive pie chart using Plotly Express\n",
    "fig = px.pie(top_manufacturers_df, values='Count', names='Manufacturer', title='Top 3 Handset Manufacturers')\n",
    "\n",
    "# Displaying the plot\n",
    "fig.show()"
   ]
  },
  {
   "cell_type": "code",
   "execution_count": 16,
   "metadata": {},
   "outputs": [
    {
     "data": {
      "text/html": [
       "<div>\n",
       "<style scoped>\n",
       "    .dataframe tbody tr th:only-of-type {\n",
       "        vertical-align: middle;\n",
       "    }\n",
       "\n",
       "    .dataframe tbody tr th {\n",
       "        vertical-align: top;\n",
       "    }\n",
       "\n",
       "    .dataframe thead th {\n",
       "        text-align: right;\n",
       "    }\n",
       "</style>\n",
       "<table border=\"1\" class=\"dataframe\">\n",
       "  <thead>\n",
       "    <tr style=\"text-align: right;\">\n",
       "      <th></th>\n",
       "      <th>handset_manufacturer</th>\n",
       "      <th>handset_type</th>\n",
       "    </tr>\n",
       "  </thead>\n",
       "  <tbody>\n",
       "    <tr>\n",
       "      <th>0</th>\n",
       "      <td>Samsung</td>\n",
       "      <td>Samsung Galaxy A5 Sm-A520F</td>\n",
       "    </tr>\n",
       "    <tr>\n",
       "      <th>1</th>\n",
       "      <td>Samsung</td>\n",
       "      <td>Samsung Galaxy J5 (Sm-J530)</td>\n",
       "    </tr>\n",
       "    <tr>\n",
       "      <th>2</th>\n",
       "      <td>Samsung</td>\n",
       "      <td>Samsung Galaxy A8 (2018)</td>\n",
       "    </tr>\n",
       "    <tr>\n",
       "      <th>4</th>\n",
       "      <td>Samsung</td>\n",
       "      <td>Samsung Sm-G390F</td>\n",
       "    </tr>\n",
       "    <tr>\n",
       "      <th>6</th>\n",
       "      <td>Huawei</td>\n",
       "      <td>Huawei Mate 20 Lite</td>\n",
       "    </tr>\n",
       "    <tr>\n",
       "      <th>...</th>\n",
       "      <td>...</td>\n",
       "      <td>...</td>\n",
       "    </tr>\n",
       "    <tr>\n",
       "      <th>149996</th>\n",
       "      <td>Apple</td>\n",
       "      <td>Apple iPhone 8 Plus (A1897)</td>\n",
       "    </tr>\n",
       "    <tr>\n",
       "      <th>149997</th>\n",
       "      <td>Apple</td>\n",
       "      <td>Apple iPhone Se (A1723)</td>\n",
       "    </tr>\n",
       "    <tr>\n",
       "      <th>149998</th>\n",
       "      <td>Apple</td>\n",
       "      <td>Apple iPhone Xs (A2097)</td>\n",
       "    </tr>\n",
       "    <tr>\n",
       "      <th>149999</th>\n",
       "      <td>Huawei</td>\n",
       "      <td>Huawei Fig-Lx1</td>\n",
       "    </tr>\n",
       "    <tr>\n",
       "      <th>150000</th>\n",
       "      <td>Apple</td>\n",
       "      <td>Huawei B528S-23A</td>\n",
       "    </tr>\n",
       "  </tbody>\n",
       "</table>\n",
       "<p>135399 rows × 2 columns</p>\n",
       "</div>"
      ],
      "text/plain": [
       "       handset_manufacturer                 handset_type\n",
       "0                   Samsung   Samsung Galaxy A5 Sm-A520F\n",
       "1                   Samsung  Samsung Galaxy J5 (Sm-J530)\n",
       "2                   Samsung     Samsung Galaxy A8 (2018)\n",
       "4                   Samsung             Samsung Sm-G390F\n",
       "6                    Huawei          Huawei Mate 20 Lite\n",
       "...                     ...                          ...\n",
       "149996                Apple  Apple iPhone 8 Plus (A1897)\n",
       "149997                Apple      Apple iPhone Se (A1723)\n",
       "149998                Apple      Apple iPhone Xs (A2097)\n",
       "149999               Huawei               Huawei Fig-Lx1\n",
       "150000                Apple             Huawei B528S-23A\n",
       "\n",
       "[135399 rows x 2 columns]"
      ]
     },
     "execution_count": 16,
     "metadata": {},
     "output_type": "execute_result"
    }
   ],
   "source": [
    "# top 5 handsets per top 3 handset manufacturer\n",
    "handsets_per_manufacturers=cleaned_df[cleaned_df[\"handset_manufacturer\"].str.contains(\"Apple|Samsung|Huawei\") ][[\"handset_manufacturer\",\"handset_type\"]]\n",
    "handsets_per_manufacturers"
   ]
  },
  {
   "cell_type": "code",
   "execution_count": 17,
   "metadata": {},
   "outputs": [
    {
     "name": "stderr",
     "output_type": "stream",
     "text": [
      "C:\\Users\\user\\AppData\\Local\\Temp\\ipykernel_9836\\3955900147.py:1: FutureWarning: In a future version of pandas, a length 1 tuple will be returned when iterating over a groupby with a grouper equal to a list of length 1. Don't supply a list with a single grouper to avoid this warning.\n",
      "  list(handsets_per_manufacturers.groupby([\"handset_manufacturer\"]))[0][1][\"handset_type\"].value_counts().head(5)\n"
     ]
    },
    {
     "data": {
      "text/plain": [
       "Apple iPhone 6S (A1688)    9419\n",
       "Apple iPhone 6 (A1586)     9023\n",
       "Apple iPhone 7 (A1778)     6326\n",
       "Apple iPhone Se (A1723)    5187\n",
       "Apple iPhone 8 (A1905)     4993\n",
       "Name: handset_type, dtype: int64"
      ]
     },
     "execution_count": 17,
     "metadata": {},
     "output_type": "execute_result"
    }
   ],
   "source": [
    "list(handsets_per_manufacturers.groupby([\"handset_manufacturer\"]))[0][1][\"handset_type\"].value_counts().head(5)"
   ]
  },
  {
   "cell_type": "code",
   "execution_count": 18,
   "metadata": {},
   "outputs": [
    {
     "name": "stderr",
     "output_type": "stream",
     "text": [
      "C:\\Users\\user\\AppData\\Local\\Temp\\ipykernel_9836\\1670706610.py:1: FutureWarning: In a future version of pandas, a length 1 tuple will be returned when iterating over a groupby with a grouper equal to a list of length 1. Don't supply a list with a single grouper to avoid this warning.\n",
      "  list(handsets_per_manufacturers.groupby([\"handset_manufacturer\"]))[1][1][\"handset_type\"].value_counts().head(5)\n"
     ]
    },
    {
     "data": {
      "text/plain": [
       "Huawei B528S-23A                  19752\n",
       "Huawei E5180                       2079\n",
       "Huawei P20 Lite Huawei Nova 3E     2021\n",
       "Huawei P20                         1480\n",
       "Huawei Y6 2018                      997\n",
       "Name: handset_type, dtype: int64"
      ]
     },
     "execution_count": 18,
     "metadata": {},
     "output_type": "execute_result"
    }
   ],
   "source": [
    "list(handsets_per_manufacturers.groupby([\"handset_manufacturer\"]))[1][1][\"handset_type\"].value_counts().head(5)"
   ]
  },
  {
   "cell_type": "code",
   "execution_count": 19,
   "metadata": {},
   "outputs": [
    {
     "name": "stderr",
     "output_type": "stream",
     "text": [
      "C:\\Users\\user\\AppData\\Local\\Temp\\ipykernel_9836\\2986698792.py:1: FutureWarning: In a future version of pandas, a length 1 tuple will be returned when iterating over a groupby with a grouper equal to a list of length 1. Don't supply a list with a single grouper to avoid this warning.\n",
      "  list(handsets_per_manufacturers.groupby([\"handset_manufacturer\"]))[2][1][\"handset_type\"].value_counts().head(5)\n"
     ]
    },
    {
     "data": {
      "text/plain": [
       "Samsung Galaxy S8 (Sm-G950F)    4520\n",
       "Samsung Galaxy A5 Sm-A520F      3724\n",
       "Samsung Galaxy J5 (Sm-J530)     3696\n",
       "Samsung Galaxy J3 (Sm-J330)     3484\n",
       "Samsung Galaxy S7 (Sm-G930X)    3199\n",
       "Name: handset_type, dtype: int64"
      ]
     },
     "execution_count": 19,
     "metadata": {},
     "output_type": "execute_result"
    }
   ],
   "source": [
    "list(handsets_per_manufacturers.groupby([\"handset_manufacturer\"]))[2][1][\"handset_type\"].value_counts().head(5)"
   ]
  },
  {
   "cell_type": "code",
   "execution_count": 27,
   "metadata": {},
   "outputs": [
    {
     "data": {
      "application/vnd.plotly.v1+json": {
       "config": {
        "plotlyServerURL": "https://plot.ly"
       },
       "data": [
        {
         "name": "Apple",
         "type": "bar",
         "x": [
          "Apple iPhone 6S (A1688)",
          "Apple iPhone 6 (A1586)",
          "Apple iPhone 7 (A1778)",
          "Apple iPhone Se (A1723)",
          "Apple iPhone 8 (A1905)"
         ],
         "xaxis": "x",
         "y": [
          9419,
          9023,
          6326,
          5187,
          4993
         ],
         "yaxis": "y"
        },
        {
         "name": "Samsung",
         "type": "bar",
         "x": [
          "Samsung Galaxy S8 (Sm-G950F)",
          "Samsung Galaxy A5 Sm-A520F",
          "Samsung Galaxy J5 (Sm-J530)",
          "Samsung Galaxy J3 (Sm-J330)",
          "Samsung Galaxy S7 (Sm-G930X)"
         ],
         "xaxis": "x2",
         "y": [
          4520,
          3724,
          3696,
          3484,
          3199
         ],
         "yaxis": "y2"
        },
        {
         "name": "Huawei",
         "type": "bar",
         "x": [
          "Huawei B528S-23A",
          "Huawei E5180",
          "Huawei P20 Lite Huawei Nova 3E",
          "Huawei P20",
          "Huawei Y6 2018"
         ],
         "xaxis": "x3",
         "y": [
          19752,
          2079,
          2021,
          1480,
          997
         ],
         "yaxis": "y3"
        }
       ],
       "layout": {
        "annotations": [
         {
          "font": {
           "size": 16
          },
          "showarrow": false,
          "text": "Apple",
          "x": 0.14444444444444446,
          "xanchor": "center",
          "xref": "paper",
          "y": 1,
          "yanchor": "bottom",
          "yref": "paper"
         },
         {
          "font": {
           "size": 16
          },
          "showarrow": false,
          "text": "Samsung",
          "x": 0.5,
          "xanchor": "center",
          "xref": "paper",
          "y": 1,
          "yanchor": "bottom",
          "yref": "paper"
         },
         {
          "font": {
           "size": 16
          },
          "showarrow": false,
          "text": "Huawei",
          "x": 0.8555555555555556,
          "xanchor": "center",
          "xref": "paper",
          "y": 1,
          "yanchor": "bottom",
          "yref": "paper"
         }
        ],
        "showlegend": false,
        "template": {
         "data": {
          "bar": [
           {
            "error_x": {
             "color": "#2a3f5f"
            },
            "error_y": {
             "color": "#2a3f5f"
            },
            "marker": {
             "line": {
              "color": "#E5ECF6",
              "width": 0.5
             },
             "pattern": {
              "fillmode": "overlay",
              "size": 10,
              "solidity": 0.2
             }
            },
            "type": "bar"
           }
          ],
          "barpolar": [
           {
            "marker": {
             "line": {
              "color": "#E5ECF6",
              "width": 0.5
             },
             "pattern": {
              "fillmode": "overlay",
              "size": 10,
              "solidity": 0.2
             }
            },
            "type": "barpolar"
           }
          ],
          "carpet": [
           {
            "aaxis": {
             "endlinecolor": "#2a3f5f",
             "gridcolor": "white",
             "linecolor": "white",
             "minorgridcolor": "white",
             "startlinecolor": "#2a3f5f"
            },
            "baxis": {
             "endlinecolor": "#2a3f5f",
             "gridcolor": "white",
             "linecolor": "white",
             "minorgridcolor": "white",
             "startlinecolor": "#2a3f5f"
            },
            "type": "carpet"
           }
          ],
          "choropleth": [
           {
            "colorbar": {
             "outlinewidth": 0,
             "ticks": ""
            },
            "type": "choropleth"
           }
          ],
          "contour": [
           {
            "colorbar": {
             "outlinewidth": 0,
             "ticks": ""
            },
            "colorscale": [
             [
              0,
              "#0d0887"
             ],
             [
              0.1111111111111111,
              "#46039f"
             ],
             [
              0.2222222222222222,
              "#7201a8"
             ],
             [
              0.3333333333333333,
              "#9c179e"
             ],
             [
              0.4444444444444444,
              "#bd3786"
             ],
             [
              0.5555555555555556,
              "#d8576b"
             ],
             [
              0.6666666666666666,
              "#ed7953"
             ],
             [
              0.7777777777777778,
              "#fb9f3a"
             ],
             [
              0.8888888888888888,
              "#fdca26"
             ],
             [
              1,
              "#f0f921"
             ]
            ],
            "type": "contour"
           }
          ],
          "contourcarpet": [
           {
            "colorbar": {
             "outlinewidth": 0,
             "ticks": ""
            },
            "type": "contourcarpet"
           }
          ],
          "heatmap": [
           {
            "colorbar": {
             "outlinewidth": 0,
             "ticks": ""
            },
            "colorscale": [
             [
              0,
              "#0d0887"
             ],
             [
              0.1111111111111111,
              "#46039f"
             ],
             [
              0.2222222222222222,
              "#7201a8"
             ],
             [
              0.3333333333333333,
              "#9c179e"
             ],
             [
              0.4444444444444444,
              "#bd3786"
             ],
             [
              0.5555555555555556,
              "#d8576b"
             ],
             [
              0.6666666666666666,
              "#ed7953"
             ],
             [
              0.7777777777777778,
              "#fb9f3a"
             ],
             [
              0.8888888888888888,
              "#fdca26"
             ],
             [
              1,
              "#f0f921"
             ]
            ],
            "type": "heatmap"
           }
          ],
          "heatmapgl": [
           {
            "colorbar": {
             "outlinewidth": 0,
             "ticks": ""
            },
            "colorscale": [
             [
              0,
              "#0d0887"
             ],
             [
              0.1111111111111111,
              "#46039f"
             ],
             [
              0.2222222222222222,
              "#7201a8"
             ],
             [
              0.3333333333333333,
              "#9c179e"
             ],
             [
              0.4444444444444444,
              "#bd3786"
             ],
             [
              0.5555555555555556,
              "#d8576b"
             ],
             [
              0.6666666666666666,
              "#ed7953"
             ],
             [
              0.7777777777777778,
              "#fb9f3a"
             ],
             [
              0.8888888888888888,
              "#fdca26"
             ],
             [
              1,
              "#f0f921"
             ]
            ],
            "type": "heatmapgl"
           }
          ],
          "histogram": [
           {
            "marker": {
             "pattern": {
              "fillmode": "overlay",
              "size": 10,
              "solidity": 0.2
             }
            },
            "type": "histogram"
           }
          ],
          "histogram2d": [
           {
            "colorbar": {
             "outlinewidth": 0,
             "ticks": ""
            },
            "colorscale": [
             [
              0,
              "#0d0887"
             ],
             [
              0.1111111111111111,
              "#46039f"
             ],
             [
              0.2222222222222222,
              "#7201a8"
             ],
             [
              0.3333333333333333,
              "#9c179e"
             ],
             [
              0.4444444444444444,
              "#bd3786"
             ],
             [
              0.5555555555555556,
              "#d8576b"
             ],
             [
              0.6666666666666666,
              "#ed7953"
             ],
             [
              0.7777777777777778,
              "#fb9f3a"
             ],
             [
              0.8888888888888888,
              "#fdca26"
             ],
             [
              1,
              "#f0f921"
             ]
            ],
            "type": "histogram2d"
           }
          ],
          "histogram2dcontour": [
           {
            "colorbar": {
             "outlinewidth": 0,
             "ticks": ""
            },
            "colorscale": [
             [
              0,
              "#0d0887"
             ],
             [
              0.1111111111111111,
              "#46039f"
             ],
             [
              0.2222222222222222,
              "#7201a8"
             ],
             [
              0.3333333333333333,
              "#9c179e"
             ],
             [
              0.4444444444444444,
              "#bd3786"
             ],
             [
              0.5555555555555556,
              "#d8576b"
             ],
             [
              0.6666666666666666,
              "#ed7953"
             ],
             [
              0.7777777777777778,
              "#fb9f3a"
             ],
             [
              0.8888888888888888,
              "#fdca26"
             ],
             [
              1,
              "#f0f921"
             ]
            ],
            "type": "histogram2dcontour"
           }
          ],
          "mesh3d": [
           {
            "colorbar": {
             "outlinewidth": 0,
             "ticks": ""
            },
            "type": "mesh3d"
           }
          ],
          "parcoords": [
           {
            "line": {
             "colorbar": {
              "outlinewidth": 0,
              "ticks": ""
             }
            },
            "type": "parcoords"
           }
          ],
          "pie": [
           {
            "automargin": true,
            "type": "pie"
           }
          ],
          "scatter": [
           {
            "fillpattern": {
             "fillmode": "overlay",
             "size": 10,
             "solidity": 0.2
            },
            "type": "scatter"
           }
          ],
          "scatter3d": [
           {
            "line": {
             "colorbar": {
              "outlinewidth": 0,
              "ticks": ""
             }
            },
            "marker": {
             "colorbar": {
              "outlinewidth": 0,
              "ticks": ""
             }
            },
            "type": "scatter3d"
           }
          ],
          "scattercarpet": [
           {
            "marker": {
             "colorbar": {
              "outlinewidth": 0,
              "ticks": ""
             }
            },
            "type": "scattercarpet"
           }
          ],
          "scattergeo": [
           {
            "marker": {
             "colorbar": {
              "outlinewidth": 0,
              "ticks": ""
             }
            },
            "type": "scattergeo"
           }
          ],
          "scattergl": [
           {
            "marker": {
             "colorbar": {
              "outlinewidth": 0,
              "ticks": ""
             }
            },
            "type": "scattergl"
           }
          ],
          "scattermapbox": [
           {
            "marker": {
             "colorbar": {
              "outlinewidth": 0,
              "ticks": ""
             }
            },
            "type": "scattermapbox"
           }
          ],
          "scatterpolar": [
           {
            "marker": {
             "colorbar": {
              "outlinewidth": 0,
              "ticks": ""
             }
            },
            "type": "scatterpolar"
           }
          ],
          "scatterpolargl": [
           {
            "marker": {
             "colorbar": {
              "outlinewidth": 0,
              "ticks": ""
             }
            },
            "type": "scatterpolargl"
           }
          ],
          "scatterternary": [
           {
            "marker": {
             "colorbar": {
              "outlinewidth": 0,
              "ticks": ""
             }
            },
            "type": "scatterternary"
           }
          ],
          "surface": [
           {
            "colorbar": {
             "outlinewidth": 0,
             "ticks": ""
            },
            "colorscale": [
             [
              0,
              "#0d0887"
             ],
             [
              0.1111111111111111,
              "#46039f"
             ],
             [
              0.2222222222222222,
              "#7201a8"
             ],
             [
              0.3333333333333333,
              "#9c179e"
             ],
             [
              0.4444444444444444,
              "#bd3786"
             ],
             [
              0.5555555555555556,
              "#d8576b"
             ],
             [
              0.6666666666666666,
              "#ed7953"
             ],
             [
              0.7777777777777778,
              "#fb9f3a"
             ],
             [
              0.8888888888888888,
              "#fdca26"
             ],
             [
              1,
              "#f0f921"
             ]
            ],
            "type": "surface"
           }
          ],
          "table": [
           {
            "cells": {
             "fill": {
              "color": "#EBF0F8"
             },
             "line": {
              "color": "white"
             }
            },
            "header": {
             "fill": {
              "color": "#C8D4E3"
             },
             "line": {
              "color": "white"
             }
            },
            "type": "table"
           }
          ]
         },
         "layout": {
          "annotationdefaults": {
           "arrowcolor": "#2a3f5f",
           "arrowhead": 0,
           "arrowwidth": 1
          },
          "autotypenumbers": "strict",
          "coloraxis": {
           "colorbar": {
            "outlinewidth": 0,
            "ticks": ""
           }
          },
          "colorscale": {
           "diverging": [
            [
             0,
             "#8e0152"
            ],
            [
             0.1,
             "#c51b7d"
            ],
            [
             0.2,
             "#de77ae"
            ],
            [
             0.3,
             "#f1b6da"
            ],
            [
             0.4,
             "#fde0ef"
            ],
            [
             0.5,
             "#f7f7f7"
            ],
            [
             0.6,
             "#e6f5d0"
            ],
            [
             0.7,
             "#b8e186"
            ],
            [
             0.8,
             "#7fbc41"
            ],
            [
             0.9,
             "#4d9221"
            ],
            [
             1,
             "#276419"
            ]
           ],
           "sequential": [
            [
             0,
             "#0d0887"
            ],
            [
             0.1111111111111111,
             "#46039f"
            ],
            [
             0.2222222222222222,
             "#7201a8"
            ],
            [
             0.3333333333333333,
             "#9c179e"
            ],
            [
             0.4444444444444444,
             "#bd3786"
            ],
            [
             0.5555555555555556,
             "#d8576b"
            ],
            [
             0.6666666666666666,
             "#ed7953"
            ],
            [
             0.7777777777777778,
             "#fb9f3a"
            ],
            [
             0.8888888888888888,
             "#fdca26"
            ],
            [
             1,
             "#f0f921"
            ]
           ],
           "sequentialminus": [
            [
             0,
             "#0d0887"
            ],
            [
             0.1111111111111111,
             "#46039f"
            ],
            [
             0.2222222222222222,
             "#7201a8"
            ],
            [
             0.3333333333333333,
             "#9c179e"
            ],
            [
             0.4444444444444444,
             "#bd3786"
            ],
            [
             0.5555555555555556,
             "#d8576b"
            ],
            [
             0.6666666666666666,
             "#ed7953"
            ],
            [
             0.7777777777777778,
             "#fb9f3a"
            ],
            [
             0.8888888888888888,
             "#fdca26"
            ],
            [
             1,
             "#f0f921"
            ]
           ]
          },
          "colorway": [
           "#636efa",
           "#EF553B",
           "#00cc96",
           "#ab63fa",
           "#FFA15A",
           "#19d3f3",
           "#FF6692",
           "#B6E880",
           "#FF97FF",
           "#FECB52"
          ],
          "font": {
           "color": "#2a3f5f"
          },
          "geo": {
           "bgcolor": "white",
           "lakecolor": "white",
           "landcolor": "#E5ECF6",
           "showlakes": true,
           "showland": true,
           "subunitcolor": "white"
          },
          "hoverlabel": {
           "align": "left"
          },
          "hovermode": "closest",
          "mapbox": {
           "style": "light"
          },
          "paper_bgcolor": "white",
          "plot_bgcolor": "#E5ECF6",
          "polar": {
           "angularaxis": {
            "gridcolor": "white",
            "linecolor": "white",
            "ticks": ""
           },
           "bgcolor": "#E5ECF6",
           "radialaxis": {
            "gridcolor": "white",
            "linecolor": "white",
            "ticks": ""
           }
          },
          "scene": {
           "xaxis": {
            "backgroundcolor": "#E5ECF6",
            "gridcolor": "white",
            "gridwidth": 2,
            "linecolor": "white",
            "showbackground": true,
            "ticks": "",
            "zerolinecolor": "white"
           },
           "yaxis": {
            "backgroundcolor": "#E5ECF6",
            "gridcolor": "white",
            "gridwidth": 2,
            "linecolor": "white",
            "showbackground": true,
            "ticks": "",
            "zerolinecolor": "white"
           },
           "zaxis": {
            "backgroundcolor": "#E5ECF6",
            "gridcolor": "white",
            "gridwidth": 2,
            "linecolor": "white",
            "showbackground": true,
            "ticks": "",
            "zerolinecolor": "white"
           }
          },
          "shapedefaults": {
           "line": {
            "color": "#2a3f5f"
           }
          },
          "ternary": {
           "aaxis": {
            "gridcolor": "white",
            "linecolor": "white",
            "ticks": ""
           },
           "baxis": {
            "gridcolor": "white",
            "linecolor": "white",
            "ticks": ""
           },
           "bgcolor": "#E5ECF6",
           "caxis": {
            "gridcolor": "white",
            "linecolor": "white",
            "ticks": ""
           }
          },
          "title": {
           "x": 0.05
          },
          "xaxis": {
           "automargin": true,
           "gridcolor": "white",
           "linecolor": "white",
           "ticks": "",
           "title": {
            "standoff": 15
           },
           "zerolinecolor": "white",
           "zerolinewidth": 2
          },
          "yaxis": {
           "automargin": true,
           "gridcolor": "white",
           "linecolor": "white",
           "ticks": "",
           "title": {
            "standoff": 15
           },
           "zerolinecolor": "white",
           "zerolinewidth": 2
          }
         }
        },
        "title": {
         "text": "Top 5 Handset Types for Each Manufacturer"
        },
        "xaxis": {
         "anchor": "y",
         "domain": [
          0,
          0.2888888888888889
         ]
        },
        "xaxis2": {
         "anchor": "y2",
         "domain": [
          0.35555555555555557,
          0.6444444444444445
         ]
        },
        "xaxis3": {
         "anchor": "y3",
         "domain": [
          0.7111111111111111,
          1
         ]
        },
        "yaxis": {
         "anchor": "x",
         "domain": [
          0,
          1
         ]
        },
        "yaxis2": {
         "anchor": "x2",
         "domain": [
          0,
          1
         ]
        },
        "yaxis3": {
         "anchor": "x3",
         "domain": [
          0,
          1
         ]
        }
       }
      }
     },
     "metadata": {},
     "output_type": "display_data"
    }
   ],
   "source": [
    "# using'handsets_per_manufacturers' DataFrame and 'handset_manufacturer' and 'handset_type' columns\n",
    "manufacturers = handsets_per_manufacturers[\"handset_manufacturer\"].value_counts().head(3).index\n",
    "\n",
    "# Creating subplots\n",
    "fig = sp.make_subplots(rows=1, cols=3, subplot_titles=(manufacturers))\n",
    "\n",
    "# Plotting the top 5 handset types for each manufacturer\n",
    "for i, manufacturer in enumerate(manufacturers):\n",
    "    manufacturer_df = handsets_per_manufacturers[handsets_per_manufacturers[\"handset_manufacturer\"] == manufacturer]\n",
    "    top_handsets = manufacturer_df[\"handset_type\"].value_counts().head(5)\n",
    "    \n",
    "    # Creating a DataFrame from the series\n",
    "    top_handsets_df = top_handsets.reset_index()\n",
    "    top_handsets_df.columns = ['Handset Type', 'Count']\n",
    "    \n",
    "    # Creating a bar trace for each manufacturer\n",
    "    trace = go.Bar(x=top_handsets_df['Handset Type'], y=top_handsets_df['Count'], name=manufacturer)\n",
    "    \n",
    "    # Adding the trace to the subplot\n",
    "    fig.add_trace(trace, row=1, col=i+1)\n",
    "\n",
    "# Updating the layout\n",
    "fig.update_layout(title_text=\"Top 5 Handset Types for Each Manufacturer\", showlegend=False)\n",
    "\n",
    "# Displaying the plot\n",
    "fig.show()"
   ]
  },
  {
   "cell_type": "markdown",
   "metadata": {},
   "source": [
    "#### Interpretation"
   ]
  },
  {
   "cell_type": "markdown",
   "metadata": {},
   "source": [
    "In examining the data, it's evident that certain handsets hold a significant sway over customer preferences, with a distinct focus on the top 10 handsets. For market teams, this implies an opportunity to hone in on these popular devices, tailoring marketing efforts to leverage their widespread appeal. Promotions or exclusive deals bundled with these top handsets could attract a broader customer base. Furthermore, understanding the dominant handset manufacturers, as revealed by the top 3 manufacturers, opens avenues for strategic collaborations. Market teams can explore partnerships with these manufacturers to enhance product offerings, potentially leading to exclusive releases or features that set their offerings apart in a competitive market.\n",
    "\n",
    "Delving deeper into the dataset by examining the top 5 handset types for each manufacturer offers a nuanced perspective. Customizing marketing campaigns for each manufacturer based on the most popular handset types allows for a more targeted and effective approach. By aligning promotions with the preferences of each manufacturer's customer base, market teams can better connect with potential buyers. Additionally, staying attuned to the release schedules and innovations of these manufacturers becomes crucial for maintaining competitiveness in a dynamic market. This comprehensive understanding of customer preferences, coupled with strategic collaborations and tailored marketing efforts, positions the market teams to not only meet current demands but also anticipate and adapt to evolving trends."
   ]
  },
  {
   "cell_type": "markdown",
   "metadata": {},
   "source": [
    "#### Recommendation to marketing teams"
   ]
  },
  {
   "cell_type": "markdown",
   "metadata": {},
   "source": [
    "Collaborating with the top handset manufacturers presents an opportunity to create mutually beneficial relationships. Consideration should be given to exclusive deals or promotions that highlight both the handsets and the services offered by the company. These partnerships could extend to co-branded marketing campaigns, maximizing brand visibility and fostering a sense of trust and loyalty among customers.\n",
    "\n",
    "The data also suggests a need for customized marketing campaigns that cater to the unique preferences of each manufacturer's customer base. Rather than adopting a one-size-fits-all approach, tailoring promotions to the top 5 handset types for each manufacturer ensures a more resonant message. This approach not only improves customer engagement but also positions the company as attuned to individual customer needs. Additionally, as the market is dynamic, a vigilant eye on emerging trends and innovations from the top manufacturers is crucial. By staying ahead of the curve, market teams can proactively adjust strategies, ensuring that their offerings remain aligned with evolving customer expectations and preferences."
   ]
  },
  {
   "cell_type": "markdown",
   "metadata": {},
   "source": [
    "### Task 2.1\n",
    "\n",
    "#### overview of the users’ behaviour"
   ]
  },
  {
   "cell_type": "markdown",
   "metadata": {},
   "source": [
    "#### number of xDR session"
   ]
  },
  {
   "cell_type": "code",
   "execution_count": 38,
   "metadata": {},
   "outputs": [
    {
     "data": {
      "text/html": [
       "<div>\n",
       "<style scoped>\n",
       "    .dataframe tbody tr th:only-of-type {\n",
       "        vertical-align: middle;\n",
       "    }\n",
       "\n",
       "    .dataframe tbody tr th {\n",
       "        vertical-align: top;\n",
       "    }\n",
       "\n",
       "    .dataframe thead th {\n",
       "        text-align: right;\n",
       "    }\n",
       "</style>\n",
       "<table border=\"1\" class=\"dataframe\">\n",
       "  <thead>\n",
       "    <tr style=\"text-align: right;\">\n",
       "      <th></th>\n",
       "      <th>xDR_session</th>\n",
       "    </tr>\n",
       "    <tr>\n",
       "      <th>msisdn/number</th>\n",
       "      <th></th>\n",
       "    </tr>\n",
       "  </thead>\n",
       "  <tbody>\n",
       "    <tr>\n",
       "      <th>3.366371e+10</th>\n",
       "      <td>1067</td>\n",
       "    </tr>\n",
       "    <tr>\n",
       "      <th>3.362632e+10</th>\n",
       "      <td>18</td>\n",
       "    </tr>\n",
       "    <tr>\n",
       "      <th>3.361489e+10</th>\n",
       "      <td>17</td>\n",
       "    </tr>\n",
       "    <tr>\n",
       "      <th>3.362578e+10</th>\n",
       "      <td>17</td>\n",
       "    </tr>\n",
       "    <tr>\n",
       "      <th>3.365973e+10</th>\n",
       "      <td>16</td>\n",
       "    </tr>\n",
       "    <tr>\n",
       "      <th>3.376054e+10</th>\n",
       "      <td>15</td>\n",
       "    </tr>\n",
       "    <tr>\n",
       "      <th>3.367588e+10</th>\n",
       "      <td>15</td>\n",
       "    </tr>\n",
       "    <tr>\n",
       "      <th>3.366716e+10</th>\n",
       "      <td>13</td>\n",
       "    </tr>\n",
       "    <tr>\n",
       "      <th>3.360452e+10</th>\n",
       "      <td>12</td>\n",
       "    </tr>\n",
       "    <tr>\n",
       "      <th>3.360313e+10</th>\n",
       "      <td>12</td>\n",
       "    </tr>\n",
       "  </tbody>\n",
       "</table>\n",
       "</div>"
      ],
      "text/plain": [
       "               xDR_session\n",
       "msisdn/number             \n",
       "3.366371e+10          1067\n",
       "3.362632e+10            18\n",
       "3.361489e+10            17\n",
       "3.362578e+10            17\n",
       "3.365973e+10            16\n",
       "3.376054e+10            15\n",
       "3.367588e+10            15\n",
       "3.366716e+10            13\n",
       "3.360452e+10            12\n",
       "3.360313e+10            12"
      ]
     },
     "execution_count": 38,
     "metadata": {},
     "output_type": "execute_result"
    }
   ],
   "source": [
    "session=cleaned_df.groupby([\"msisdn/number\"]).agg({\"bearer_id\":\"count\"})\n",
    "\n",
    "session.rename(columns={\"bearer_id\":\"xDR_sessions\"})\n",
    "session=pd.DataFrame(data=list(session[\"bearer_id\"])[1:],columns=[\"xDR_session\"],index=session.index[1:])\n",
    "session = session.sort_values(by=[\"xDR_session\"],ascending=False)\n",
    "session.dropna()\n",
    "session.head(10)"
   ]
  },
  {
   "cell_type": "code",
   "execution_count": 39,
   "metadata": {},
   "outputs": [
    {
     "data": {
      "text/html": [
       "<div>\n",
       "<style scoped>\n",
       "    .dataframe tbody tr th:only-of-type {\n",
       "        vertical-align: middle;\n",
       "    }\n",
       "\n",
       "    .dataframe tbody tr th {\n",
       "        vertical-align: top;\n",
       "    }\n",
       "\n",
       "    .dataframe thead th {\n",
       "        text-align: right;\n",
       "    }\n",
       "</style>\n",
       "<table border=\"1\" class=\"dataframe\">\n",
       "  <thead>\n",
       "    <tr style=\"text-align: right;\">\n",
       "      <th></th>\n",
       "      <th>xDR_session</th>\n",
       "    </tr>\n",
       "  </thead>\n",
       "  <tbody>\n",
       "    <tr>\n",
       "      <th>count</th>\n",
       "      <td>106855.000000</td>\n",
       "    </tr>\n",
       "    <tr>\n",
       "      <th>mean</th>\n",
       "      <td>1.403771</td>\n",
       "    </tr>\n",
       "    <tr>\n",
       "      <th>std</th>\n",
       "      <td>3.358032</td>\n",
       "    </tr>\n",
       "    <tr>\n",
       "      <th>min</th>\n",
       "      <td>1.000000</td>\n",
       "    </tr>\n",
       "    <tr>\n",
       "      <th>25%</th>\n",
       "      <td>1.000000</td>\n",
       "    </tr>\n",
       "    <tr>\n",
       "      <th>50%</th>\n",
       "      <td>1.000000</td>\n",
       "    </tr>\n",
       "    <tr>\n",
       "      <th>75%</th>\n",
       "      <td>2.000000</td>\n",
       "    </tr>\n",
       "    <tr>\n",
       "      <th>max</th>\n",
       "      <td>1067.000000</td>\n",
       "    </tr>\n",
       "  </tbody>\n",
       "</table>\n",
       "</div>"
      ],
      "text/plain": [
       "         xDR_session\n",
       "count  106855.000000\n",
       "mean        1.403771\n",
       "std         3.358032\n",
       "min         1.000000\n",
       "25%         1.000000\n",
       "50%         1.000000\n",
       "75%         2.000000\n",
       "max      1067.000000"
      ]
     },
     "execution_count": 39,
     "metadata": {},
     "output_type": "execute_result"
    }
   ],
   "source": [
    "session.describe()"
   ]
  },
  {
   "cell_type": "markdown",
   "metadata": {},
   "source": [
    "we have an average of ≈ 1.4 xDR session per user."
   ]
  },
  {
   "cell_type": "markdown",
   "metadata": {},
   "source": [
    "#### total session duration"
   ]
  },
  {
   "cell_type": "code",
   "execution_count": 40,
   "metadata": {},
   "outputs": [
    {
     "data": {
      "text/html": [
       "<div>\n",
       "<style scoped>\n",
       "    .dataframe tbody tr th:only-of-type {\n",
       "        vertical-align: middle;\n",
       "    }\n",
       "\n",
       "    .dataframe tbody tr th {\n",
       "        vertical-align: top;\n",
       "    }\n",
       "\n",
       "    .dataframe thead th {\n",
       "        text-align: right;\n",
       "    }\n",
       "</style>\n",
       "<table border=\"1\" class=\"dataframe\">\n",
       "  <thead>\n",
       "    <tr style=\"text-align: right;\">\n",
       "      <th></th>\n",
       "      <th>dur._(ms)</th>\n",
       "    </tr>\n",
       "  </thead>\n",
       "  <tbody>\n",
       "    <tr>\n",
       "      <th>0</th>\n",
       "      <td>1823652.0</td>\n",
       "    </tr>\n",
       "    <tr>\n",
       "      <th>1</th>\n",
       "      <td>1365104.0</td>\n",
       "    </tr>\n",
       "    <tr>\n",
       "      <th>2</th>\n",
       "      <td>1361762.0</td>\n",
       "    </tr>\n",
       "    <tr>\n",
       "      <th>3</th>\n",
       "      <td>1321509.0</td>\n",
       "    </tr>\n",
       "    <tr>\n",
       "      <th>4</th>\n",
       "      <td>1089009.0</td>\n",
       "    </tr>\n",
       "    <tr>\n",
       "      <th>...</th>\n",
       "      <td>...</td>\n",
       "    </tr>\n",
       "    <tr>\n",
       "      <th>149996</th>\n",
       "      <td>81230.0</td>\n",
       "    </tr>\n",
       "    <tr>\n",
       "      <th>149997</th>\n",
       "      <td>97970.0</td>\n",
       "    </tr>\n",
       "    <tr>\n",
       "      <th>149998</th>\n",
       "      <td>98249.0</td>\n",
       "    </tr>\n",
       "    <tr>\n",
       "      <th>149999</th>\n",
       "      <td>97910.0</td>\n",
       "    </tr>\n",
       "    <tr>\n",
       "      <th>150000</th>\n",
       "      <td>86399.0</td>\n",
       "    </tr>\n",
       "  </tbody>\n",
       "</table>\n",
       "<p>150001 rows × 1 columns</p>\n",
       "</div>"
      ],
      "text/plain": [
       "        dur._(ms)\n",
       "0       1823652.0\n",
       "1       1365104.0\n",
       "2       1361762.0\n",
       "3       1321509.0\n",
       "4       1089009.0\n",
       "...           ...\n",
       "149996    81230.0\n",
       "149997    97970.0\n",
       "149998    98249.0\n",
       "149999    97910.0\n",
       "150000    86399.0\n",
       "\n",
       "[150001 rows x 1 columns]"
      ]
     },
     "execution_count": 40,
     "metadata": {},
     "output_type": "execute_result"
    }
   ],
   "source": [
    "# duration with ms\n",
    "cleaned_df[[\"dur._(ms)\"]]"
   ]
  },
  {
   "cell_type": "code",
   "execution_count": 42,
   "metadata": {},
   "outputs": [
    {
     "data": {
      "text/html": [
       "<div>\n",
       "<style scoped>\n",
       "    .dataframe tbody tr th:only-of-type {\n",
       "        vertical-align: middle;\n",
       "    }\n",
       "\n",
       "    .dataframe tbody tr th {\n",
       "        vertical-align: top;\n",
       "    }\n",
       "\n",
       "    .dataframe thead th {\n",
       "        text-align: right;\n",
       "    }\n",
       "</style>\n",
       "<table border=\"1\" class=\"dataframe\">\n",
       "  <thead>\n",
       "    <tr style=\"text-align: right;\">\n",
       "      <th></th>\n",
       "      <th>total_duration(ms)</th>\n",
       "    </tr>\n",
       "    <tr>\n",
       "      <th>msisdn/number</th>\n",
       "      <th></th>\n",
       "    </tr>\n",
       "  </thead>\n",
       "  <tbody>\n",
       "    <tr>\n",
       "      <th>3.366371e+10</th>\n",
       "      <td>72655568.0</td>\n",
       "    </tr>\n",
       "    <tr>\n",
       "      <th>3.362578e+10</th>\n",
       "      <td>18553754.0</td>\n",
       "    </tr>\n",
       "    <tr>\n",
       "      <th>3.361489e+10</th>\n",
       "      <td>9966898.0</td>\n",
       "    </tr>\n",
       "    <tr>\n",
       "      <th>3.376054e+10</th>\n",
       "      <td>9279434.0</td>\n",
       "    </tr>\n",
       "    <tr>\n",
       "      <th>3.362632e+10</th>\n",
       "      <td>8791927.0</td>\n",
       "    </tr>\n",
       "    <tr>\n",
       "      <th>3.366716e+10</th>\n",
       "      <td>8744914.0</td>\n",
       "    </tr>\n",
       "    <tr>\n",
       "      <th>3.366284e+10</th>\n",
       "      <td>6614270.0</td>\n",
       "    </tr>\n",
       "    <tr>\n",
       "      <th>3.366469e+10</th>\n",
       "      <td>6288730.0</td>\n",
       "    </tr>\n",
       "    <tr>\n",
       "      <th>3.360313e+10</th>\n",
       "      <td>6287761.0</td>\n",
       "    </tr>\n",
       "    <tr>\n",
       "      <th>3.366746e+10</th>\n",
       "      <td>5649882.0</td>\n",
       "    </tr>\n",
       "  </tbody>\n",
       "</table>\n",
       "</div>"
      ],
      "text/plain": [
       "               total_duration(ms) \n",
       "msisdn/number                     \n",
       "3.366371e+10            72655568.0\n",
       "3.362578e+10            18553754.0\n",
       "3.361489e+10             9966898.0\n",
       "3.376054e+10             9279434.0\n",
       "3.362632e+10             8791927.0\n",
       "3.366716e+10             8744914.0\n",
       "3.366284e+10             6614270.0\n",
       "3.366469e+10             6288730.0\n",
       "3.360313e+10             6287761.0\n",
       "3.366746e+10             5649882.0"
      ]
     },
     "execution_count": 42,
     "metadata": {},
     "output_type": "execute_result"
    }
   ],
   "source": [
    "duration = cleaned_df.groupby([\"msisdn/number\"]).agg({\"dur._(ms)\":\"sum\"})\n",
    "duration.sort_values(by=[\"dur._(ms)\"],ascending=False,inplace=True)\n",
    "duration.dropna(axis=0,inplace=True)\n",
    "duration=duration.rename(columns={\"dur._(ms)\":\"total_duration(ms) \"})\n",
    "duration.head(10)"
   ]
  },
  {
   "cell_type": "code",
   "execution_count": 43,
   "metadata": {},
   "outputs": [
    {
     "data": {
      "text/html": [
       "<div>\n",
       "<style scoped>\n",
       "    .dataframe tbody tr th:only-of-type {\n",
       "        vertical-align: middle;\n",
       "    }\n",
       "\n",
       "    .dataframe tbody tr th {\n",
       "        vertical-align: top;\n",
       "    }\n",
       "\n",
       "    .dataframe thead th {\n",
       "        text-align: right;\n",
       "    }\n",
       "</style>\n",
       "<table border=\"1\" class=\"dataframe\">\n",
       "  <thead>\n",
       "    <tr style=\"text-align: right;\">\n",
       "      <th></th>\n",
       "      <th>total_duration(ms)</th>\n",
       "    </tr>\n",
       "  </thead>\n",
       "  <tbody>\n",
       "    <tr>\n",
       "      <th>count</th>\n",
       "      <td>1.068560e+05</td>\n",
       "    </tr>\n",
       "    <tr>\n",
       "      <th>mean</th>\n",
       "      <td>1.468459e+05</td>\n",
       "    </tr>\n",
       "    <tr>\n",
       "      <th>std</th>\n",
       "      <td>2.897108e+05</td>\n",
       "    </tr>\n",
       "    <tr>\n",
       "      <th>min</th>\n",
       "      <td>7.142000e+03</td>\n",
       "    </tr>\n",
       "    <tr>\n",
       "      <th>25%</th>\n",
       "      <td>7.130800e+04</td>\n",
       "    </tr>\n",
       "    <tr>\n",
       "      <th>50%</th>\n",
       "      <td>1.027400e+05</td>\n",
       "    </tr>\n",
       "    <tr>\n",
       "      <th>75%</th>\n",
       "      <td>1.727990e+05</td>\n",
       "    </tr>\n",
       "    <tr>\n",
       "      <th>max</th>\n",
       "      <td>7.265557e+07</td>\n",
       "    </tr>\n",
       "  </tbody>\n",
       "</table>\n",
       "</div>"
      ],
      "text/plain": [
       "       total_duration(ms) \n",
       "count         1.068560e+05\n",
       "mean          1.468459e+05\n",
       "std           2.897108e+05\n",
       "min           7.142000e+03\n",
       "25%           7.130800e+04\n",
       "50%           1.027400e+05\n",
       "75%           1.727990e+05\n",
       "max           7.265557e+07"
      ]
     },
     "execution_count": 43,
     "metadata": {},
     "output_type": "execute_result"
    }
   ],
   "source": [
    "duration.describe()"
   ]
  },
  {
   "cell_type": "markdown",
   "metadata": {},
   "source": [
    "we can see that on average a user spent around 146846 ms (146.8 s) on xDR session"
   ]
  },
  {
   "cell_type": "markdown",
   "metadata": {},
   "source": [
    "#### total download(DL) and upload (UL) data"
   ]
  },
  {
   "cell_type": "code",
   "execution_count": 44,
   "metadata": {},
   "outputs": [
    {
     "data": {
      "text/html": [
       "<div>\n",
       "<style scoped>\n",
       "    .dataframe tbody tr th:only-of-type {\n",
       "        vertical-align: middle;\n",
       "    }\n",
       "\n",
       "    .dataframe tbody tr th {\n",
       "        vertical-align: top;\n",
       "    }\n",
       "\n",
       "    .dataframe thead th {\n",
       "        text-align: right;\n",
       "    }\n",
       "</style>\n",
       "<table border=\"1\" class=\"dataframe\">\n",
       "  <thead>\n",
       "    <tr style=\"text-align: right;\">\n",
       "      <th></th>\n",
       "      <th>total_dl_(bytes)</th>\n",
       "      <th>total_ul_(bytes)</th>\n",
       "    </tr>\n",
       "  </thead>\n",
       "  <tbody>\n",
       "    <tr>\n",
       "      <th>0</th>\n",
       "      <td>3.088796e+08</td>\n",
       "      <td>3.674974e+07</td>\n",
       "    </tr>\n",
       "    <tr>\n",
       "      <th>1</th>\n",
       "      <td>6.533850e+08</td>\n",
       "      <td>5.380039e+07</td>\n",
       "    </tr>\n",
       "    <tr>\n",
       "      <th>2</th>\n",
       "      <td>2.798073e+08</td>\n",
       "      <td>2.788364e+07</td>\n",
       "    </tr>\n",
       "    <tr>\n",
       "      <th>3</th>\n",
       "      <td>8.460285e+08</td>\n",
       "      <td>4.332422e+07</td>\n",
       "    </tr>\n",
       "    <tr>\n",
       "      <th>4</th>\n",
       "      <td>5.691386e+08</td>\n",
       "      <td>3.854281e+07</td>\n",
       "    </tr>\n",
       "    <tr>\n",
       "      <th>...</th>\n",
       "      <td>...</td>\n",
       "      <td>...</td>\n",
       "    </tr>\n",
       "    <tr>\n",
       "      <th>149996</th>\n",
       "      <td>5.741753e+08</td>\n",
       "      <td>5.762885e+07</td>\n",
       "    </tr>\n",
       "    <tr>\n",
       "      <th>149997</th>\n",
       "      <td>6.666488e+08</td>\n",
       "      <td>3.913508e+07</td>\n",
       "    </tr>\n",
       "    <tr>\n",
       "      <th>149998</th>\n",
       "      <td>5.927864e+08</td>\n",
       "      <td>3.491222e+07</td>\n",
       "    </tr>\n",
       "    <tr>\n",
       "      <th>149999</th>\n",
       "      <td>3.718959e+08</td>\n",
       "      <td>2.962610e+07</td>\n",
       "    </tr>\n",
       "    <tr>\n",
       "      <th>150000</th>\n",
       "      <td>4.546434e+08</td>\n",
       "      <td>4.112121e+07</td>\n",
       "    </tr>\n",
       "  </tbody>\n",
       "</table>\n",
       "<p>150001 rows × 2 columns</p>\n",
       "</div>"
      ],
      "text/plain": [
       "        total_dl_(bytes)  total_ul_(bytes)\n",
       "0           3.088796e+08      3.674974e+07\n",
       "1           6.533850e+08      5.380039e+07\n",
       "2           2.798073e+08      2.788364e+07\n",
       "3           8.460285e+08      4.332422e+07\n",
       "4           5.691386e+08      3.854281e+07\n",
       "...                  ...               ...\n",
       "149996      5.741753e+08      5.762885e+07\n",
       "149997      6.666488e+08      3.913508e+07\n",
       "149998      5.927864e+08      3.491222e+07\n",
       "149999      3.718959e+08      2.962610e+07\n",
       "150000      4.546434e+08      4.112121e+07\n",
       "\n",
       "[150001 rows x 2 columns]"
      ]
     },
     "execution_count": 44,
     "metadata": {},
     "output_type": "execute_result"
    }
   ],
   "source": [
    "# our target columns\n",
    "cleaned_df[[\"total_dl_(bytes)\",\"total_ul_(bytes)\"]]"
   ]
  },
  {
   "cell_type": "code",
   "execution_count": 45,
   "metadata": {},
   "outputs": [
    {
     "data": {
      "text/html": [
       "<div>\n",
       "<style scoped>\n",
       "    .dataframe tbody tr th:only-of-type {\n",
       "        vertical-align: middle;\n",
       "    }\n",
       "\n",
       "    .dataframe tbody tr th {\n",
       "        vertical-align: top;\n",
       "    }\n",
       "\n",
       "    .dataframe thead th {\n",
       "        text-align: right;\n",
       "    }\n",
       "</style>\n",
       "<table border=\"1\" class=\"dataframe\">\n",
       "  <thead>\n",
       "    <tr style=\"text-align: right;\">\n",
       "      <th></th>\n",
       "      <th>total_dl_(bytes)</th>\n",
       "      <th>total_ul_(bytes)</th>\n",
       "      <th>total_dl_(MB)</th>\n",
       "      <th>total_ul_(MB)</th>\n",
       "    </tr>\n",
       "    <tr>\n",
       "      <th>msisdn/number</th>\n",
       "      <th></th>\n",
       "      <th></th>\n",
       "      <th></th>\n",
       "      <th></th>\n",
       "    </tr>\n",
       "  </thead>\n",
       "  <tbody>\n",
       "    <tr>\n",
       "      <th>3.366371e+10</th>\n",
       "      <td>4.875441e+11</td>\n",
       "      <td>4.441823e+10</td>\n",
       "      <td>464958.288934</td>\n",
       "      <td>42360.529887</td>\n",
       "    </tr>\n",
       "    <tr>\n",
       "      <th>3.361489e+10</th>\n",
       "      <td>8.156743e+09</td>\n",
       "      <td>6.894830e+08</td>\n",
       "      <td>7778.876775</td>\n",
       "      <td>657.542230</td>\n",
       "    </tr>\n",
       "    <tr>\n",
       "      <th>3.376054e+10</th>\n",
       "      <td>7.811295e+09</td>\n",
       "      <td>7.034786e+08</td>\n",
       "      <td>7449.431784</td>\n",
       "      <td>670.889455</td>\n",
       "    </tr>\n",
       "    <tr>\n",
       "      <th>3.362578e+10</th>\n",
       "      <td>7.770043e+09</td>\n",
       "      <td>7.295774e+08</td>\n",
       "      <td>7410.090773</td>\n",
       "      <td>695.779209</td>\n",
       "    </tr>\n",
       "    <tr>\n",
       "      <th>3.367588e+10</th>\n",
       "      <td>7.309542e+09</td>\n",
       "      <td>5.815688e+08</td>\n",
       "      <td>6970.922295</td>\n",
       "      <td>554.627220</td>\n",
       "    </tr>\n",
       "    <tr>\n",
       "      <th>3.362632e+10</th>\n",
       "      <td>7.301517e+09</td>\n",
       "      <td>6.696507e+08</td>\n",
       "      <td>6963.268795</td>\n",
       "      <td>638.628694</td>\n",
       "    </tr>\n",
       "    <tr>\n",
       "      <th>3.365973e+10</th>\n",
       "      <td>7.081602e+09</td>\n",
       "      <td>6.242603e+08</td>\n",
       "      <td>6753.542387</td>\n",
       "      <td>595.341035</td>\n",
       "    </tr>\n",
       "    <tr>\n",
       "      <th>3.366646e+10</th>\n",
       "      <td>6.903440e+09</td>\n",
       "      <td>4.050610e+08</td>\n",
       "      <td>6583.633387</td>\n",
       "      <td>386.296249</td>\n",
       "    </tr>\n",
       "    <tr>\n",
       "      <th>3.376041e+10</th>\n",
       "      <td>6.610852e+09</td>\n",
       "      <td>5.215189e+08</td>\n",
       "      <td>6304.599403</td>\n",
       "      <td>497.359171</td>\n",
       "    </tr>\n",
       "    <tr>\n",
       "      <th>3.366471e+10</th>\n",
       "      <td>6.400774e+09</td>\n",
       "      <td>4.712445e+08</td>\n",
       "      <td>6104.253535</td>\n",
       "      <td>449.413732</td>\n",
       "    </tr>\n",
       "  </tbody>\n",
       "</table>\n",
       "</div>"
      ],
      "text/plain": [
       "               total_dl_(bytes)  total_ul_(bytes)  total_dl_(MB)  \\\n",
       "msisdn/number                                                      \n",
       "3.366371e+10       4.875441e+11      4.441823e+10  464958.288934   \n",
       "3.361489e+10       8.156743e+09      6.894830e+08    7778.876775   \n",
       "3.376054e+10       7.811295e+09      7.034786e+08    7449.431784   \n",
       "3.362578e+10       7.770043e+09      7.295774e+08    7410.090773   \n",
       "3.367588e+10       7.309542e+09      5.815688e+08    6970.922295   \n",
       "3.362632e+10       7.301517e+09      6.696507e+08    6963.268795   \n",
       "3.365973e+10       7.081602e+09      6.242603e+08    6753.542387   \n",
       "3.366646e+10       6.903440e+09      4.050610e+08    6583.633387   \n",
       "3.376041e+10       6.610852e+09      5.215189e+08    6304.599403   \n",
       "3.366471e+10       6.400774e+09      4.712445e+08    6104.253535   \n",
       "\n",
       "               total_ul_(MB)  \n",
       "msisdn/number                 \n",
       "3.366371e+10    42360.529887  \n",
       "3.361489e+10      657.542230  \n",
       "3.376054e+10      670.889455  \n",
       "3.362578e+10      695.779209  \n",
       "3.367588e+10      554.627220  \n",
       "3.362632e+10      638.628694  \n",
       "3.365973e+10      595.341035  \n",
       "3.366646e+10      386.296249  \n",
       "3.376041e+10      497.359171  \n",
       "3.366471e+10      449.413732  "
      ]
     },
     "execution_count": 45,
     "metadata": {},
     "output_type": "execute_result"
    }
   ],
   "source": [
    "ul_dl_data=cleaned_df.groupby([\"msisdn/number\"]).agg({\"total_dl_(bytes)\":\"sum\",\"total_ul_(bytes)\":\"sum\"})\n",
    "ul_dl_data.dropna(axis=0,inplace=True)\n",
    "ul_dl_data[[\"total_dl_(MB)\",\"total_ul_(MB)\"]]=ul_dl_data[[\"total_dl_(bytes)\",\"total_ul_(bytes)\"]].div(1024**2)\n",
    "ul_dl_data=ul_dl_data.sort_values(by=[\"total_dl_(bytes)\",\"total_ul_(bytes)\"],ascending=False)\n",
    "ul_dl_data.head(10)"
   ]
  },
  {
   "cell_type": "code",
   "execution_count": 46,
   "metadata": {},
   "outputs": [
    {
     "data": {
      "text/html": [
       "<div>\n",
       "<style scoped>\n",
       "    .dataframe tbody tr th:only-of-type {\n",
       "        vertical-align: middle;\n",
       "    }\n",
       "\n",
       "    .dataframe tbody tr th {\n",
       "        vertical-align: top;\n",
       "    }\n",
       "\n",
       "    .dataframe thead th {\n",
       "        text-align: right;\n",
       "    }\n",
       "</style>\n",
       "<table border=\"1\" class=\"dataframe\">\n",
       "  <thead>\n",
       "    <tr style=\"text-align: right;\">\n",
       "      <th></th>\n",
       "      <th>total_dl_(bytes)</th>\n",
       "      <th>total_ul_(bytes)</th>\n",
       "      <th>total_dl_(MB)</th>\n",
       "      <th>total_ul_(MB)</th>\n",
       "    </tr>\n",
       "  </thead>\n",
       "  <tbody>\n",
       "    <tr>\n",
       "      <th>count</th>\n",
       "      <td>1.068560e+05</td>\n",
       "      <td>1.068560e+05</td>\n",
       "      <td>106856.000000</td>\n",
       "      <td>106856.000000</td>\n",
       "    </tr>\n",
       "    <tr>\n",
       "      <th>mean</th>\n",
       "      <td>6.382138e+08</td>\n",
       "      <td>5.772462e+07</td>\n",
       "      <td>608.648068</td>\n",
       "      <td>55.050488</td>\n",
       "    </tr>\n",
       "    <tr>\n",
       "      <th>std</th>\n",
       "      <td>1.560293e+09</td>\n",
       "      <td>1.403131e+08</td>\n",
       "      <td>1488.010937</td>\n",
       "      <td>133.812991</td>\n",
       "    </tr>\n",
       "    <tr>\n",
       "      <th>min</th>\n",
       "      <td>8.827082e+06</td>\n",
       "      <td>2.866892e+06</td>\n",
       "      <td>8.418161</td>\n",
       "      <td>2.734081</td>\n",
       "    </tr>\n",
       "    <tr>\n",
       "      <th>25%</th>\n",
       "      <td>3.148323e+08</td>\n",
       "      <td>3.639547e+07</td>\n",
       "      <td>300.247463</td>\n",
       "      <td>34.709430</td>\n",
       "    </tr>\n",
       "    <tr>\n",
       "      <th>50%</th>\n",
       "      <td>5.703738e+08</td>\n",
       "      <td>4.679387e+07</td>\n",
       "      <td>543.950803</td>\n",
       "      <td>44.626108</td>\n",
       "    </tr>\n",
       "    <tr>\n",
       "      <th>75%</th>\n",
       "      <td>8.073704e+08</td>\n",
       "      <td>6.573405e+07</td>\n",
       "      <td>769.968404</td>\n",
       "      <td>62.688872</td>\n",
       "    </tr>\n",
       "    <tr>\n",
       "      <th>max</th>\n",
       "      <td>4.875441e+11</td>\n",
       "      <td>4.441823e+10</td>\n",
       "      <td>464958.288934</td>\n",
       "      <td>42360.529887</td>\n",
       "    </tr>\n",
       "  </tbody>\n",
       "</table>\n",
       "</div>"
      ],
      "text/plain": [
       "       total_dl_(bytes)  total_ul_(bytes)  total_dl_(MB)  total_ul_(MB)\n",
       "count      1.068560e+05      1.068560e+05  106856.000000  106856.000000\n",
       "mean       6.382138e+08      5.772462e+07     608.648068      55.050488\n",
       "std        1.560293e+09      1.403131e+08    1488.010937     133.812991\n",
       "min        8.827082e+06      2.866892e+06       8.418161       2.734081\n",
       "25%        3.148323e+08      3.639547e+07     300.247463      34.709430\n",
       "50%        5.703738e+08      4.679387e+07     543.950803      44.626108\n",
       "75%        8.073704e+08      6.573405e+07     769.968404      62.688872\n",
       "max        4.875441e+11      4.441823e+10  464958.288934   42360.529887"
      ]
     },
     "execution_count": 46,
     "metadata": {},
     "output_type": "execute_result"
    }
   ],
   "source": [
    "ul_dl_data.describe()"
   ]
  },
  {
   "cell_type": "markdown",
   "metadata": {},
   "source": [
    "From the above data we can understand that the average data size downloaded by a user is 608.6MB while the average data size uploaded by a user is 55MB"
   ]
  },
  {
   "cell_type": "markdown",
   "metadata": {},
   "source": [
    "#### total data volume (bytes) during the session for each application"
   ]
  },
  {
   "cell_type": "code",
   "execution_count": 48,
   "metadata": {},
   "outputs": [
    {
     "data": {
      "text/html": [
       "<div>\n",
       "<style scoped>\n",
       "    .dataframe tbody tr th:only-of-type {\n",
       "        vertical-align: middle;\n",
       "    }\n",
       "\n",
       "    .dataframe tbody tr th {\n",
       "        vertical-align: top;\n",
       "    }\n",
       "\n",
       "    .dataframe thead th {\n",
       "        text-align: right;\n",
       "    }\n",
       "</style>\n",
       "<table border=\"1\" class=\"dataframe\">\n",
       "  <thead>\n",
       "    <tr style=\"text-align: right;\">\n",
       "      <th></th>\n",
       "      <th>email</th>\n",
       "      <th>gaming</th>\n",
       "      <th>google</th>\n",
       "      <th>netflix</th>\n",
       "      <th>social_media</th>\n",
       "      <th>youtube</th>\n",
       "      <th>other</th>\n",
       "      <th>total</th>\n",
       "    </tr>\n",
       "    <tr>\n",
       "      <th>msisdn/number</th>\n",
       "      <th></th>\n",
       "      <th></th>\n",
       "      <th></th>\n",
       "      <th></th>\n",
       "      <th></th>\n",
       "      <th></th>\n",
       "      <th></th>\n",
       "      <th></th>\n",
       "    </tr>\n",
       "  </thead>\n",
       "  <tbody>\n",
       "    <tr>\n",
       "      <th>3.366371e+10</th>\n",
       "      <td>2.403622e+09</td>\n",
       "      <td>4.616346e+11</td>\n",
       "      <td>8.250702e+09</td>\n",
       "      <td>2.428211e+10</td>\n",
       "      <td>1.974199e+09</td>\n",
       "      <td>2.435073e+10</td>\n",
       "      <td>4.516521e+11</td>\n",
       "      <td>5.319623e+11</td>\n",
       "    </tr>\n",
       "    <tr>\n",
       "      <th>3.361489e+10</th>\n",
       "      <td>4.078863e+07</td>\n",
       "      <td>7.749432e+09</td>\n",
       "      <td>1.279738e+08</td>\n",
       "      <td>3.614010e+08</td>\n",
       "      <td>2.829454e+07</td>\n",
       "      <td>3.943702e+08</td>\n",
       "      <td>7.639264e+09</td>\n",
       "      <td>8.846226e+09</td>\n",
       "    </tr>\n",
       "    <tr>\n",
       "      <th>3.376054e+10</th>\n",
       "      <td>3.369377e+07</td>\n",
       "      <td>7.461045e+09</td>\n",
       "      <td>1.232231e+08</td>\n",
       "      <td>3.346433e+08</td>\n",
       "      <td>3.978319e+07</td>\n",
       "      <td>3.962892e+08</td>\n",
       "      <td>4.716134e+09</td>\n",
       "      <td>8.514774e+09</td>\n",
       "    </tr>\n",
       "    <tr>\n",
       "      <th>3.362578e+10</th>\n",
       "      <td>4.063397e+07</td>\n",
       "      <td>7.326673e+09</td>\n",
       "      <td>1.423079e+08</td>\n",
       "      <td>3.569806e+08</td>\n",
       "      <td>2.713550e+07</td>\n",
       "      <td>4.529588e+08</td>\n",
       "      <td>6.354583e+09</td>\n",
       "      <td>8.499621e+09</td>\n",
       "    </tr>\n",
       "    <tr>\n",
       "      <th>3.362632e+10</th>\n",
       "      <td>4.241878e+07</td>\n",
       "      <td>6.887572e+09</td>\n",
       "      <td>1.521919e+08</td>\n",
       "      <td>3.287257e+08</td>\n",
       "      <td>4.337478e+07</td>\n",
       "      <td>3.744830e+08</td>\n",
       "      <td>8.167878e+09</td>\n",
       "      <td>7.971167e+09</td>\n",
       "    </tr>\n",
       "    <tr>\n",
       "      <th>...</th>\n",
       "      <td>...</td>\n",
       "      <td>...</td>\n",
       "      <td>...</td>\n",
       "      <td>...</td>\n",
       "      <td>...</td>\n",
       "      <td>...</td>\n",
       "      <td>...</td>\n",
       "      <td>...</td>\n",
       "    </tr>\n",
       "    <tr>\n",
       "      <th>3.367548e+10</th>\n",
       "      <td>7.534170e+05</td>\n",
       "      <td>5.847338e+06</td>\n",
       "      <td>1.609008e+06</td>\n",
       "      <td>4.610190e+06</td>\n",
       "      <td>6.144500e+04</td>\n",
       "      <td>2.427441e+07</td>\n",
       "      <td>1.782843e+08</td>\n",
       "      <td>3.802236e+07</td>\n",
       "    </tr>\n",
       "    <tr>\n",
       "      <th>3.378251e+10</th>\n",
       "      <td>9.645170e+05</td>\n",
       "      <td>1.185352e+07</td>\n",
       "      <td>1.585111e+06</td>\n",
       "      <td>8.340757e+06</td>\n",
       "      <td>1.441236e+06</td>\n",
       "      <td>1.100611e+07</td>\n",
       "      <td>3.796406e+08</td>\n",
       "      <td>3.792924e+07</td>\n",
       "    </tr>\n",
       "    <tr>\n",
       "      <th>3.366668e+10</th>\n",
       "      <td>2.576936e+06</td>\n",
       "      <td>1.980834e+06</td>\n",
       "      <td>4.339447e+06</td>\n",
       "      <td>1.743873e+07</td>\n",
       "      <td>7.506630e+05</td>\n",
       "      <td>3.927196e+06</td>\n",
       "      <td>2.987000e+08</td>\n",
       "      <td>3.399962e+07</td>\n",
       "    </tr>\n",
       "    <tr>\n",
       "      <th>3.366132e+10</th>\n",
       "      <td>3.662330e+06</td>\n",
       "      <td>1.020477e+07</td>\n",
       "      <td>3.198272e+06</td>\n",
       "      <td>3.200143e+06</td>\n",
       "      <td>6.234810e+05</td>\n",
       "      <td>1.035866e+07</td>\n",
       "      <td>4.656240e+08</td>\n",
       "      <td>3.357584e+07</td>\n",
       "    </tr>\n",
       "    <tr>\n",
       "      <th>3.365920e+10</th>\n",
       "      <td>3.242840e+05</td>\n",
       "      <td>7.060100e+06</td>\n",
       "      <td>4.088830e+06</td>\n",
       "      <td>6.989557e+06</td>\n",
       "      <td>1.277721e+06</td>\n",
       "      <td>1.266156e+07</td>\n",
       "      <td>5.113630e+08</td>\n",
       "      <td>3.324901e+07</td>\n",
       "    </tr>\n",
       "  </tbody>\n",
       "</table>\n",
       "<p>106856 rows × 8 columns</p>\n",
       "</div>"
      ],
      "text/plain": [
       "                      email        gaming        google       netflix  \\\n",
       "msisdn/number                                                           \n",
       "3.366371e+10   2.403622e+09  4.616346e+11  8.250702e+09  2.428211e+10   \n",
       "3.361489e+10   4.078863e+07  7.749432e+09  1.279738e+08  3.614010e+08   \n",
       "3.376054e+10   3.369377e+07  7.461045e+09  1.232231e+08  3.346433e+08   \n",
       "3.362578e+10   4.063397e+07  7.326673e+09  1.423079e+08  3.569806e+08   \n",
       "3.362632e+10   4.241878e+07  6.887572e+09  1.521919e+08  3.287257e+08   \n",
       "...                     ...           ...           ...           ...   \n",
       "3.367548e+10   7.534170e+05  5.847338e+06  1.609008e+06  4.610190e+06   \n",
       "3.378251e+10   9.645170e+05  1.185352e+07  1.585111e+06  8.340757e+06   \n",
       "3.366668e+10   2.576936e+06  1.980834e+06  4.339447e+06  1.743873e+07   \n",
       "3.366132e+10   3.662330e+06  1.020477e+07  3.198272e+06  3.200143e+06   \n",
       "3.365920e+10   3.242840e+05  7.060100e+06  4.088830e+06  6.989557e+06   \n",
       "\n",
       "               social_media       youtube         other         total  \n",
       "msisdn/number                                                          \n",
       "3.366371e+10   1.974199e+09  2.435073e+10  4.516521e+11  5.319623e+11  \n",
       "3.361489e+10   2.829454e+07  3.943702e+08  7.639264e+09  8.846226e+09  \n",
       "3.376054e+10   3.978319e+07  3.962892e+08  4.716134e+09  8.514774e+09  \n",
       "3.362578e+10   2.713550e+07  4.529588e+08  6.354583e+09  8.499621e+09  \n",
       "3.362632e+10   4.337478e+07  3.744830e+08  8.167878e+09  7.971167e+09  \n",
       "...                     ...           ...           ...           ...  \n",
       "3.367548e+10   6.144500e+04  2.427441e+07  1.782843e+08  3.802236e+07  \n",
       "3.378251e+10   1.441236e+06  1.100611e+07  3.796406e+08  3.792924e+07  \n",
       "3.366668e+10   7.506630e+05  3.927196e+06  2.987000e+08  3.399962e+07  \n",
       "3.366132e+10   6.234810e+05  1.035866e+07  4.656240e+08  3.357584e+07  \n",
       "3.365920e+10   1.277721e+06  1.266156e+07  5.113630e+08  3.324901e+07  \n",
       "\n",
       "[106856 rows x 8 columns]"
      ]
     },
     "execution_count": 48,
     "metadata": {},
     "output_type": "execute_result"
    }
   ],
   "source": [
    "total_data_volume = cleaned_df.groupby([\"msisdn/number\"]).agg({\n",
    "    \"email_dl_(bytes)\": \"sum\",\n",
    "    \"email_ul_(bytes)\": \"sum\",\n",
    "    \"gaming_dl_(bytes)\": \"sum\",\n",
    "    \"gaming_ul_(bytes)\": \"sum\",\n",
    "    \"google_dl_(bytes)\": \"sum\",\n",
    "    \"google_ul_(bytes)\": \"sum\",\n",
    "    \"netflix_dl_(bytes)\": \"sum\",\n",
    "    \"netflix_ul_(bytes)\": \"sum\",\n",
    "    \"other_dl_(bytes)\": \"sum\",\n",
    "    \"other_ul_(bytes)\": \"sum\",\n",
    "    \"social_media_dl_(bytes)\": \"sum\",\n",
    "    \"social_media_ul_(bytes)\": \"sum\",\n",
    "    \"youtube_dl_(bytes)\": \"sum\",\n",
    "    \"youtube_ul_(bytes)\": \"sum\",\n",
    "    \"total_dl_(bytes)\": \"sum\",\n",
    "    \"total_ul_(bytes)\": \"sum\"\n",
    "})[[\"email_dl_(bytes)\",\"email_ul_(bytes)\",\"gaming_dl_(bytes)\",\"gaming_ul_(bytes)\",\"google_dl_(bytes)\",\"google_ul_(bytes)\",\"netflix_dl_(bytes)\",\"netflix_ul_(bytes)\",\"other_dl_(bytes)\",\"other_ul_(bytes)\",\"social_media_dl_(bytes)\",\"social_media_ul_(bytes)\",\"youtube_dl_(bytes)\",\"youtube_ul_(bytes)\",\"total_dl_(bytes)\",\"total_ul_(bytes)\"]]\n",
    "\n",
    "total_data_volume[\"email\"]=total_data_volume[\"email_dl_(bytes)\"] + total_data_volume[\"email_ul_(bytes)\"]\n",
    "total_data_volume[\"gaming\"]=total_data_volume[\"gaming_dl_(bytes)\"] + total_data_volume[\"gaming_ul_(bytes)\"]\n",
    "total_data_volume[\"google\"]=total_data_volume[\"google_dl_(bytes)\"] + total_data_volume[\"google_ul_(bytes)\"]\n",
    "total_data_volume[\"netflix\"]=total_data_volume[\"netflix_dl_(bytes)\"] + total_data_volume[\"netflix_ul_(bytes)\"]\n",
    "total_data_volume[\"social_media\"]=total_data_volume[\"social_media_dl_(bytes)\"] + total_data_volume[\"social_media_ul_(bytes)\"]\n",
    "total_data_volume[\"youtube\"]=total_data_volume[\"youtube_dl_(bytes)\"] + total_data_volume[\"youtube_ul_(bytes)\"]\n",
    "total_data_volume[\"other\"]=total_data_volume[\"other_dl_(bytes)\"] + total_data_volume[\"other_ul_(bytes)\"]\n",
    "total_data_volume[\"total\"]=total_data_volume[\"total_dl_(bytes)\"] + total_data_volume[\"total_ul_(bytes)\"]\n",
    "\n",
    "total_data_volume=total_data_volume[[\"email\",\"gaming\",\"google\",\"netflix\",\"social_media\",\"youtube\",\"other\",\"total\"]]\n",
    "total_data_volume.sort_values(by=[\"total\"],ascending=False,inplace=True)\n",
    "total_data_volume.dropna(axis=0,inplace=True)\n",
    "total_data_volume\n"
   ]
  },
  {
   "cell_type": "code",
   "execution_count": 49,
   "metadata": {},
   "outputs": [
    {
     "data": {
      "text/html": [
       "<div>\n",
       "<style scoped>\n",
       "    .dataframe tbody tr th:only-of-type {\n",
       "        vertical-align: middle;\n",
       "    }\n",
       "\n",
       "    .dataframe tbody tr th {\n",
       "        vertical-align: top;\n",
       "    }\n",
       "\n",
       "    .dataframe thead th {\n",
       "        text-align: right;\n",
       "    }\n",
       "</style>\n",
       "<table border=\"1\" class=\"dataframe\">\n",
       "  <thead>\n",
       "    <tr style=\"text-align: right;\">\n",
       "      <th></th>\n",
       "      <th>email</th>\n",
       "      <th>gaming</th>\n",
       "      <th>google</th>\n",
       "      <th>netflix</th>\n",
       "      <th>social_media</th>\n",
       "      <th>youtube</th>\n",
       "      <th>other</th>\n",
       "      <th>total</th>\n",
       "    </tr>\n",
       "  </thead>\n",
       "  <tbody>\n",
       "    <tr>\n",
       "      <th>count</th>\n",
       "      <td>1.068560e+05</td>\n",
       "      <td>1.068560e+05</td>\n",
       "      <td>1.068560e+05</td>\n",
       "      <td>1.068560e+05</td>\n",
       "      <td>1.068560e+05</td>\n",
       "      <td>1.068560e+05</td>\n",
       "      <td>1.068560e+05</td>\n",
       "      <td>1.068560e+05</td>\n",
       "    </tr>\n",
       "    <tr>\n",
       "      <th>mean</th>\n",
       "      <td>3.171255e+06</td>\n",
       "      <td>6.040877e+08</td>\n",
       "      <td>1.095963e+07</td>\n",
       "      <td>3.176531e+07</td>\n",
       "      <td>2.566439e+06</td>\n",
       "      <td>3.178619e+07</td>\n",
       "      <td>6.027292e+08</td>\n",
       "      <td>6.959384e+08</td>\n",
       "    </tr>\n",
       "    <tr>\n",
       "      <th>std</th>\n",
       "      <td>7.672330e+06</td>\n",
       "      <td>1.480165e+09</td>\n",
       "      <td>2.631175e+07</td>\n",
       "      <td>7.718044e+07</td>\n",
       "      <td>6.326171e+06</td>\n",
       "      <td>7.738362e+07</td>\n",
       "      <td>1.451030e+09</td>\n",
       "      <td>1.697802e+09</td>\n",
       "    </tr>\n",
       "    <tr>\n",
       "      <th>min</th>\n",
       "      <td>1.817600e+04</td>\n",
       "      <td>3.063580e+05</td>\n",
       "      <td>4.033000e+04</td>\n",
       "      <td>1.845690e+05</td>\n",
       "      <td>1.563000e+03</td>\n",
       "      <td>7.890300e+04</td>\n",
       "      <td>1.490450e+05</td>\n",
       "      <td>3.324901e+07</td>\n",
       "    </tr>\n",
       "    <tr>\n",
       "      <th>25%</th>\n",
       "      <td>1.674481e+06</td>\n",
       "      <td>2.880756e+08</td>\n",
       "      <td>5.942698e+06</td>\n",
       "      <td>1.855597e+07</td>\n",
       "      <td>1.211364e+06</td>\n",
       "      <td>1.863157e+07</td>\n",
       "      <td>2.855599e+08</td>\n",
       "      <td>3.585617e+08</td>\n",
       "    </tr>\n",
       "    <tr>\n",
       "      <th>50%</th>\n",
       "      <td>2.799824e+06</td>\n",
       "      <td>5.423560e+08</td>\n",
       "      <td>9.586190e+06</td>\n",
       "      <td>2.671889e+07</td>\n",
       "      <td>2.303820e+06</td>\n",
       "      <td>2.680045e+07</td>\n",
       "      <td>5.398323e+08</td>\n",
       "      <td>6.179299e+08</td>\n",
       "    </tr>\n",
       "    <tr>\n",
       "      <th>75%</th>\n",
       "      <td>3.847206e+06</td>\n",
       "      <td>7.773118e+08</td>\n",
       "      <td>1.321505e+07</td>\n",
       "      <td>3.797737e+07</td>\n",
       "      <td>3.307530e+06</td>\n",
       "      <td>3.792833e+07</td>\n",
       "      <td>7.754190e+08</td>\n",
       "      <td>8.574377e+08</td>\n",
       "    </tr>\n",
       "    <tr>\n",
       "      <th>max</th>\n",
       "      <td>2.403622e+09</td>\n",
       "      <td>4.616346e+11</td>\n",
       "      <td>8.250702e+09</td>\n",
       "      <td>2.428211e+10</td>\n",
       "      <td>1.974199e+09</td>\n",
       "      <td>2.435073e+10</td>\n",
       "      <td>4.516521e+11</td>\n",
       "      <td>5.319623e+11</td>\n",
       "    </tr>\n",
       "  </tbody>\n",
       "</table>\n",
       "</div>"
      ],
      "text/plain": [
       "              email        gaming        google       netflix  social_media  \\\n",
       "count  1.068560e+05  1.068560e+05  1.068560e+05  1.068560e+05  1.068560e+05   \n",
       "mean   3.171255e+06  6.040877e+08  1.095963e+07  3.176531e+07  2.566439e+06   \n",
       "std    7.672330e+06  1.480165e+09  2.631175e+07  7.718044e+07  6.326171e+06   \n",
       "min    1.817600e+04  3.063580e+05  4.033000e+04  1.845690e+05  1.563000e+03   \n",
       "25%    1.674481e+06  2.880756e+08  5.942698e+06  1.855597e+07  1.211364e+06   \n",
       "50%    2.799824e+06  5.423560e+08  9.586190e+06  2.671889e+07  2.303820e+06   \n",
       "75%    3.847206e+06  7.773118e+08  1.321505e+07  3.797737e+07  3.307530e+06   \n",
       "max    2.403622e+09  4.616346e+11  8.250702e+09  2.428211e+10  1.974199e+09   \n",
       "\n",
       "            youtube         other         total  \n",
       "count  1.068560e+05  1.068560e+05  1.068560e+05  \n",
       "mean   3.178619e+07  6.027292e+08  6.959384e+08  \n",
       "std    7.738362e+07  1.451030e+09  1.697802e+09  \n",
       "min    7.890300e+04  1.490450e+05  3.324901e+07  \n",
       "25%    1.863157e+07  2.855599e+08  3.585617e+08  \n",
       "50%    2.680045e+07  5.398323e+08  6.179299e+08  \n",
       "75%    3.792833e+07  7.754190e+08  8.574377e+08  \n",
       "max    2.435073e+10  4.516521e+11  5.319623e+11  "
      ]
     },
     "execution_count": 49,
     "metadata": {},
     "output_type": "execute_result"
    }
   ],
   "source": [
    "total_data_volume.describe()"
   ]
  },
  {
   "cell_type": "code",
   "execution_count": 55,
   "metadata": {},
   "outputs": [
    {
     "data": {
      "image/png": "[encoded data removed]",
      "text/plain": [
       "<Figure size 1000x500 with 1 Axes>"
      ]
     },
     "metadata": {},
     "output_type": "display_data"
    }
   ],
   "source": [
    "pd.DataFrame(total_data_volume.describe()).loc[[\"std\",\"mean\",\"max\"]].plot(kind=\"bar\",title=\"Comparision of Std, mean, and max among apps\",figsize=(10,5))\n",
    "plt.show()"
   ]
  },
  {
   "cell_type": "code",
   "execution_count": null,
   "metadata": {},
   "outputs": [],
   "source": []
  }
 ],
 "metadata": {
  "kernelspec": {
   "display_name": "week-1",
   "language": "python",
   "name": "python3"
  },
  "language_info": {
   "codemirror_mode": {
    "name": "ipython",
    "version": 3
   },
   "file_extension": ".py",
   "mimetype": "text/x-python",
   "name": "python",
   "nbconvert_exporter": "python",
   "pygments_lexer": "ipython3",
   "version": "3.11.4"
  }
 },
 "nbformat": 4,
 "nbformat_minor": 2
}
