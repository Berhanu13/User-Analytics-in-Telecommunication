{
 "cells": [
  {
   "cell_type": "code",
   "execution_count": 8,
   "metadata": {},
   "outputs": [],
   "source": [
    "import sys\n",
    "import pandas as pd\n",
    "import seaborn as sns\n",
    "import matplotlib.pyplot as plt\n",
    "import numpy as np\n",
    "import pickle\n",
    "from data.load_data_from_sql import connect_to_database, read_sql_to_dataframe, close_connection\n",
    "from scripts.cleaner import DataCleaner\n",
    "\n",
    "cleaner = DataCleaner()\n",
    "%matplotlib inline"
   ]
  },
  {
   "cell_type": "code",
   "execution_count": 9,
   "metadata": {},
   "outputs": [],
   "source": [
    "# Function to add the project path to sys.path\n",
    "def add_project_path():\n",
    "    \"\"\"Add the project path to sys.path.\"\"\"\n",
    "    project_path = 'C:\\\\Users\\\\user\\\\Desktop\\\\10 acc\\\\Week 1\\\\User-Analytics-in-Telecom-Industry'\n",
    "    sys.path.append(project_path)"
   ]
  },
  {
   "cell_type": "code",
   "execution_count": 10,
   "metadata": {},
   "outputs": [],
   "source": [
    "# Function to perform the main analysis\n",
    "def main_analysis():\n",
    "    \"\"\"Main function to execute your analysis.\"\"\"\n",
    "    # Add the project path to sys.path\n",
    "    add_project_path()\n",
    "\n",
    "    db_params = {\n",
    "        'dbname': 'week-1',\n",
    "        'user': 'postgres',\n",
    "        'password': 'postgres',\n",
    "        'host': 'localhost',\n",
    "        'port': '5432',\n",
    "    }\n",
    "\n",
    "    # Example query\n",
    "    query = \"SELECT * FROM cleaned_telecom_data;\"\n",
    "\n",
    "    # Connect to the database\n",
    "    conn = connect_to_database(db_params)\n",
    "\n",
    "    # Read results into a Pandas DataFrame\n",
    "    cleaned_df = read_sql_to_dataframe(conn, query)\n",
    "\n",
    "    # Close the database connection\n",
    "    close_connection(conn)\n",
    "\n",
    "\n",
    "    # return the DataFrame\n",
    "    return cleaned_df"
   ]
  },
  {
   "cell_type": "code",
   "execution_count": 11,
   "metadata": {},
   "outputs": [
    {
     "name": "stderr",
     "output_type": "stream",
     "text": [
      "C:\\Users\\user\\Desktop\\10 acc\\Week 1\\User-Analytics-in-Telecom-Industry\\data\\load_data_from_sql.py:21: UserWarning: pandas only supports SQLAlchemy connectable (engine/connection) or database string URI or sqlite3 DBAPI2 connection. Other DBAPI2 objects are not tested. Please consider using SQLAlchemy.\n",
      "  df = pd.read_sql_query(query, conn)\n"
     ]
    },
    {
     "data": {
      "text/html": [
       "<div>\n",
       "<style scoped>\n",
       "    .dataframe tbody tr th:only-of-type {\n",
       "        vertical-align: middle;\n",
       "    }\n",
       "\n",
       "    .dataframe tbody tr th {\n",
       "        vertical-align: top;\n",
       "    }\n",
       "\n",
       "    .dataframe thead th {\n",
       "        text-align: right;\n",
       "    }\n",
       "</style>\n",
       "<table border=\"1\" class=\"dataframe\">\n",
       "  <thead>\n",
       "    <tr style=\"text-align: right;\">\n",
       "      <th></th>\n",
       "      <th>bearer_id</th>\n",
       "      <th>start</th>\n",
       "      <th>start_ms</th>\n",
       "      <th>end</th>\n",
       "      <th>end_ms</th>\n",
       "      <th>dur._(ms)</th>\n",
       "      <th>imsi</th>\n",
       "      <th>msisdn/number</th>\n",
       "      <th>imei</th>\n",
       "      <th>last_location_name</th>\n",
       "      <th>...</th>\n",
       "      <th>youtube_dl_(bytes)</th>\n",
       "      <th>youtube_ul_(bytes)</th>\n",
       "      <th>netflix_dl_(bytes)</th>\n",
       "      <th>netflix_ul_(bytes)</th>\n",
       "      <th>gaming_dl_(bytes)</th>\n",
       "      <th>gaming_ul_(bytes)</th>\n",
       "      <th>other_dl_(bytes)</th>\n",
       "      <th>other_ul_(bytes)</th>\n",
       "      <th>total_ul_(bytes)</th>\n",
       "      <th>total_dl_(bytes)</th>\n",
       "    </tr>\n",
       "  </thead>\n",
       "  <tbody>\n",
       "    <tr>\n",
       "      <th>0</th>\n",
       "      <td>1.311448e+19</td>\n",
       "      <td>2019-04-04 12:01:00</td>\n",
       "      <td>770.0</td>\n",
       "      <td>2019-04-25 14:35:00</td>\n",
       "      <td>662.0</td>\n",
       "      <td>1823652.0</td>\n",
       "      <td>2.082014e+14</td>\n",
       "      <td>3.366496e+10</td>\n",
       "      <td>3.552121e+13</td>\n",
       "      <td>9.16456699548519E+015</td>\n",
       "      <td>...</td>\n",
       "      <td>15854611.0</td>\n",
       "      <td>2501332.0</td>\n",
       "      <td>8198936.0</td>\n",
       "      <td>9656251.0</td>\n",
       "      <td>278082303.0</td>\n",
       "      <td>14344150.0</td>\n",
       "      <td>171744450.0</td>\n",
       "      <td>8814393.0</td>\n",
       "      <td>36749741.0</td>\n",
       "      <td>308879636.0</td>\n",
       "    </tr>\n",
       "    <tr>\n",
       "      <th>1</th>\n",
       "      <td>1.311448e+19</td>\n",
       "      <td>2019-04-09 13:04:00</td>\n",
       "      <td>235.0</td>\n",
       "      <td>2019-04-25 08:15:00</td>\n",
       "      <td>606.0</td>\n",
       "      <td>1365104.0</td>\n",
       "      <td>2.082019e+14</td>\n",
       "      <td>3.368185e+10</td>\n",
       "      <td>3.579401e+13</td>\n",
       "      <td>L77566A</td>\n",
       "      <td>...</td>\n",
       "      <td>20247395.0</td>\n",
       "      <td>19111729.0</td>\n",
       "      <td>18338413.0</td>\n",
       "      <td>17227132.0</td>\n",
       "      <td>608750074.0</td>\n",
       "      <td>1170709.0</td>\n",
       "      <td>526904238.0</td>\n",
       "      <td>15055145.0</td>\n",
       "      <td>53800391.0</td>\n",
       "      <td>653384965.0</td>\n",
       "    </tr>\n",
       "    <tr>\n",
       "      <th>2</th>\n",
       "      <td>1.311448e+19</td>\n",
       "      <td>2019-04-09 17:42:00</td>\n",
       "      <td>1.0</td>\n",
       "      <td>2019-04-25 11:58:00</td>\n",
       "      <td>652.0</td>\n",
       "      <td>1361762.0</td>\n",
       "      <td>2.082003e+14</td>\n",
       "      <td>3.376063e+10</td>\n",
       "      <td>3.528151e+13</td>\n",
       "      <td>D42335A</td>\n",
       "      <td>...</td>\n",
       "      <td>19725661.0</td>\n",
       "      <td>14699576.0</td>\n",
       "      <td>17587794.0</td>\n",
       "      <td>6163408.0</td>\n",
       "      <td>229584621.0</td>\n",
       "      <td>395630.0</td>\n",
       "      <td>410692588.0</td>\n",
       "      <td>4215763.0</td>\n",
       "      <td>27883638.0</td>\n",
       "      <td>279807335.0</td>\n",
       "    </tr>\n",
       "    <tr>\n",
       "      <th>3</th>\n",
       "      <td>1.311448e+19</td>\n",
       "      <td>2019-04-10 00:31:00</td>\n",
       "      <td>486.0</td>\n",
       "      <td>2019-04-25 07:36:00</td>\n",
       "      <td>171.0</td>\n",
       "      <td>1321509.0</td>\n",
       "      <td>2.082014e+14</td>\n",
       "      <td>3.375034e+10</td>\n",
       "      <td>3.535661e+13</td>\n",
       "      <td>T21824A</td>\n",
       "      <td>...</td>\n",
       "      <td>21388122.0</td>\n",
       "      <td>15146643.0</td>\n",
       "      <td>13994646.0</td>\n",
       "      <td>1097942.0</td>\n",
       "      <td>799538153.0</td>\n",
       "      <td>10849722.0</td>\n",
       "      <td>749039933.0</td>\n",
       "      <td>12797283.0</td>\n",
       "      <td>43324218.0</td>\n",
       "      <td>846028530.0</td>\n",
       "    </tr>\n",
       "    <tr>\n",
       "      <th>4</th>\n",
       "      <td>1.311448e+19</td>\n",
       "      <td>2019-04-12 20:10:00</td>\n",
       "      <td>565.0</td>\n",
       "      <td>2019-04-25 10:40:00</td>\n",
       "      <td>954.0</td>\n",
       "      <td>1089009.0</td>\n",
       "      <td>2.082014e+14</td>\n",
       "      <td>3.369980e+10</td>\n",
       "      <td>3.540701e+13</td>\n",
       "      <td>D88865A</td>\n",
       "      <td>...</td>\n",
       "      <td>15259380.0</td>\n",
       "      <td>18962873.0</td>\n",
       "      <td>17124581.0</td>\n",
       "      <td>415218.0</td>\n",
       "      <td>527707248.0</td>\n",
       "      <td>3529801.0</td>\n",
       "      <td>550709500.0</td>\n",
       "      <td>13910322.0</td>\n",
       "      <td>38542814.0</td>\n",
       "      <td>569138589.0</td>\n",
       "    </tr>\n",
       "  </tbody>\n",
       "</table>\n",
       "<p>5 rows × 55 columns</p>\n",
       "</div>"
      ],
      "text/plain": [
       "      bearer_id               start  start_ms                 end  end_ms  \\\n",
       "0  1.311448e+19 2019-04-04 12:01:00     770.0 2019-04-25 14:35:00   662.0   \n",
       "1  1.311448e+19 2019-04-09 13:04:00     235.0 2019-04-25 08:15:00   606.0   \n",
       "2  1.311448e+19 2019-04-09 17:42:00       1.0 2019-04-25 11:58:00   652.0   \n",
       "3  1.311448e+19 2019-04-10 00:31:00     486.0 2019-04-25 07:36:00   171.0   \n",
       "4  1.311448e+19 2019-04-12 20:10:00     565.0 2019-04-25 10:40:00   954.0   \n",
       "\n",
       "   dur._(ms)          imsi  msisdn/number          imei  \\\n",
       "0  1823652.0  2.082014e+14   3.366496e+10  3.552121e+13   \n",
       "1  1365104.0  2.082019e+14   3.368185e+10  3.579401e+13   \n",
       "2  1361762.0  2.082003e+14   3.376063e+10  3.528151e+13   \n",
       "3  1321509.0  2.082014e+14   3.375034e+10  3.535661e+13   \n",
       "4  1089009.0  2.082014e+14   3.369980e+10  3.540701e+13   \n",
       "\n",
       "      last_location_name  ...  youtube_dl_(bytes)  youtube_ul_(bytes)  \\\n",
       "0  9.16456699548519E+015  ...          15854611.0           2501332.0   \n",
       "1                L77566A  ...          20247395.0          19111729.0   \n",
       "2                D42335A  ...          19725661.0          14699576.0   \n",
       "3                T21824A  ...          21388122.0          15146643.0   \n",
       "4                D88865A  ...          15259380.0          18962873.0   \n",
       "\n",
       "   netflix_dl_(bytes)  netflix_ul_(bytes)  gaming_dl_(bytes)  \\\n",
       "0           8198936.0           9656251.0        278082303.0   \n",
       "1          18338413.0          17227132.0        608750074.0   \n",
       "2          17587794.0           6163408.0        229584621.0   \n",
       "3          13994646.0           1097942.0        799538153.0   \n",
       "4          17124581.0            415218.0        527707248.0   \n",
       "\n",
       "   gaming_ul_(bytes)  other_dl_(bytes)  other_ul_(bytes)  total_ul_(bytes)  \\\n",
       "0         14344150.0       171744450.0         8814393.0        36749741.0   \n",
       "1          1170709.0       526904238.0        15055145.0        53800391.0   \n",
       "2           395630.0       410692588.0         4215763.0        27883638.0   \n",
       "3         10849722.0       749039933.0        12797283.0        43324218.0   \n",
       "4          3529801.0       550709500.0        13910322.0        38542814.0   \n",
       "\n",
       "   total_dl_(bytes)  \n",
       "0       308879636.0  \n",
       "1       653384965.0  \n",
       "2       279807335.0  \n",
       "3       846028530.0  \n",
       "4       569138589.0  \n",
       "\n",
       "[5 rows x 55 columns]"
      ]
     },
     "execution_count": 11,
     "metadata": {},
     "output_type": "execute_result"
    }
   ],
   "source": [
    "# Call the main analysis function\n",
    "cleaned_df = main_analysis()\n",
    "cleaned_df.head()"
   ]
  },
  {
   "cell_type": "code",
   "execution_count": 12,
   "metadata": {},
   "outputs": [
    {
     "name": "stdout",
     "output_type": "stream",
     "text": [
      "<class 'pandas.core.frame.DataFrame'>\n",
      "RangeIndex: 150001 entries, 0 to 150000\n",
      "Data columns (total 55 columns):\n",
      " #   Column                                    Non-Null Count   Dtype         \n",
      "---  ------                                    --------------   -----         \n",
      " 0   bearer_id                                 150001 non-null  float64       \n",
      " 1   start                                     150001 non-null  datetime64[ns]\n",
      " 2   start_ms                                  150001 non-null  float64       \n",
      " 3   end                                       150001 non-null  datetime64[ns]\n",
      " 4   end_ms                                    150001 non-null  float64       \n",
      " 5   dur._(ms)                                 150001 non-null  float64       \n",
      " 6   imsi                                      150001 non-null  float64       \n",
      " 7   msisdn/number                             150001 non-null  float64       \n",
      " 8   imei                                      150001 non-null  float64       \n",
      " 9   last_location_name                        150001 non-null  object        \n",
      " 10  avg_rtt_dl_(ms)                           150001 non-null  float64       \n",
      " 11  avg_rtt_ul_(ms)                           150001 non-null  float64       \n",
      " 12  avg_bearer_tp_dl_(kbps)                   150001 non-null  float64       \n",
      " 13  avg_bearer_tp_ul_(kbps)                   150001 non-null  float64       \n",
      " 14  tcp_dl_retrans._vol_(bytes)               150001 non-null  float64       \n",
      " 15  tcp_ul_retrans._vol_(bytes)               150001 non-null  float64       \n",
      " 16  dl_tp_<_50_kbps_(%)                       150001 non-null  float64       \n",
      " 17  50_kbps_<_dl_tp_<_250_kbps_(%)            150001 non-null  float64       \n",
      " 18  250_kbps_<_dl_tp_<_1_mbps_(%)             150001 non-null  float64       \n",
      " 19  dl_tp_>_1_mbps_(%)                        150001 non-null  float64       \n",
      " 20  ul_tp_<_10_kbps_(%)                       150001 non-null  float64       \n",
      " 21  10_kbps_<_ul_tp_<_50_kbps_(%)             150001 non-null  float64       \n",
      " 22  50_kbps_<_ul_tp_<_300_kbps_(%)            150001 non-null  float64       \n",
      " 23  ul_tp_>_300_kbps_(%)                      150001 non-null  float64       \n",
      " 24  http_dl_(bytes)                           150001 non-null  float64       \n",
      " 25  http_ul_(bytes)                           150001 non-null  float64       \n",
      " 26  activity_duration_dl_(ms)                 150001 non-null  float64       \n",
      " 27  activity_duration_ul_(ms)                 150001 non-null  float64       \n",
      " 28  dur._(ms).1                               150001 non-null  float64       \n",
      " 29  handset_manufacturer                      150001 non-null  object        \n",
      " 30  handset_type                              150001 non-null  object        \n",
      " 31  nb_of_sec_with_125000b_<_vol_dl           150001 non-null  float64       \n",
      " 32  nb_of_sec_with_1250b_<_vol_ul_<_6250b     150001 non-null  float64       \n",
      " 33  nb_of_sec_with_31250b_<_vol_dl_<_125000b  150001 non-null  float64       \n",
      " 34  nb_of_sec_with_37500b_<_vol_ul            150001 non-null  float64       \n",
      " 35  nb_of_sec_with_6250b_<_vol_dl_<_31250b    150001 non-null  float64       \n",
      " 36  nb_of_sec_with_6250b_<_vol_ul_<_37500b    150001 non-null  float64       \n",
      " 37  nb_of_sec_with_vol_dl_<_6250b             150001 non-null  float64       \n",
      " 38  nb_of_sec_with_vol_ul_<_1250b             150001 non-null  float64       \n",
      " 39  social_media_dl_(bytes)                   150001 non-null  float64       \n",
      " 40  social_media_ul_(bytes)                   150001 non-null  float64       \n",
      " 41  google_dl_(bytes)                         150001 non-null  float64       \n",
      " 42  google_ul_(bytes)                         150001 non-null  float64       \n",
      " 43  email_dl_(bytes)                          150001 non-null  float64       \n",
      " 44  email_ul_(bytes)                          150001 non-null  float64       \n",
      " 45  youtube_dl_(bytes)                        150001 non-null  float64       \n",
      " 46  youtube_ul_(bytes)                        150001 non-null  float64       \n",
      " 47  netflix_dl_(bytes)                        150001 non-null  float64       \n",
      " 48  netflix_ul_(bytes)                        150001 non-null  float64       \n",
      " 49  gaming_dl_(bytes)                         150001 non-null  float64       \n",
      " 50  gaming_ul_(bytes)                         150001 non-null  float64       \n",
      " 51  other_dl_(bytes)                          150001 non-null  float64       \n",
      " 52  other_ul_(bytes)                          150001 non-null  float64       \n",
      " 53  total_ul_(bytes)                          150001 non-null  float64       \n",
      " 54  total_dl_(bytes)                          150001 non-null  float64       \n",
      "dtypes: datetime64[ns](2), float64(50), object(3)\n",
      "memory usage: 62.9+ MB\n"
     ]
    }
   ],
   "source": [
    "cleaned_df.info()"
   ]
  },
  {
   "cell_type": "code",
   "execution_count": 13,
   "metadata": {},
   "outputs": [
    {
     "data": {
      "text/plain": [
       "bearer_id                                   0\n",
       "start                                       0\n",
       "start_ms                                    0\n",
       "end                                         0\n",
       "end_ms                                      0\n",
       "dur._(ms)                                   0\n",
       "imsi                                        0\n",
       "msisdn/number                               0\n",
       "imei                                        0\n",
       "last_location_name                          0\n",
       "avg_rtt_dl_(ms)                             0\n",
       "avg_rtt_ul_(ms)                             0\n",
       "avg_bearer_tp_dl_(kbps)                     0\n",
       "avg_bearer_tp_ul_(kbps)                     0\n",
       "tcp_dl_retrans._vol_(bytes)                 0\n",
       "tcp_ul_retrans._vol_(bytes)                 0\n",
       "dl_tp_<_50_kbps_(%)                         0\n",
       "50_kbps_<_dl_tp_<_250_kbps_(%)              0\n",
       "250_kbps_<_dl_tp_<_1_mbps_(%)               0\n",
       "dl_tp_>_1_mbps_(%)                          0\n",
       "ul_tp_<_10_kbps_(%)                         0\n",
       "10_kbps_<_ul_tp_<_50_kbps_(%)               0\n",
       "50_kbps_<_ul_tp_<_300_kbps_(%)              0\n",
       "ul_tp_>_300_kbps_(%)                        0\n",
       "http_dl_(bytes)                             0\n",
       "http_ul_(bytes)                             0\n",
       "activity_duration_dl_(ms)                   0\n",
       "activity_duration_ul_(ms)                   0\n",
       "dur._(ms).1                                 0\n",
       "handset_manufacturer                        0\n",
       "handset_type                                0\n",
       "nb_of_sec_with_125000b_<_vol_dl             0\n",
       "nb_of_sec_with_1250b_<_vol_ul_<_6250b       0\n",
       "nb_of_sec_with_31250b_<_vol_dl_<_125000b    0\n",
       "nb_of_sec_with_37500b_<_vol_ul              0\n",
       "nb_of_sec_with_6250b_<_vol_dl_<_31250b      0\n",
       "nb_of_sec_with_6250b_<_vol_ul_<_37500b      0\n",
       "nb_of_sec_with_vol_dl_<_6250b               0\n",
       "nb_of_sec_with_vol_ul_<_1250b               0\n",
       "social_media_dl_(bytes)                     0\n",
       "social_media_ul_(bytes)                     0\n",
       "google_dl_(bytes)                           0\n",
       "google_ul_(bytes)                           0\n",
       "email_dl_(bytes)                            0\n",
       "email_ul_(bytes)                            0\n",
       "youtube_dl_(bytes)                          0\n",
       "youtube_ul_(bytes)                          0\n",
       "netflix_dl_(bytes)                          0\n",
       "netflix_ul_(bytes)                          0\n",
       "gaming_dl_(bytes)                           0\n",
       "gaming_ul_(bytes)                           0\n",
       "other_dl_(bytes)                            0\n",
       "other_ul_(bytes)                            0\n",
       "total_ul_(bytes)                            0\n",
       "total_dl_(bytes)                            0\n",
       "dtype: int64"
      ]
     },
     "execution_count": 13,
     "metadata": {},
     "output_type": "execute_result"
    }
   ],
   "source": [
    "cleaned_df.isnull().sum()"
   ]
  },
  {
   "cell_type": "markdown",
   "metadata": {},
   "source": [
    "### Task 2"
   ]
  },
  {
   "cell_type": "code",
   "execution_count": 14,
   "metadata": {},
   "outputs": [
    {
     "data": {
      "text/plain": [
       "Huawei B528S-23A                20324\n",
       "Apple iPhone 6S (A1688)          9419\n",
       "Apple iPhone 6 (A1586)           9023\n",
       "undefined                        8987\n",
       "Apple iPhone 7 (A1778)           6326\n",
       "Apple iPhone Se (A1723)          5187\n",
       "Apple iPhone 8 (A1905)           4993\n",
       "Apple iPhone Xr (A2105)          4568\n",
       "Samsung Galaxy S8 (Sm-G950F)     4520\n",
       "Apple iPhone X (A1901)           3813\n",
       "Name: handset_type, dtype: int64"
      ]
     },
     "execution_count": 14,
     "metadata": {},
     "output_type": "execute_result"
    }
   ],
   "source": [
    "# top 10 handsets used by the customers\n",
    "cleaned_df[\"handset_type\"].value_counts().head(10)"
   ]
  },
  {
   "cell_type": "code",
   "execution_count": 15,
   "metadata": {},
   "outputs": [
    {
     "data": {
      "text/plain": [
       "Apple      60137\n",
       "Samsung    40839\n",
       "Huawei     34423\n",
       "Name: handset_manufacturer, dtype: int64"
      ]
     },
     "execution_count": 15,
     "metadata": {},
     "output_type": "execute_result"
    }
   ],
   "source": [
    "# top 3 handset manufacturers\n",
    "cleaned_df[\"handset_manufacturer\"].value_counts().head(3)"
   ]
  },
  {
   "cell_type": "code",
   "execution_count": 16,
   "metadata": {},
   "outputs": [
    {
     "data": {
      "text/html": [
       "<div>\n",
       "<style scoped>\n",
       "    .dataframe tbody tr th:only-of-type {\n",
       "        vertical-align: middle;\n",
       "    }\n",
       "\n",
       "    .dataframe tbody tr th {\n",
       "        vertical-align: top;\n",
       "    }\n",
       "\n",
       "    .dataframe thead th {\n",
       "        text-align: right;\n",
       "    }\n",
       "</style>\n",
       "<table border=\"1\" class=\"dataframe\">\n",
       "  <thead>\n",
       "    <tr style=\"text-align: right;\">\n",
       "      <th></th>\n",
       "      <th>handset_manufacturer</th>\n",
       "      <th>handset_type</th>\n",
       "    </tr>\n",
       "  </thead>\n",
       "  <tbody>\n",
       "    <tr>\n",
       "      <th>0</th>\n",
       "      <td>Samsung</td>\n",
       "      <td>Samsung Galaxy A5 Sm-A520F</td>\n",
       "    </tr>\n",
       "    <tr>\n",
       "      <th>1</th>\n",
       "      <td>Samsung</td>\n",
       "      <td>Samsung Galaxy J5 (Sm-J530)</td>\n",
       "    </tr>\n",
       "    <tr>\n",
       "      <th>2</th>\n",
       "      <td>Samsung</td>\n",
       "      <td>Samsung Galaxy A8 (2018)</td>\n",
       "    </tr>\n",
       "    <tr>\n",
       "      <th>4</th>\n",
       "      <td>Samsung</td>\n",
       "      <td>Samsung Sm-G390F</td>\n",
       "    </tr>\n",
       "    <tr>\n",
       "      <th>6</th>\n",
       "      <td>Huawei</td>\n",
       "      <td>Huawei Mate 20 Lite</td>\n",
       "    </tr>\n",
       "    <tr>\n",
       "      <th>...</th>\n",
       "      <td>...</td>\n",
       "      <td>...</td>\n",
       "    </tr>\n",
       "    <tr>\n",
       "      <th>149996</th>\n",
       "      <td>Apple</td>\n",
       "      <td>Apple iPhone 8 Plus (A1897)</td>\n",
       "    </tr>\n",
       "    <tr>\n",
       "      <th>149997</th>\n",
       "      <td>Apple</td>\n",
       "      <td>Apple iPhone Se (A1723)</td>\n",
       "    </tr>\n",
       "    <tr>\n",
       "      <th>149998</th>\n",
       "      <td>Apple</td>\n",
       "      <td>Apple iPhone Xs (A2097)</td>\n",
       "    </tr>\n",
       "    <tr>\n",
       "      <th>149999</th>\n",
       "      <td>Huawei</td>\n",
       "      <td>Huawei Fig-Lx1</td>\n",
       "    </tr>\n",
       "    <tr>\n",
       "      <th>150000</th>\n",
       "      <td>Apple</td>\n",
       "      <td>Huawei B528S-23A</td>\n",
       "    </tr>\n",
       "  </tbody>\n",
       "</table>\n",
       "<p>135399 rows × 2 columns</p>\n",
       "</div>"
      ],
      "text/plain": [
       "       handset_manufacturer                 handset_type\n",
       "0                   Samsung   Samsung Galaxy A5 Sm-A520F\n",
       "1                   Samsung  Samsung Galaxy J5 (Sm-J530)\n",
       "2                   Samsung     Samsung Galaxy A8 (2018)\n",
       "4                   Samsung             Samsung Sm-G390F\n",
       "6                    Huawei          Huawei Mate 20 Lite\n",
       "...                     ...                          ...\n",
       "149996                Apple  Apple iPhone 8 Plus (A1897)\n",
       "149997                Apple      Apple iPhone Se (A1723)\n",
       "149998                Apple      Apple iPhone Xs (A2097)\n",
       "149999               Huawei               Huawei Fig-Lx1\n",
       "150000                Apple             Huawei B528S-23A\n",
       "\n",
       "[135399 rows x 2 columns]"
      ]
     },
     "execution_count": 16,
     "metadata": {},
     "output_type": "execute_result"
    }
   ],
   "source": [
    "# top 5 handsets per top 3 handset manufacturer\n",
    "handsets_per_manufacturers=cleaned_df[cleaned_df[\"handset_manufacturer\"].str.contains(\"Apple|Samsung|Huawei\") ][[\"handset_manufacturer\",\"handset_type\"]]\n",
    "handsets_per_manufacturers"
   ]
  },
  {
   "cell_type": "code",
   "execution_count": 17,
   "metadata": {},
   "outputs": [
    {
     "name": "stderr",
     "output_type": "stream",
     "text": [
      "C:\\Users\\user\\AppData\\Local\\Temp\\ipykernel_9836\\3955900147.py:1: FutureWarning: In a future version of pandas, a length 1 tuple will be returned when iterating over a groupby with a grouper equal to a list of length 1. Don't supply a list with a single grouper to avoid this warning.\n",
      "  list(handsets_per_manufacturers.groupby([\"handset_manufacturer\"]))[0][1][\"handset_type\"].value_counts().head(5)\n"
     ]
    },
    {
     "data": {
      "text/plain": [
       "Apple iPhone 6S (A1688)    9419\n",
       "Apple iPhone 6 (A1586)     9023\n",
       "Apple iPhone 7 (A1778)     6326\n",
       "Apple iPhone Se (A1723)    5187\n",
       "Apple iPhone 8 (A1905)     4993\n",
       "Name: handset_type, dtype: int64"
      ]
     },
     "execution_count": 17,
     "metadata": {},
     "output_type": "execute_result"
    }
   ],
   "source": [
    "list(handsets_per_manufacturers.groupby([\"handset_manufacturer\"]))[0][1][\"handset_type\"].value_counts().head(5)"
   ]
  },
  {
   "cell_type": "code",
   "execution_count": 18,
   "metadata": {},
   "outputs": [
    {
     "name": "stderr",
     "output_type": "stream",
     "text": [
      "C:\\Users\\user\\AppData\\Local\\Temp\\ipykernel_9836\\1670706610.py:1: FutureWarning: In a future version of pandas, a length 1 tuple will be returned when iterating over a groupby with a grouper equal to a list of length 1. Don't supply a list with a single grouper to avoid this warning.\n",
      "  list(handsets_per_manufacturers.groupby([\"handset_manufacturer\"]))[1][1][\"handset_type\"].value_counts().head(5)\n"
     ]
    },
    {
     "data": {
      "text/plain": [
       "Huawei B528S-23A                  19752\n",
       "Huawei E5180                       2079\n",
       "Huawei P20 Lite Huawei Nova 3E     2021\n",
       "Huawei P20                         1480\n",
       "Huawei Y6 2018                      997\n",
       "Name: handset_type, dtype: int64"
      ]
     },
     "execution_count": 18,
     "metadata": {},
     "output_type": "execute_result"
    }
   ],
   "source": [
    "list(handsets_per_manufacturers.groupby([\"handset_manufacturer\"]))[1][1][\"handset_type\"].value_counts().head(5)"
   ]
  },
  {
   "cell_type": "code",
   "execution_count": 19,
   "metadata": {},
   "outputs": [
    {
     "name": "stderr",
     "output_type": "stream",
     "text": [
      "C:\\Users\\user\\AppData\\Local\\Temp\\ipykernel_9836\\2986698792.py:1: FutureWarning: In a future version of pandas, a length 1 tuple will be returned when iterating over a groupby with a grouper equal to a list of length 1. Don't supply a list with a single grouper to avoid this warning.\n",
      "  list(handsets_per_manufacturers.groupby([\"handset_manufacturer\"]))[2][1][\"handset_type\"].value_counts().head(5)\n"
     ]
    },
    {
     "data": {
      "text/plain": [
       "Samsung Galaxy S8 (Sm-G950F)    4520\n",
       "Samsung Galaxy A5 Sm-A520F      3724\n",
       "Samsung Galaxy J5 (Sm-J530)     3696\n",
       "Samsung Galaxy J3 (Sm-J330)     3484\n",
       "Samsung Galaxy S7 (Sm-G930X)    3199\n",
       "Name: handset_type, dtype: int64"
      ]
     },
     "execution_count": 19,
     "metadata": {},
     "output_type": "execute_result"
    }
   ],
   "source": [
    "list(handsets_per_manufacturers.groupby([\"handset_manufacturer\"]))[2][1][\"handset_type\"].value_counts().head(5)"
   ]
  },
  {
   "cell_type": "markdown",
   "metadata": {},
   "source": [
    "#### Interpretation"
   ]
  },
  {
   "cell_type": "markdown",
   "metadata": {},
   "source": []
  },
  {
   "cell_type": "markdown",
   "metadata": {},
   "source": [
    "#### Recommendation to marketing teams"
   ]
  },
  {
   "cell_type": "markdown",
   "metadata": {},
   "source": []
  }
 ],
 "metadata": {
  "kernelspec": {
   "display_name": "week-1",
   "language": "python",
   "name": "python3"
  },
  "language_info": {
   "codemirror_mode": {
    "name": "ipython",
    "version": 3
   },
   "file_extension": ".py",
   "mimetype": "text/x-python",
   "name": "python",
   "nbconvert_exporter": "python",
   "pygments_lexer": "ipython3",
   "version": "3.11.4"
  }
 },
 "nbformat": 4,
 "nbformat_minor": 2
}
